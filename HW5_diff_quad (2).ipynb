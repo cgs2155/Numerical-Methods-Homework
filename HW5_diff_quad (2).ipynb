{
 "cells": [
  {
   "cell_type": "markdown",
   "id": "3433b920",
   "metadata": {},
   "source": [
    "Before you turn this problem in, make sure everything runs as expected. First, restart the kernel (in the menubar, select Kernel $\\rightarrow$ Restart) and then run all cells (in the menubar, select Cell $\\rightarrow$ Run All).\n",
    "\n",
    "Make sure you fill in any place that says YOUR CODE HERE or \"YOUR ANSWER HERE\", as well as your name and collaborators below:"
   ]
  },
  {
   "cell_type": "code",
   "execution_count": 1,
   "id": "08917e43",
   "metadata": {},
   "outputs": [],
   "source": [
    "%matplotlib inline\n",
    "%precision 16\n",
    "import numpy\n",
    "import matplotlib.pyplot as plt"
   ]
  },
  {
   "cell_type": "markdown",
   "id": "3e253256",
   "metadata": {
    "deletable": false,
    "editable": false,
    "nbgrader": {
     "cell_type": "markdown",
     "checksum": "501a1c819b64d93a63daffcf5dd3d042",
     "grade": false,
     "grade_id": "cell-3336298175051145",
     "locked": true,
     "schema_version": 3,
     "solution": false
    }
   },
   "source": [
    "Before you turn this problem in, make sure everything runs as expected. First, restart the kernel (in the menubar, select Kernel $\\rightarrow$ Restart) and then run all cells (in the menubar, select Cell $\\rightarrow$ Run All).\n",
    "\n",
    "Make sure you fill in any place that says YOUR CODE HERE or \"YOUR ANSWER HERE\", as well as your name and collaborators below:"
   ]
  },
  {
   "cell_type": "markdown",
   "id": "6426de32",
   "metadata": {},
   "source": [
    "# Name: Ciro Salcedo\n",
    "\n",
    "## Collaborators: Yelissa Lopez, Victor Zhou, Ceasar Stringfield"
   ]
  },
  {
   "cell_type": "markdown",
   "id": "ad6647ca",
   "metadata": {
    "deletable": false,
    "editable": false,
    "nbgrader": {
     "cell_type": "markdown",
     "checksum": "fcf3b2b91a8f7b24d4600bfa299d76bf",
     "grade": false,
     "grade_id": "cell-8922434501433849",
     "locked": true,
     "schema_version": 3,
     "solution": false
    }
   },
   "source": [
    "# HW 5:  Numerical Differentiation and Quadrature"
   ]
  },
  {
   "cell_type": "markdown",
   "id": "92140a0b",
   "metadata": {
    "deletable": false,
    "editable": false,
    "nbgrader": {
     "cell_type": "markdown",
     "checksum": "0cb80782496bbb377e600c508305acf4",
     "grade": false,
     "grade_id": "cell-3dd132bf19336aa2",
     "locked": true,
     "schema_version": 3,
     "solution": false
    }
   },
   "source": [
    "## Question 1 - Fundamental Theorem of Calculus"
   ]
  },
  {
   "cell_type": "markdown",
   "id": "ea15d039",
   "metadata": {
    "deletable": false,
    "editable": false,
    "nbgrader": {
     "cell_type": "markdown",
     "checksum": "213c66327c6e028d34375e660f60d191",
     "grade": false,
     "grade_id": "cell-4786948169516101",
     "locked": true,
     "schema_version": 3,
     "solution": false
    }
   },
   "source": [
    "**(a)** [10] Write a function that computes the integral of the derivative \n",
    "\n",
    "$$I[f] = \\int^x_0 f'(s) ds$$\n",
    "\n",
    "and returns the error from the expected calculation.  Use a second order accurate centered difference scheme and then a left-hand rule to compute the absolute error.  In this case the left-hand quadrature is\n",
    "\n",
    "$$Q[f] = f(x_i) \\Delta x$$\n",
    "\n",
    "The function should take in $x$ values and the function $f(x)$ and return a vector of the **errors** for each value $x$ given."
   ]
  },
  {
   "cell_type": "code",
   "execution_count": 50,
   "id": "3f038113",
   "metadata": {
    "deletable": false,
    "nbgrader": {
     "cell_type": "code",
     "checksum": "b1a168b01a26cea27781fe894d5391a9",
     "grade": false,
     "grade_id": "cell-491150310177092",
     "locked": false,
     "schema_version": 3,
     "solution": true
    }
   },
   "outputs": [],
   "source": [
    "def int_diff_error(x, f):\n",
    "    # YOUR CODE HERE\n",
    "    error = numpy.empty(x.shape)\n",
    "    N = 100\n",
    "    \n",
    "    for j, y in enumerate(x):\n",
    "        if j == 0:\n",
    "            error[j] = 0 \n",
    "        else:\n",
    "            x_hat = numpy.linspace(0, y, N) #creating points between 0 and the current point\n",
    "            delta_x = x_hat[1] - x_hat[0] \n",
    "\n",
    "            f_prime_hat = numpy.empty(x_hat.shape)\n",
    "            #special cases for end points\n",
    "            f_prime_hat[1:-1] = (f(x_hat[2:]) - f(x_hat[:-2])) / (2 * delta_x) \n",
    "            f_prime_hat[0] = (f(x_hat[1]) - f(x_hat[0])) / delta_x \n",
    "            f_prime_hat[-1] = (f(x_hat[-1]) - f(x_hat[-2])) / delta_x\n",
    "\n",
    "            I_hat = f_prime_hat[0] * delta_x \n",
    "\n",
    "            for i in range(1, N):\n",
    "                I_hat += f_prime_hat[i]  * delta_x \n",
    "\n",
    "            error[j] = numpy.abs(I_hat - ( f(y) - f(0) ))  \n",
    "    return error"
   ]
  },
  {
   "cell_type": "code",
   "execution_count": 39,
   "id": "cba5a18c",
   "metadata": {
    "deletable": false,
    "editable": false,
    "nbgrader": {
     "cell_type": "code",
     "checksum": "6d72bbf9029cbdf2ffdfce574e5d799b",
     "grade": true,
     "grade_id": "cell-5849927575491632",
     "locked": true,
     "points": 10,
     "schema_version": 3,
     "solution": false
    }
   },
   "outputs": [
    {
     "name": "stdout",
     "output_type": "stream",
     "text": [
      "0.00515051510250486\n",
      "Successful FTC evaluation.\n"
     ]
    }
   ],
   "source": [
    "f = lambda x: 1.0 / (1.0 + 100.0 * x**2)\n",
    "x = numpy.linspace(0.0, 1.0, 500)\n",
    "print(numpy.max(int_diff_error(x, f)))\n",
    "numpy.testing.assert_allclose(int_diff_error(x, f), numpy.zeros(500), atol=1e-2)\n",
    "print(\"Successful FTC evaluation.\")"
   ]
  },
  {
   "cell_type": "markdown",
   "id": "5003155f",
   "metadata": {
    "deletable": false,
    "editable": false,
    "nbgrader": {
     "cell_type": "markdown",
     "checksum": "f87a04a23dfceda35de3e2ea5d1eb3f4",
     "grade": false,
     "grade_id": "cell-398741922450368",
     "locked": true,
     "schema_version": 3,
     "solution": false
    }
   },
   "source": [
    "**(b)** [10] Compute the same as above except reverse the order of the operations, i.e.\n",
    "\n",
    "$$D[f] = \\frac{\\text{d}}{\\text{d}x} \\int^x_0 f(s) ds$$\n"
   ]
  },
  {
   "cell_type": "code",
   "execution_count": 53,
   "id": "a530433a",
   "metadata": {
    "deletable": false,
    "nbgrader": {
     "cell_type": "code",
     "checksum": "f404f7d6673d1bd3ae49398655146b98",
     "grade": false,
     "grade_id": "cell-2858462487069013",
     "locked": false,
     "schema_version": 3,
     "solution": true
    }
   },
   "outputs": [],
   "source": [
    "def diff_int_error(x, f):\n",
    "    # YOUR CODE HERE\n",
    "    error = numpy.empty(x.shape)\n",
    "    N = 100\n",
    "    \n",
    "    for j,y in enumerate(x):\n",
    "        if j == 0:\n",
    "            error[j] = 0\n",
    "        else:\n",
    "            x_hat = numpy.linspace(0,y,N)\n",
    "            delta_x = x_hat[1] - x_hat[0]\n",
    "            \n",
    "            I_hat = numpy.zeros(x_hat.shape)\n",
    "            I_hat[0] = f(x_hat[0]) *delta_x\n",
    "            for i in range(1,N):\n",
    "                I_hat[i] = I_hat[i - 1] + f(x_hat[i]) * delta_x \n",
    "    \n",
    "            I_prime_hat = (I_hat[-1] - I_hat[-2]) / delta_x \n",
    "\n",
    "            error[j] = numpy.abs(I_prime_hat - f(y))\n",
    "                \n",
    "    return error"
   ]
  },
  {
   "cell_type": "code",
   "execution_count": 54,
   "id": "6e683216",
   "metadata": {
    "deletable": false,
    "editable": false,
    "nbgrader": {
     "cell_type": "code",
     "checksum": "b640afe1e89308c99ff448f7d088ea77",
     "grade": true,
     "grade_id": "cell-9269759256102392",
     "locked": true,
     "points": 10,
     "schema_version": 3,
     "solution": false
    }
   },
   "outputs": [
    {
     "name": "stdout",
     "output_type": "stream",
     "text": [
      "9.769962616701378e-15\n",
      "Successful FTC evaluation.\n"
     ]
    }
   ],
   "source": [
    "f = lambda x: 1.0 / (1.0 + 100.0 * x**2)\n",
    "x = numpy.linspace(0.0, 1.0, 500)\n",
    "print(numpy.max(diff_int_error(x, f)))\n",
    "numpy.testing.assert_allclose(diff_int_error(x, f), numpy.zeros(500), atol=1e-2)\n",
    "print(\"Successful FTC evaluation.\")"
   ]
  },
  {
   "cell_type": "markdown",
   "id": "a0ad02be",
   "metadata": {
    "deletable": false,
    "editable": false,
    "nbgrader": {
     "cell_type": "markdown",
     "checksum": "d5a6be351add52398f2ca8c0bd30b3ac",
     "grade": false,
     "grade_id": "cell-4823234321128257",
     "locked": true,
     "schema_version": 3,
     "solution": false
    }
   },
   "source": [
    "**(c)** [5] Plot the convergence rate for the number of partitions `N = [10,100,200,300,400,500]` on a `loglog` plot by computing the norm over the error given for each $N$ by using the `numpy.linalg.norm` command with `ord=numpy.infty` vs. the $\\Delta x$ used.  Theorize about what you observe regarding the order of convergence."
   ]
  },
  {
   "cell_type": "markdown",
   "id": "64e094bb",
   "metadata": {
    "deletable": false,
    "nbgrader": {
     "cell_type": "markdown",
     "checksum": "a85fe7f59c2387591e4923af032a9f9f",
     "grade": true,
     "grade_id": "cell-3078294713448626",
     "locked": false,
     "points": 1,
     "schema_version": 3,
     "solution": true
    }
   },
   "source": [
    "YOUR ANSWER HERE"
   ]
  },
  {
   "cell_type": "code",
   "execution_count": 55,
   "id": "0d66d849",
   "metadata": {
    "deletable": false,
    "nbgrader": {
     "cell_type": "code",
     "checksum": "3a70a655c05f0733252b89434fcf4627",
     "grade": true,
     "grade_id": "cell-3749304040102472",
     "locked": false,
     "points": 4,
     "schema_version": 3,
     "solution": true
    }
   },
   "outputs": [
    {
     "data": {
      "image/png": "[encoded data removed]",
      "text/plain": [
       "<Figure size 432x288 with 1 Axes>"
      ]
     },
     "metadata": {
      "needs_background": "light"
     },
     "output_type": "display_data"
    }
   ],
   "source": [
    "# YOUR CODE HERE\n",
    "num_partitions = [10,100,200,300,400,500]\n",
    "delta_x = numpy.empty(len(num_partitions))\n",
    "error_I = numpy.empty(len(num_partitions))\n",
    "error_D = numpy.empty(len(num_partitions))\n",
    "\n",
    "for (j, N) in enumerate(num_partitions):\n",
    "    x_hat = numpy.linspace(0.0, 1.0, N + 1)\n",
    "    delta_x[j] = x_hat[1] - x_hat[0]\n",
    "    \n",
    "    f_prime_I = numpy.empty(x_hat.shape)\n",
    "    f_prime_I[1:-1] = (f(x_hat[2:]) - f(x_hat[:-2])) / (2 * delta_x[j])\n",
    "    f_prime_I[0] = (f(x_hat[1]) - f(x_hat[0])) / delta_x[j]\n",
    "    f_prime_I[-1] = (f(x_hat[-1]) - f(x_hat[-2])) / delta_x[j]\n",
    "\n",
    "    I = numpy.zeros(x_hat.shape)\n",
    "    I[0] = f_prime_I[0] * delta_x[j]\n",
    "    for i in range(1, N + 1):\n",
    "        I[i] = I[i - 1] + f_prime_I[i]  * delta_x[j]\n",
    "    error_I[j] = numpy.linalg.norm(numpy.abs( I - (f(x_hat) - f(0.0)) ),  ord=numpy.infty)\n",
    "    \n",
    "    I_D = numpy.zeros(x_hat.shape)\n",
    "    I_D[0] = f(x_hat[0]) * delta_x[j]\n",
    "    for i in range(1, N + 1):\n",
    "        I_D[i] = I_D[i - 1] + f(x_hat[i]) * delta_x[j]\n",
    "    \n",
    "    I_prime_D = numpy.empty(x_hat.shape)\n",
    "    I_prime_D[1:-1] = I_D[2:] -I_D[:-2] / (2 * delta_x[j])\n",
    "    I_prime_D[0] = I_D[1] - I_D[0] / delta_x[j]\n",
    "    I_prime_D[-1] = I_D[-1] - I_D[-2] / delta_x[j]\n",
    "\n",
    "    error_D[j] = numpy.linalg.norm(numpy.abs(I_prime_D - f(x_hat)),  ord=numpy.infty)    \n",
    "    \n",
    "fig = plt.figure()\n",
    "axes = fig.add_subplot(1, 1, 1)\n",
    "\n",
    "axes.loglog(delta_x, error_I, label=\"$I[f]$\")\n",
    "axes.loglog(delta_x, error_D, label=\"$D[f]$\")\n",
    "axes.legend()\n",
    "\n",
    "\n",
    "plt.show()\n",
    "    \n",
    "    "
   ]
  },
  {
   "cell_type": "markdown",
   "id": "6c725b8c",
   "metadata": {
    "deletable": false,
    "editable": false,
    "nbgrader": {
     "cell_type": "markdown",
     "checksum": "8585667a0ae57d0e5435ec44eaec137c",
     "grade": false,
     "grade_id": "cell-7913098871853593",
     "locked": true,
     "schema_version": 3,
     "solution": false
    }
   },
   "source": [
    "## Question 2 - Quadrature\n",
    "\n",
    "Consider the scaled Fresnel integrals\n",
    "\n",
    "$$I_c = \\int^1_0 \\frac{\\cos x}{\\sqrt{x}} dx~~~~\\text{and}~~~~I_s = \\int^1_0 \\frac{\\sin x}{\\sqrt{x}} dx$$\n",
    "\n",
    "which have values\n",
    "\n",
    "$$I_c = \\sqrt{2 \\pi} \\cdot C\\left(\\sqrt{\\frac{2}{\\pi}}\\right) \\approx 1.8090484758005438$$\n",
    "\n",
    "$$I_s = \\sqrt{2 \\pi} \\cdot S\\left(\\sqrt{\\frac{2}{\\pi}}\\right) \\approx 0.62053660344676231$$\n",
    "\n",
    "where the functions $C(x)$ and $S(x)$ can be evaluated by `scipy.special.fresnel`."
   ]
  },
  {
   "cell_type": "markdown",
   "id": "5173206b",
   "metadata": {
    "deletable": false,
    "editable": false,
    "nbgrader": {
     "cell_type": "markdown",
     "checksum": "222f7d5236736b8a0776cb02ca1df5b4",
     "grade": false,
     "grade_id": "cell-8ebcf647bbb397eb",
     "locked": true,
     "schema_version": 3,
     "solution": false
    }
   },
   "source": [
    "**(a)** [2] Where do you imagine the problematic points of the integrals will be?"
   ]
  },
  {
   "cell_type": "markdown",
   "id": "89b61165",
   "metadata": {
    "deletable": false,
    "nbgrader": {
     "cell_type": "markdown",
     "checksum": "43f6c40a1d1510407671a7fd52b23b89",
     "grade": true,
     "grade_id": "cell-52b455a70eeda752",
     "locked": false,
     "points": 2,
     "schema_version": 3,
     "solution": true
    }
   },
   "source": [
    "I anticipate that the function will be difficult to calculate as x approaches zero as the function goes to infinity"
   ]
  },
  {
   "cell_type": "markdown",
   "id": "007d4898",
   "metadata": {
    "deletable": false,
    "editable": false,
    "nbgrader": {
     "cell_type": "markdown",
     "checksum": "e91477ff64d2281616f1f4fb941aa844",
     "grade": false,
     "grade_id": "cell-1280863455188854",
     "locked": true,
     "schema_version": 3,
     "solution": false
    }
   },
   "source": [
    "**(b)** [10] Write a function that computes both integrals using the  trapezoidal rule with N partitions of equal length \"ignoring\" the singularity at $x=0$ by setting integrands to 0."
   ]
  },
  {
   "cell_type": "code",
   "execution_count": 4,
   "id": "eb20b9b1",
   "metadata": {
    "deletable": false,
    "nbgrader": {
     "cell_type": "code",
     "checksum": "921348b4de8f2db107b9480d6d9e7072",
     "grade": false,
     "grade_id": "cell-5673490144983784",
     "locked": false,
     "schema_version": 3,
     "solution": true
    }
   },
   "outputs": [],
   "source": [
    "def s(x):\n",
    "    if x==0:\n",
    "        return 0\n",
    "    return numpy.sin(x)/numpy.sqrt(x)\n",
    "def c(x):\n",
    "    if x==0:\n",
    "        return 0\n",
    "    return numpy.cos(x)/numpy.sqrt(x)\n",
    "\n",
    "def trap_1(N):\n",
    "    Is, Ic = 0,0\n",
    "    x = numpy.linspace(0,1,N+1)\n",
    "    for i in range(len(x)-1): #exclude the last point, and the first point\n",
    "        x1 = x[i]\n",
    "        x2 = x[i+1]\n",
    "        Is += (x2-x1)/2 *(s(x2)+s(x1))\n",
    "        Ic += (x2-x1)/2 *(c(x2)+c(x1))\n",
    "    return Is, Ic"
   ]
  },
  {
   "cell_type": "code",
   "execution_count": 5,
   "id": "c3b36100",
   "metadata": {
    "deletable": false,
    "editable": false,
    "nbgrader": {
     "cell_type": "code",
     "checksum": "2f5be43f80bfd1925375d176c460e044",
     "grade": true,
     "grade_id": "cell-4769111180699037",
     "locked": true,
     "points": 10,
     "schema_version": 3,
     "solution": false
    }
   },
   "outputs": [
    {
     "name": "stdout",
     "output_type": "stream",
     "text": [
      "Error: 7.324979502942863e-05\n",
      "Computed the integrals correctly using the trapezoidal rule only.\n"
     ]
    }
   ],
   "source": [
    "import scipy.special\n",
    "Is, Ic = scipy.special.fresnel(numpy.sqrt(2.0 / numpy.pi))\n",
    "Is *= numpy.sqrt(2.0 * numpy.pi)\n",
    "Ic *= numpy.sqrt(2.0 * numpy.pi)\n",
    "Is_hat, Ic_hat = trap_1(200)\n",
    "error = numpy.abs(Is_hat - Is)\n",
    "print(\"Error: %s\" % error)\n",
    "numpy.testing.assert_allclose(error, 0.0, atol=1e-4)\n",
    "print(\"Computed the integrals correctly using the trapezoidal rule only.\")"
   ]
  },
  {
   "cell_type": "markdown",
   "id": "45ae121d",
   "metadata": {
    "deletable": false,
    "editable": false,
    "nbgrader": {
     "cell_type": "markdown",
     "checksum": "52c28c7b0c5b19816662713d3fa7af41",
     "grade": false,
     "grade_id": "cell-4978686228436492",
     "locked": true,
     "schema_version": 3,
     "solution": false
    }
   },
   "source": [
    "**(c)** [10] A weighted Newton-Cotes quadrature rule is a modification of our version of Newton-Cotes quadrature except that we also multiply by a weighting function.  This can be useful in situations such as the one we have found ourselves in.  Consider the integral\n",
    "$$\n",
    "    \\int^{x_{i+1}}_{x_i} \\frac{f(x)}{\\sqrt{x}} dx\n",
    "$$\n",
    "where here the weighting function is $x^{-1/2}$.  Say we wanted to approximate this integral by approximating $f(x)$ as a linear polynomial interpolant.  Find the resulting quadrature rule for approximating the weighted integral."
   ]
  },
  {
   "cell_type": "markdown",
   "id": "359e9419",
   "metadata": {
    "deletable": false,
    "nbgrader": {
     "cell_type": "markdown",
     "checksum": "df6b70e9c2472708ae4ab7c0ec488e90",
     "grade": true,
     "grade_id": "cell-497868628436492",
     "locked": false,
     "points": 0,
     "schema_version": 3,
     "solution": true
    }
   },
   "source": [
    "$$I_N[f] = \\int^{x_{i+1}}_{x_i} \\frac{(p_0 + p_1 (x - x_i))}{\\sqrt x} dx = 2\\sqrt{x}(p_0-p_ix_i)+\\frac{2}{3}p_ix^{3/2}|^{x_{i+1}}_{x_i}$$\n"
   ]
  },
  {
   "cell_type": "markdown",
   "id": "9d59ee68",
   "metadata": {
    "deletable": false,
    "editable": false,
    "nbgrader": {
     "cell_type": "markdown",
     "checksum": "61965e714ca91f2b79d176fa039b9a82",
     "grade": false,
     "grade_id": "cell-cf6b9a94eb0b6a5f",
     "locked": true,
     "schema_version": 3,
     "solution": false
    }
   },
   "source": [
    "**(d)** Use part (c) and evaluate only the first partition $[0, \\Delta x]$ using that quadrature and use trapezoid rule for the rest of the partitions."
   ]
  },
  {
   "cell_type": "code",
   "execution_count": 6,
   "id": "4f2f7509",
   "metadata": {
    "deletable": false,
    "nbgrader": {
     "cell_type": "code",
     "checksum": "dad716e1fca86631fdd8fd9df34de6af",
     "grade": false,
     "grade_id": "cell-3325603703235502",
     "locked": false,
     "schema_version": 3,
     "solution": true
    }
   },
   "outputs": [],
   "source": [
    "def trap_wnc(N):\n",
    "    x = numpy.linspace(0, 1, N+1)\n",
    "    delta_x = x[1] - x[0]\n",
    "    Is = 0.0\n",
    "    Ic = 0.0\n",
    "    for i in range(1, N):\n",
    "        Is += s(x[i]) * delta_x\n",
    "        Ic += c(x[i]) * delta_x\n",
    "    Is += s(x[-1]) * delta_x / 2.0  \n",
    "    Ic += c(x[-1]) * delta_x / 2.0\n",
    "    #Ic += 2 / 3 * numpy.sqrt(x[1]) * (2 + numpy.cos(x[1]))\n",
    "    #Is += 2 / 3 * numpy.sqrt(x[1]) * (numpy.sin(x[1]))\n",
    "    return Is, Ic"
   ]
  },
  {
   "cell_type": "code",
   "execution_count": 7,
   "id": "051672a7",
   "metadata": {
    "deletable": false,
    "editable": false,
    "nbgrader": {
     "cell_type": "code",
     "checksum": "b17a01c91fbf750f5531305b29842a98",
     "grade": true,
     "grade_id": "cell-226151874510702",
     "locked": true,
     "points": 10,
     "schema_version": 3,
     "solution": false
    }
   },
   "outputs": [
    {
     "name": "stdout",
     "output_type": "stream",
     "text": [
      "Error: 7.324979502942863e-05\n",
      "Computed the integrals correctly using the trapezoidal and Newton-Cotes rules.\n"
     ]
    }
   ],
   "source": [
    "import scipy.special\n",
    "Is, Ic = scipy.special.fresnel(numpy.sqrt(2.0 / numpy.pi))\n",
    "Is *= numpy.sqrt(2.0 * numpy.pi)\n",
    "Ic *= numpy.sqrt(2.0 * numpy.pi)\n",
    "Is_hat, Ic_hat = trap_wnc(200)\n",
    "error = numpy.abs(Is_hat - Is)\n",
    "print(\"Error: %s\" % error)\n",
    "numpy.testing.assert_allclose(error, 0.0, atol=1e-4)\n",
    "print(\"Computed the integrals correctly using the trapezoidal and Newton-Cotes rules.\")"
   ]
  },
  {
   "cell_type": "markdown",
   "id": "7107bcbf",
   "metadata": {
    "deletable": false,
    "editable": false,
    "nbgrader": {
     "cell_type": "markdown",
     "checksum": "05036761682cd126ee464690fcf8a6b3",
     "grade": false,
     "grade_id": "cell-8870847314167314",
     "locked": true,
     "schema_version": 3,
     "solution": false
    }
   },
   "source": [
    "**(e)** [5] Do a change of variables $x = t^2$ and evaluate each integral using the trapezoidal rule for the entire domain."
   ]
  },
  {
   "cell_type": "code",
   "execution_count": 8,
   "id": "fecfcc6a",
   "metadata": {
    "deletable": false,
    "nbgrader": {
     "cell_type": "code",
     "checksum": "137f55ec0119ab1ea534fa717eb0f673",
     "grade": false,
     "grade_id": "cell-7736129930158757",
     "locked": false,
     "schema_version": 3,
     "solution": true
    }
   },
   "outputs": [],
   "source": [
    "def trap_transformed(N):    \n",
    "    t = numpy.linspace(0.0, 1.0, 100)\n",
    "    t_hat = numpy.linspace(0.0, 1.0, N + 1)\n",
    "    delta_t = t_hat[1] - t_hat[0]\n",
    "    \n",
    "    #transformed functions\n",
    "    c = lambda t: 2*numpy.cos(t**2) \n",
    "    s = lambda t: 2*numpy.sin(t**2)\n",
    "    \n",
    "    Ic = c(t_hat[1]) * delta_t / 2.0 \n",
    "    Is = s(t_hat[1]) * delta_t / 2.0 \n",
    "    for i in range(1, N):\n",
    "        Ic += (c(t_hat[i + 1]) + c(t_hat[i])) * delta_t / 2.0 \n",
    "        Is += (s(t_hat[i + 1]) + s(t_hat[i])) * delta_t / 2.0  \n",
    "    return Is, Ic"
   ]
  },
  {
   "cell_type": "code",
   "execution_count": 9,
   "id": "7fe9cc2c",
   "metadata": {
    "deletable": false,
    "editable": false,
    "nbgrader": {
     "cell_type": "code",
     "checksum": "a6fc2b55b128c08eb7456d37ca5ce2f8",
     "grade": true,
     "grade_id": "cell-3154020715657228",
     "locked": true,
     "points": 5,
     "schema_version": 3,
     "solution": false
    }
   },
   "outputs": [
    {
     "name": "stdout",
     "output_type": "stream",
     "text": [
      "Error: 4.502544250550855e-06\n",
      "Computed the integrals correctly using the trapezoidal rule.\n"
     ]
    }
   ],
   "source": [
    "import scipy.special\n",
    "Is, Ic = scipy.special.fresnel(numpy.sqrt(2.0 / numpy.pi))\n",
    "Is *= numpy.sqrt(2.0 * numpy.pi)\n",
    "Ic *= numpy.sqrt(2.0 * numpy.pi)\n",
    "Is_hat, Ic_hat = trap_transformed(200)\n",
    "error = numpy.abs(Is_hat - Is)\n",
    "print(\"Error: %s\" % error)\n",
    "numpy.testing.assert_allclose(error, 0.0, atol=1e-5)\n",
    "print(\"Computed the integrals correctly using the trapezoidal rule.\")"
   ]
  },
  {
   "cell_type": "markdown",
   "id": "23c032d2",
   "metadata": {
    "deletable": false,
    "editable": false,
    "nbgrader": {
     "cell_type": "markdown",
     "checksum": "0bda5ba7744648084f5b2d902c0fa0d7",
     "grade": false,
     "grade_id": "cell-6494212708282626",
     "locked": true,
     "schema_version": 3,
     "solution": false
    }
   },
   "source": [
    "**(f)** [5] Do the same as in part (e) again using the transformation $x=t^2$ but use 3-point Gauss-Legendre quadrature for the approximation to the integral."
   ]
  },
  {
   "cell_type": "code",
   "execution_count": 19,
   "id": "80d0aafa",
   "metadata": {
    "deletable": false,
    "nbgrader": {
     "cell_type": "code",
     "checksum": "32ec8c214868f6a534bc62a4ec084de5",
     "grade": false,
     "grade_id": "cell-5621529377713954",
     "locked": false,
     "schema_version": 3,
     "solution": true
    }
   },
   "outputs": [],
   "source": [
    "def gauss_legendre_3(N):\n",
    "    # YOUR CODE HERE\n",
    "    \n",
    "    # Initialization \n",
    "    x = numpy.linspace(0, 1, 100)\n",
    "    x_hat = numpy.linspace(0, 1, N + 1)\n",
    "    delta_x = x_hat[1] - x_hat[0]\n",
    "    c = lambda x: 2*numpy.cos(x**2)\n",
    "    s = lambda x: 2*numpy.sin(x**2)\n",
    "    \n",
    "    # Compute integral (3-point Gauss-Legendre)\n",
    "    xi_map = lambda a,b,xi : (b - a) / 2.0 * xi + (a + b) / 2.0\n",
    "    xi = [-numpy.sqrt(3.0 / 5.0), 0.0, numpy.sqrt(3.0 / 5.0)]\n",
    "    w = [5.0 / 9.0, 8.0 / 9.0, 5.0 / 9.0]\n",
    "    \n",
    "    Ic = 0\n",
    "    Is = 0\n",
    "    for i in range(0, N):\n",
    "        for k in range(len(xi)):\n",
    "            Ic += c(xi_map(x_hat[i], x_hat[i+1], xi[k])) * w[k]\n",
    "            Is += s(xi_map(x_hat[i], x_hat[i+1], xi[k])) * w[k]\n",
    "    Is *= delta_x / 2.0\n",
    "    Ic *= delta_x / 2.0\n",
    "\n",
    "    return Is, Ic"
   ]
  },
  {
   "cell_type": "code",
   "execution_count": 21,
   "id": "4600ac3a",
   "metadata": {
    "deletable": false,
    "editable": false,
    "nbgrader": {
     "cell_type": "code",
     "checksum": "04ac21769af6ce2affbccd4aeb8bcbaa",
     "grade": true,
     "grade_id": "cell-1113773998085106",
     "locked": true,
     "points": 5,
     "schema_version": 3,
     "solution": false
    }
   },
   "outputs": [
    {
     "name": "stdout",
     "output_type": "stream",
     "text": [
      "Error: 8.57062198988956e-11\n",
      "Computed the integrals correctly using the trapezoidal and Newton-Cotes rules.\n"
     ]
    }
   ],
   "source": [
    "import scipy.special\n",
    "Is, Ic = scipy.special.fresnel(numpy.sqrt(2.0 / numpy.pi))\n",
    "Is *= numpy.sqrt(2.0 * numpy.pi)\n",
    "Ic *= numpy.sqrt(2.0 * numpy.pi)\n",
    "Is_hat, Ic_hat = gauss_legendre_3(10)\n",
    "error = numpy.abs(Is_hat - Is)\n",
    "print(\"Error: %s\" % error)\n",
    "numpy.testing.assert_allclose(error, 0.0, atol=1e-10)\n",
    "print(\"Computed the integrals correctly using the trapezoidal and Newton-Cotes rules.\")"
   ]
  },
  {
   "cell_type": "markdown",
   "id": "166831be",
   "metadata": {
    "deletable": false,
    "editable": false,
    "nbgrader": {
     "cell_type": "markdown",
     "checksum": "b64ac0e3f74e31b99309b6f314f3e037",
     "grade": false,
     "grade_id": "cell-6575269031232667",
     "locked": true,
     "schema_version": 3,
     "solution": false
    }
   },
   "source": [
    "**(g)** [5] Check the order of accuracy for each of the methods above and plot these on a `loglog` plot with appropriate reference lines to indicate the order of each."
   ]
  },
  {
   "cell_type": "code",
   "execution_count": 22,
   "id": "6927abcb",
   "metadata": {
    "deletable": false,
    "nbgrader": {
     "cell_type": "code",
     "checksum": "4f917f94562abcab094e913a8c5f50ec",
     "grade": true,
     "grade_id": "cell-395406051759804",
     "locked": false,
     "points": 5,
     "schema_version": 3,
     "solution": true
    }
   },
   "outputs": [
    {
     "data": {
      "text/plain": [
       "<matplotlib.legend.Legend at 0x7f54db693700>"
      ]
     },
     "execution_count": 22,
     "metadata": {},
     "output_type": "execute_result"
    },
    {
     "data": {
      "image/png": "[encoded data removed]",
      "text/plain": [
       "<Figure size 1080x720 with 1 Axes>"
      ]
     },
     "metadata": {
      "needs_background": "light"
     },
     "output_type": "display_data"
    }
   ],
   "source": [
    "# YOUR CODE HERE\n",
    "import scipy.special\n",
    "\n",
    "#fresnel equations\n",
    "Is_true, Ic_true = scipy.special.fresnel(numpy.sqrt(2.0 / numpy.pi))\n",
    "Is_true *= numpy.sqrt(2.0 * numpy.pi)\n",
    "Ic_true *= numpy.sqrt(2.0 * numpy.pi)\n",
    "\n",
    "x = numpy.linspace(0, 1.0, 100)\n",
    "\n",
    "#lambda functions\n",
    "s0 = lambda x: numpy.sin(x) \n",
    "c0 = lambda x: numpy.cos(x) \n",
    "s = lambda x: numpy.sin(x) / numpy.sqrt(x)\n",
    "c = lambda x: numpy.cos(x) / numpy.sqrt(x)\n",
    "cah = lambda x: 2*numpy.cos(x**2)\n",
    "soh= lambda x: 2*numpy.sin(x**2)\n",
    "\n",
    "num_partitions = range(5, 50, 5)\n",
    "delta_x = numpy.empty(len(num_partitions))\n",
    "serror_trap1 = numpy.empty(len(num_partitions))\n",
    "serror_wnc = numpy.empty(len(num_partitions))\n",
    "serror_transformed = numpy.empty(len(num_partitions))\n",
    "serror_Gauss = numpy.empty(len(num_partitions))\n",
    "cerror_trap1 = numpy.empty(len(num_partitions))\n",
    "cerror_wnc = numpy.empty(len(num_partitions))\n",
    "cerror_transformed = numpy.empty(len(num_partitions))\n",
    "cerror_Gauss = numpy.empty(len(num_partitions))\n",
    "\n",
    "for (j, N) in enumerate(num_partitions):\n",
    "    x_hat = numpy.linspace(0.0, 1.0, N + 1)\n",
    "    sqrt_hat = numpy.sqrt(x_hat)\n",
    "    delta_x[j] = x_hat[1] - x_hat[0]\n",
    "    \n",
    "    # trap_1\n",
    "    Ic = c(x_hat[1]) * delta_x[j]/2 \n",
    "    Is = s(x_hat[1]) * delta_x[j]/2 \n",
    "    for i in range(1, N):\n",
    "        Ic += (c(x_hat[i + 1]) + c(x_hat[i])) * delta_x[j]/2\n",
    "        Is += (s(x_hat[i + 1]) + s(x_hat[i])) * delta_x[j]/2\n",
    "    serror_trap1[j] = numpy.abs(Is_true - Is)\n",
    "    cerror_trap1[j] = numpy.abs(Ic_true - Ic)\n",
    "\n",
    "    \n",
    "    # trap_wnc\n",
    "    Ic = 2*c0(x_hat[1]) * sqrt_hat[1] - (4/3) * x_hat[1] * sqrt_hat[1] * (( c0(x_hat[1]) - c0(x_hat[0]) ) / delta_x[j])\n",
    "    Is = 2*s0(x_hat[1]) * sqrt_hat[1] - (4/3) * x_hat[1] * sqrt_hat[1] * (( s0(x_hat[1]) - s0(x_hat[0]) ) / delta_x[j])\n",
    "    for i in range(1, N):\n",
    "        Ic += (c(x_hat[i + 1]) + c(x_hat[i])) * delta_x[j]/2\n",
    "        Is += (s(x_hat[i + 1]) + s(x_hat[i])) * delta_x[j]/2 \n",
    "    serror_wnc[j] = numpy.abs(Is_true - Is)\n",
    "    cerror_wnc[j] = numpy.abs(Ic_true - Ic)\n",
    "\n",
    "    \n",
    "    # trap_transformed\n",
    "    Ic = cah(x_hat[1]) * delta_x[j]/2\n",
    "    Is = soh(x_hat[1]) * delta_x[j]/2 \n",
    "    for i in range(1, N):\n",
    "        Ic += (cah(x_hat[i + 1]) + cah(x_hat[i])) * delta_x[j]/2 \n",
    "        Is += (soh(x_hat[i + 1]) + soh(x_hat[i])) * delta_x[j]/2\n",
    "    serror_transformed[j] = numpy.abs(Is_true - Is)\n",
    "    cerror_transformed[j] = numpy.abs(Ic_true - Ic)\n",
    "    \n",
    "    # Gauss-Legendre 3-point\n",
    "    xi_map = lambda a,b,xi :(b-a)/2*xi+(a+b)/2\n",
    "    xi = [-numpy.sqrt(3/5), 0, numpy.sqrt(3/5)]\n",
    "    w = [5/9, 8/9, 5/9]\n",
    "    \n",
    "    Ic = 0\n",
    "    Is = 0\n",
    "    for i in range(0, N):\n",
    "        for k in range(len(xi)):\n",
    "            Ic += cah(xi_map(x_hat[i], x_hat[i+1], xi[k])) * w[k]\n",
    "            Is += soh(xi_map(x_hat[i], x_hat[i+1], xi[k])) * w[k]\n",
    "    Ic *= delta_x[j]/2\n",
    "    Is *= delta_x[j]/2\n",
    "    serror_Gauss[j] = numpy.abs(Is_true - Is)\n",
    "    cerror_Gauss[j] = numpy.abs(Ic_true - Ic)\n",
    "\n",
    "    \n",
    "plt.figure(figsize=(15, 10))\n",
    "plt.xlabel(\"$\\Delta x$\",fontsize=20)\n",
    "plt.ylabel(\"Error\",fontsize=20)\n",
    "\n",
    "plt.loglog(delta_x, serror_trap1, label=\"Sine Trap1\")\n",
    "plt.loglog(delta_x, serror_wnc, label=\"Sine Trap Wnc\")\n",
    "plt.loglog(delta_x, serror_transformed, label=\"Sine Trap Transformed\")\n",
    "plt.loglog(delta_x, serror_Gauss, label=\"Sine Gauss-Legendre\")\n",
    "\n",
    "plt.loglog(delta_x, cerror_trap1, label=\"Cos Trap1\",linestyle=\"--\")\n",
    "plt.loglog(delta_x, cerror_wnc, label=\"Cos Trap Wnc\",linestyle=\"--\")\n",
    "plt.loglog(delta_x, cerror_transformed, label=\"Cos Trap Transformed\",linestyle=\"--\")\n",
    "plt.loglog(delta_x, cerror_Gauss, label=\"Cos Gauss-Legendre\",linestyle=\"--\")\n",
    "\n",
    "plt.legend(fontsize=10)"
   ]
  },
  {
   "cell_type": "markdown",
   "id": "ed9d17ab",
   "metadata": {
    "deletable": false,
    "editable": false,
    "nbgrader": {
     "cell_type": "markdown",
     "checksum": "055c6e348ffcd39546e0d17583e502d8",
     "grade": false,
     "grade_id": "cell-1553923981662412",
     "locked": true,
     "schema_version": 3,
     "solution": false
    }
   },
   "source": [
    "**(h)** [3] Comment on the results of this question and the vast differences in convergence rates even between the two integrations (why is $I_c$ less accurate than $I_s$)."
   ]
  },
  {
   "cell_type": "markdown",
   "id": "6472c88c",
   "metadata": {
    "deletable": false,
    "nbgrader": {
     "cell_type": "markdown",
     "checksum": "329ffa12d392d78f0bd4c33a4c942e42",
     "grade": true,
     "grade_id": "cell-7860584774817940",
     "locked": false,
     "points": 3,
     "schema_version": 3,
     "solution": true
    }
   },
   "source": [
    "The error on $I_c$ is greater than $I_s$ as $I_c$ has a term that goes infinity as it integrates around zero. Otherwise it is clear that the Gauss-Legendre method is most accurate."
   ]
  },
  {
   "cell_type": "markdown",
   "id": "9755e3b9",
   "metadata": {
    "deletable": false,
    "editable": false,
    "nbgrader": {
     "cell_type": "markdown",
     "checksum": "79f633727305ca87d03db986b7d050d5",
     "grade": false,
     "grade_id": "cell-3224734890563854",
     "locked": true,
     "schema_version": 3,
     "solution": false
    }
   },
   "source": [
    "## Question 3\n",
    "\n",
    "We can often reformulate finite difference approximations as matrix-vector products.  For the following assume that the data considered are equi-spaced points $(x_i, y_i)$, i.e. $\\Delta x$ is uniform."
   ]
  },
  {
   "cell_type": "markdown",
   "id": "5b7e01db",
   "metadata": {
    "deletable": false,
    "editable": false,
    "nbgrader": {
     "cell_type": "markdown",
     "checksum": "9ec108b356e66a3e16ee9b41e0ccac53",
     "grade": false,
     "grade_id": "cell-5c735e9080300d72",
     "locked": true,
     "schema_version": 3,
     "solution": false
    }
   },
   "source": [
    "**(a)** [10] Derive the forward and backward second order finite difference approximations to the second derivative using the method of your choice."
   ]
  },
  {
   "cell_type": "markdown",
   "id": "7f1ee1b7",
   "metadata": {
    "deletable": false,
    "nbgrader": {
     "cell_type": "markdown",
     "checksum": "57199decbaf43c32a17f1c759881727a",
     "grade": true,
     "grade_id": "cell-88d2d6f7dba4237d",
     "locked": false,
     "points": 10,
     "schema_version": 3,
     "solution": true
    }
   },
   "source": [
    "\n",
    "Forward:\n",
    "\n",
    "$$\n",
    "f'(x) \\approx P'_2(x) = [y_0, y_1] + ((x - x_1) + (x - x_0)) [y_0, y_1, y_2] \\\\\n",
    "= \\frac{y_1-y_0}{x_1-x_0} + ((x-x_1)+(x-x_0)) \\left (\\frac{y_2 - y_1}{(x_2 - x_1)(x_2 - x_0)} - \\frac{y_1 - y_0}{(x_1 - x_0)(x_2 - x_0)} \\right) \\\\\n",
    "= \\frac{f(x_1)-f(x_0)}{x_1 - x_0} + (2x-x_1-x_0) \\left (\\frac{f(x_2) - f(x_1)}{(x_2 - x_1)2(x_2 - x_0)} - \\frac{f(x_1)-f(x_0)}{(x_1-x_0)2(x_2 - x_0)} \\right) \n",
    "$$\n",
    "\n",
    "$$\n",
    "f'' = (2) \\left (\\frac{f(x_2) - f(x_1)}{(x_2 - x_1)2(x_2 - x_0)} - \\frac{f(x_1)-f(x_0)}{(x_1-x_0)2(x_2 - x_0)} \\right) \n",
    "\\\\\n",
    "= \\left (\\frac{f(x_2) - f(x_1)}{(x_2 - x_1)(x_2 - x_0)} - \\frac{f(x_1)-f(x_0)}{(x_1-x_0)(x_2 - x_0)} \\right) \n",
    "\\\\\n",
    "= \\left (\\frac{f(x_2) - 2f(x_1) + f(x_0)}{(\\Delta x)^2} \\right) \n",
    "$$\n",
    "\n",
    "Forward:\n",
    "$$\n",
    " \\left (\\frac{f(x_{n+2}) - 2f(x_{n+1}) + f(x_{n})}{(\\Delta x)^2} \\right) \n",
    "$$\n",
    "\n",
    "Centered:\n",
    "$$\n",
    " \\left (\\frac{f(x_{n+1}) - 2f(x_{n}) + f(x_{n-1})}{(\\Delta x)^2} \\right) \n",
    "$$\n",
    "\n",
    "Backward:\n",
    "$$\n",
    " \\left (\\frac{f(x_{n}) - 2f(x_{n-1}) + f(x_{n-2})}{(\\Delta x)^2} \\right) \n",
    "$$"
   ]
  },
  {
   "cell_type": "markdown",
   "id": "aea0edf0",
   "metadata": {
    "deletable": false,
    "editable": false,
    "nbgrader": {
     "cell_type": "markdown",
     "checksum": "93a21c535b283619d231255341d37ad2",
     "grade": false,
     "grade_id": "cell-7885120873385504",
     "locked": true,
     "schema_version": 3,
     "solution": false
    }
   },
   "source": [
    "**(b)** [10] Using a second order centered finite difference approximation to the second derivative and the appropriate second order forward and backward difference schemes at the edges of the domain find the matrix $D$ such that multiplying a vector of $y$ values would lead to a second order approximation of the derivative for the given data.  In other words for $y_i = f(x_i)$\n",
    "$$\n",
    "    f''(x) \\approx D y.\n",
    "$$"
   ]
  },
  {
   "cell_type": "markdown",
   "id": "10239ee8",
   "metadata": {
    "deletable": false,
    "nbgrader": {
     "cell_type": "markdown",
     "checksum": "67a3ffd50bc7cfb020a04991ff5467d7",
     "grade": true,
     "grade_id": "cell-2125755949784286",
     "locked": false,
     "points": 10,
     "schema_version": 3,
     "solution": true
    }
   },
   "source": [
    "D is a tridiagonal matrix that where each row will give the coefficients need to calculate the finite difference approximation. At the first and last point the forward and backward difference must be used respectively as using the centered difference would be out of bounds of the array. However, the centered difference can be used for all other points as they have a point before and after them.\n",
    "$$\n",
    "D = \\dfrac{1}{\\Delta^2 x}\n",
    "\\begin{bmatrix}\n",
    "    1 & -2 & 1 & 0 & \\cdots & 0 & 0\\\\\n",
    "    1 & -2 & 1 & 0 & \\cdots & 0 & 0\\\\\n",
    "    0 & 1 & -2 & 1 & 0 & \\cdots & 0\\\\\n",
    "    \\cdots & \\cdots & \\cdots & \\cdots & \\cdots & \\cdots \\\\\n",
    "    0 & 0 & \\cdots & 1 & -2 & 1 & 0\\\\\n",
    "    0 & 0 & \\cdots & 0 & 1 & -2 & 1\\\\\n",
    "    0 & 0 & \\cdots & 0 & 1 & -2 & 1\n",
    "\\end{bmatrix}\n",
    "$$"
   ]
  },
  {
   "cell_type": "markdown",
   "id": "2c2efdf8",
   "metadata": {
    "deletable": false,
    "editable": false,
    "nbgrader": {
     "cell_type": "markdown",
     "checksum": "11d83390ba12aae06db91362c35dccbc",
     "grade": false,
     "grade_id": "cell-8815784455777695",
     "locked": true,
     "schema_version": 3,
     "solution": false
    }
   },
   "source": [
    "**(c)** [10] Write a function that takes in the number of data points $N$ and returns the matrix $D$.  Here assume we are on the interval $[-1, 1]$.  Note that inside your function \n",
    "$$\n",
    "    \\Delta x = \\frac{2}{N - 1}\n",
    "$$\n",
    "to match the `linspace` command.\n",
    "\n",
    "Beyond being convenient (once you construct the matrix you can apply it to any set of data) this operation is much faster than using loops.  *Hint:* The command `numpy.diag` may be extremely helpful."
   ]
  },
  {
   "cell_type": "code",
   "execution_count": 40,
   "id": "dd95ed80",
   "metadata": {
    "deletable": false,
    "nbgrader": {
     "cell_type": "code",
     "checksum": "08cef2157f573181b72e409343a13c87",
     "grade": false,
     "grade_id": "cell-5516025382221234",
     "locked": false,
     "schema_version": 3,
     "solution": true
    }
   },
   "outputs": [],
   "source": [
    "def diff_matrix(N):\n",
    "    # YOUR CODE HERE\n",
    "    weight = ((N-1)/2)**2\n",
    "    D = numpy.zeros([N,N])\n",
    "    \n",
    "    D[0][0] = 1\n",
    "    D[0][1] = -2\n",
    "    D[0][2] = 1\n",
    "    \n",
    "    D[-1][-1] = 1\n",
    "    D[-1][-2] = -2\n",
    "    D[-1][-3] = 1\n",
    "    \n",
    "    for i in range(1,N-1):\n",
    "        D[i][i-1] = 1\n",
    "        D[i][i] = -2\n",
    "        D[i][i+1] = 1\n",
    "    return weight*D"
   ]
  },
  {
   "cell_type": "code",
   "execution_count": 41,
   "id": "515a77e3",
   "metadata": {
    "deletable": false,
    "editable": false,
    "nbgrader": {
     "cell_type": "code",
     "checksum": "0cd8e56a3e5745bcf3fff5e30cff6fb4",
     "grade": true,
     "grade_id": "cell-7511846809958937",
     "locked": true,
     "points": 10,
     "schema_version": 3,
     "solution": false
    }
   },
   "outputs": [
    {
     "name": "stdout",
     "output_type": "stream",
     "text": [
      "Success!\n"
     ]
    }
   ],
   "source": [
    "N = 200\n",
    "x = numpy.linspace(-1, 1, N)\n",
    "y = numpy.sin(x) * numpy.cos(x)\n",
    "numpy.testing.assert_allclose(numpy.dot(diff_matrix(N), y), -4.0 * numpy.sin(x) * numpy.cos(x), rtol=1e-2)\n",
    "print(\"Success!\")"
   ]
  },
  {
   "cell_type": "markdown",
   "id": "bbaf4bdd",
   "metadata": {
    "deletable": false,
    "editable": false,
    "nbgrader": {
     "cell_type": "markdown",
     "checksum": "86e0dec917e91613054276eaca16dc9b",
     "grade": false,
     "grade_id": "cell-1283048126092389",
     "locked": true,
     "schema_version": 3,
     "solution": false
    }
   },
   "source": [
    "**(c)** [5] Suppose instead that we did not know the vector $f(x_i) = y_i$ but instead knew the value of second derivative at these points.  If we wanted to find the vector $y$ what kind of problem would we have to solve?  What is the continuous analog of this problem and what additional information would we need?"
   ]
  },
  {
   "cell_type": "markdown",
   "id": "d780159a",
   "metadata": {
    "deletable": false,
    "nbgrader": {
     "cell_type": "markdown",
     "checksum": "4b523be5a5ee66ce478e9f9c59feaf56",
     "grade": true,
     "grade_id": "cell-3816704844311840",
     "locked": false,
     "points": 5,
     "schema_version": 3,
     "solution": true
    }
   },
   "source": [
    "The problem would need to be solved in reverse and D would need to be invertible such that we could have $D^{-1} f''(x) = y$. This would be a second order ODE which would require both the Neumann and Dirichlet bounds to solve."
   ]
  },
  {
   "cell_type": "code",
   "execution_count": null,
   "id": "ab43cee8",
   "metadata": {},
   "outputs": [],
   "source": []
  }
 ],
 "metadata": {
  "kernelspec": {
   "display_name": "Python 3",
   "language": "python",
   "name": "python3"
  },
  "language_info": {
   "codemirror_mode": {
    "name": "ipython",
    "version": 3
   },
   "file_extension": ".py",
   "mimetype": "text/x-python",
   "name": "python",
   "nbconvert_exporter": "python",
   "pygments_lexer": "ipython3",
   "version": "3.8.8"
  }
 },
 "nbformat": 4,
 "nbformat_minor": 5
}
