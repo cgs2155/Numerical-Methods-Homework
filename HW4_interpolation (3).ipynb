{
 "cells": [
  {
   "cell_type": "markdown",
   "id": "3433b920",
   "metadata": {},
   "source": [
    "Before you turn this problem in, make sure everything runs as expected. First, restart the kernel (in the menubar, select Kernel $\\rightarrow$ Restart) and then run all cells (in the menubar, select Cell $\\rightarrow$ Run All).\n",
    "\n",
    "Make sure you fill in any place that says YOUR CODE HERE or \"YOUR ANSWER HERE\", as well as your name and collaborators below:"
   ]
  },
  {
   "cell_type": "code",
   "execution_count": 3,
   "metadata": {},
   "outputs": [],
   "source": [
    "%matplotlib inline\n",
    "import numpy\n",
    "import matplotlib.pyplot as plt"
   ]
  },
  {
   "cell_type": "markdown",
   "metadata": {},
   "source": [
    "### Name: Ciro Salcedo\n",
    "\n",
    "#### Collaborators: Ceasar Stringfield, Yelissa Lopez"
   ]
  },
  {
   "cell_type": "markdown",
   "metadata": {
    "deletable": false,
    "editable": false,
    "nbgrader": {
     "cell_type": "markdown",
     "checksum": "05a90bc96a8a096843e665eea1de53c4",
     "grade": false,
     "grade_id": "cell-5502088417300118",
     "locked": true,
     "schema_version": 3,
     "solution": false
    }
   },
   "source": [
    "# HW 4:  Interpolation"
   ]
  },
  {
   "cell_type": "markdown",
   "metadata": {
    "deletable": false,
    "editable": false,
    "nbgrader": {
     "cell_type": "markdown",
     "checksum": "ef13a73e03d84a2e83f492465d334d05",
     "grade": false,
     "grade_id": "cell-6806070912155660",
     "locked": true,
     "schema_version": 3,
     "solution": false
    }
   },
   "source": [
    "## Question 1\n",
    "\n",
    "[10] The $n$th Chebyshev polynomial is characterized (up to a constant) by the identity\n",
    "\n",
    "$$T_n(\\cos \\theta) = \\cos (n \\theta)$$\n",
    "\n",
    "Use this identity to show that the Chebyshev polynomials are orthogonal on $x\\in[-1,1]$ with respect to the weight\n",
    "\n",
    "$$w(x) = \\frac{1}{\\sqrt{1 - x^2}}$$\n",
    "\n",
    "To do this you must prove that\n",
    "\n",
    "$$\\int^1_{-1} w(x) T_n(x) T_m(x) dx = \\left \\{ \\begin{aligned} \n",
    "a & ~ & m = n \\\\ \n",
    "0 & ~ & m \\neq n \n",
    "\\end{aligned} \\right .$$\n",
    "\n",
    "where $a$ is a finite constant (also find this coefficient).  Note that you may have multiple non-zero coefficients $a$.  Make sure to cover all these cases and list the conditions that you will find these values."
   ]
  },
  {
   "cell_type": "markdown",
   "metadata": {
    "deletable": false,
    "nbgrader": {
     "cell_type": "markdown",
     "checksum": "8d2f4d1eaa3c4e62333153ce8ca3a636",
     "grade": true,
     "grade_id": "cell-8354694405440956",
     "locked": false,
     "points": 10,
     "schema_version": 3,
     "solution": true
    }
   },
   "source": [
    "$$\\int^1_{-1} w(x) T_n(x) T_m(x) dx = \\int^1_{-1} \\frac{1}{\\sqrt{1 + \\cos^2 \\theta}} T_n(\\cos \\theta) T_m(\\cos \\theta) dx $$\n",
    "\n",
    "Let $ dx = -\\sin \\theta d \\theta$ \n",
    "\n",
    "$$\\int^1_{-1} w(x) T_n(x) T_m(x) dx = \\int^0_{\\pi} \\frac{-1}{\\sqrt{1 + \\cos^2 \\theta}} \\cos(n \\theta) \\cos (m \\theta) \\sin \\theta d\\theta $$\n",
    "\n",
    "$$\\int^0_{\\pi} \\frac{-1}{\\sqrt{1 + \\cos^2 \\theta}} \\cos(n \\theta) \\cos (m \\theta) \\sin \\theta d\\theta  = \\int^\\pi_{0} \\frac{ \\sin \\theta}{\\sqrt{1 + \\cos^2 \\theta}} \\cos(n \\theta) \\cos (m \\theta) d\\theta$$\n",
    "\n",
    "$$ = \\int^0_{\\pi} \\frac{\\sin \\theta d\\theta}{\\sin \\theta} \\cos(n \\theta) \\cos (m \\theta)   = \\int^\\pi_{0} \\cos(n \\theta) \\cos (m \\theta) d\\theta$$\n",
    "\n",
    "If m = n:\n",
    "\n",
    "$$= \\int^\\pi_{0} \\cos^2(n \\theta) d\\theta = [\\frac{sin(2n\\theta)}{4n} + \\frac{x}{2}] |^\\pi_0 = \\frac{\\pi}{2} = a$$\n",
    "\n",
    "otherwise:\n",
    "$$= \\int^\\pi_{0} \\cos(n \\theta) \\cos(m \\theta) d\\theta = [\\frac{sin((n+m)\\theta)}{2(n+m)} + \\frac{sin((n-m)\\theta)}{2(n-m)}] |^\\pi_0 = \\frac{\\pi}{2} = 0$$"
   ]
  },
  {
   "cell_type": "markdown",
   "metadata": {
    "deletable": false,
    "editable": false,
    "nbgrader": {
     "cell_type": "markdown",
     "checksum": "9a9a7f391273ce9b258485119ab56d36",
     "grade": false,
     "grade_id": "cell-7819290100903685",
     "locked": true,
     "schema_version": 3,
     "solution": false
    }
   },
   "source": [
    "## Question 2\n",
    "\n",
    "We discussed in class that equally spaced points are not optimal and in fact the Lagrange interpolants can vary considerably from 1 near the ends.  For these questions consider the interval $x\\in[-1, 1]$."
   ]
  },
  {
   "cell_type": "markdown",
   "metadata": {
    "deletable": false,
    "editable": false,
    "nbgrader": {
     "cell_type": "markdown",
     "checksum": "0225abd937243068e3888770aaed31bd",
     "grade": false,
     "grade_id": "cell-1974680948166026",
     "locked": true,
     "schema_version": 3,
     "solution": false
    }
   },
   "source": [
    "**(a)** [10] For $N = 4$ find the position and value of the maximum value on $[-1,1]$ of $|\\ell_k(x)|$ analytically for $\\ell_2(x)$ using equi-spaced points (extra credit for finding them for all analytically)."
   ]
  },
  {
   "cell_type": "markdown",
   "metadata": {
    "deletable": false,
    "nbgrader": {
     "cell_type": "markdown",
     "checksum": "a5409198244fd43fdea050a72c99c441",
     "grade": true,
     "grade_id": "cell-1609100275099664",
     "locked": false,
     "points": 10,
     "schema_version": 3,
     "solution": true
    }
   },
   "source": [
    "Using equally spaced points, $x_i = {-1, -0.5, 0, 0.5, 1}$\n",
    "\n",
    "$$\\ell_2(x) = \\prod^4_{j = 0, j\\neq i} \\frac{x-x_j}{x_i-x_j}$$ \n",
    "\n",
    "$$ \\ell_2(x) = \\frac{x + 1}{0 + 1} \\frac{x + 0.5}{0 + 0.5} \\frac{x - 0.5}{0 + 0.5} \\frac{x - 1}{0 - 1}$$\n",
    "\n",
    "$$ =(x - 1)(x + 1)(2x - 1)(2x + 1) = 4x^4 - 5x^2 + 1$$ \n",
    "\n",
    "$$ = (x - 1)(4x^3 + 4x^2 -x - 1) = (x-1)(x_1)(4x^2 - 1) = (x-1)(x+1)(2x-1)(2x+1)$$\n",
    "\n",
    "Don't know why I bothered to factor, but\n",
    "\n",
    "$$\\frac{d}{dx}(4x^4 - 5x^2 + 1) = 12x^3 - 10x = 0$$ x = 0 is the maximum, y =1"
   ]
  },
  {
   "cell_type": "markdown",
   "metadata": {},
   "source": [
    "$$\\ell_1(x) = \\prod^4_{j = 0, j\\neq i} \\frac{x-x_j}{x_i-x_j}$$ \n",
    "\n",
    "$$ \\ell_1(x) = \\frac{x + 1}{-0.5 + 1} \\frac{x - 0}{-0.5 + 0} \\frac{x - 0.5}{-0.5 - 0.5} \\frac{x - 1}{0.5 - 1}$$\n",
    "\n",
    "$$ \\ell_1(x) =\n",
    "-\\frac{8}{3}x^4 + \\frac{4}{3}x^3 + \\frac{8}{3}x^2 - \\frac{4}{3}x$$ \n",
    "\n",
    "max (-2/3 , 1.152)\n",
    "\n",
    "$$ \\ell_3(x) =\n",
    "-\\frac{8}{3}x^4 - \\frac{4}{3}x^3 + \\frac{8}{3}x^2 + \\frac{4}{3}x$$ \n",
    "\n",
    "max (2/3 , 1.152)\n",
    "\n",
    "$$ \\ell_4(x) =\n",
    "\\frac{2}{3}x^4 + \\frac{2}{3}x^3 - \\frac{1}{6}x^2 - \\frac{1}{6}x$$ \n",
    "\n",
    "max (1 , 1)\n"
   ]
  },
  {
   "cell_type": "code",
   "execution_count": 11,
   "metadata": {},
   "outputs": [
    {
     "data": {
      "image/png": "[encoded data removed]",
      "text/plain": [
       "<Figure size 432x288 with 1 Axes>"
      ]
     },
     "metadata": {
      "needs_background": "light"
     },
     "output_type": "display_data"
    }
   ],
   "source": [
    "x = numpy.linspace(-1,1,100)\n",
    "y1 = 4*x**4 - 5*x**2 + 1\n",
    "y2 = (-8/3)*(x**4) + (4/3)*(x**3) + (8/3)*(x**2) - (4/3)*x\n",
    "y3 = (-8/3)*(x**4) - (4/3)*(x**3) + (8/3)*(x**2) + (4/3)*x\n",
    "y4 = (2/3)*(x**4) + (2/3)*(x**3) - (1/6)*(x**2) - (1/6)*x\n",
    "\n",
    "plt.plot(x,y2,label=\"$\\ell_1(x)$\")\n",
    "plt.plot(x,y1,label=\"$\\ell_2(x)$\")\n",
    "plt.plot(x,y3,label=\"$\\ell_3(x)$\")\n",
    "plt.plot(x,y4,label=\"$\\ell_4(x)$\")\n",
    "plt.legend(loc='best')\n",
    "plt.grid()"
   ]
  },
  {
   "cell_type": "markdown",
   "metadata": {
    "deletable": false,
    "editable": false,
    "nbgrader": {
     "cell_type": "markdown",
     "checksum": "1cd90c315c5355518953932a284b7675",
     "grade": false,
     "grade_id": "cell-108742731508443",
     "locked": true,
     "schema_version": 3,
     "solution": false
    }
   },
   "source": [
    "**(b)** [10] Estimate $\\max |\\ell_k(x)|$ for $N > 2$ by writing a function that returns the maximum absolute value of all Lagrange basis functions for $N$ evenly spaced points.  Note that $N$ is the polynomial order, not the number of points.  Use\n",
    "```python\n",
    "x = numpy.linspace(-1, 1, 100)\n",
    "```\n",
    "to evaluate the polynomial.  Also it may be helpful to plot the basis and the maximum found to check your answer:\n",
    "```python\n",
    "fig = plt.figure()\n",
    "axes = fig.add_subplot(1, 1, 1)\n",
    "axes.plot(x, lagrange_basis)\n",
    "axes.plot(x_max, lagrange_basis_max, 'ko')\n",
    "```"
   ]
  },
  {
   "cell_type": "code",
   "execution_count": 185,
   "metadata": {
    "deletable": false,
    "nbgrader": {
     "cell_type": "code",
     "checksum": "883e97a0b1b92e5301143cafc8747ce8",
     "grade": false,
     "grade_id": "cell-1846687567556877",
     "locked": false,
     "schema_version": 3,
     "solution": true
    }
   },
   "outputs": [],
   "source": [
    "def lagrange_basis(x, data):\n",
    "    \"\"\"Compute Lagrange basis at x given data\"\"\"\n",
    "    basis = numpy.ones((data.shape[0], x.shape[0]))\n",
    "    for i in range(data.shape[0]):\n",
    "        for j in range(data.shape[0]):\n",
    "            if i != j:\n",
    "                basis[i, :] *= (x - data[j, 0]) / (data[i, 0] - data[j, 0])\n",
    "    return basis\n",
    "\n",
    "def max_equal_basis(N):\n",
    "    r\"\"\"Compute the maximum amplitude of the Lagrange\n",
    "    polynomial basis of degree *N*\n",
    "    \n",
    "    \"\"\"\n",
    "    x = numpy.linspace(-1, 1, 100)\n",
    "    \n",
    "    # YOUR CODE HERE    \n",
    "    x_data = [-1.]\n",
    "    increment = 2/N #distance between points\n",
    "    \n",
    "    #this gives the x_data which is the same as x when N = 100\n",
    "    for i in range(N-1):\n",
    "        x_data.append(x_data[i]+increment)\n",
    "    x_data.append(1.)\n",
    "    \n",
    "    x_data = numpy.array(x_data)\n",
    "    y_data = numpy.ones(len(x_data))\n",
    "    \n",
    "    data = numpy.array([x_data,y_data]).T\n",
    "    basis = lagrange_basis(x,data)\n",
    "    \n",
    "    return max([max(abs(b)) for b in basis])"
   ]
  },
  {
   "cell_type": "code",
   "execution_count": 186,
   "metadata": {
    "deletable": false,
    "editable": false,
    "nbgrader": {
     "cell_type": "code",
     "checksum": "5297b1a663db6739291d9b220e0f2068",
     "grade": true,
     "grade_id": "cell-4790850008223281",
     "locked": true,
     "points": 10,
     "schema_version": 3,
     "solution": false
    }
   },
   "outputs": [
    {
     "name": "stdout",
     "output_type": "stream",
     "text": [
      "Success!\n"
     ]
    }
   ],
   "source": [
    "N = [2, 4, 6, 8, 10, 12, 20, 30, 40]\n",
    "max_value = numpy.empty(len(N))\n",
    "for (i, n) in enumerate(N):\n",
    "    max_value[i] = max_equal_basis(n)\n",
    "numpy.testing.assert_allclose(max_value, [1.00000000e+00, 1.15204532e+00, 1.36216139e+00, \n",
    "                                          2.54889859e+00, 6.50684027e+00, 1.80407350e+01, \n",
    "                                          1.79785431e+03, 8.77912809e+05, 4.27506380e+08])\n",
    "\n",
    "print(\"Success!\")"
   ]
  },
  {
   "cell_type": "markdown",
   "metadata": {
    "deletable": false,
    "editable": false,
    "nbgrader": {
     "cell_type": "markdown",
     "checksum": "7f42157667b4cd448b19fe57c102df9b",
     "grade": false,
     "grade_id": "cell-4319376963517508",
     "locked": true,
     "schema_version": 3,
     "solution": false
    }
   },
   "source": [
    "**(c)** [5] Repeat part **b** but with Chebyshev points.  Note that these are Lagrangian basis functions using Chebyshev points (or nodes) rather than the Chebyshev polynomial basis.  Again use the plotting code above if you need to debug."
   ]
  },
  {
   "cell_type": "code",
   "execution_count": 187,
   "metadata": {
    "deletable": false,
    "nbgrader": {
     "cell_type": "code",
     "checksum": "977042cecd36427e1284c95a5e93d762",
     "grade": false,
     "grade_id": "cell-7014398607882874",
     "locked": false,
     "schema_version": 3,
     "solution": true
    }
   },
   "outputs": [],
   "source": [
    "def max_chebyshev_basis(N):\n",
    "    \"\"\"Using Chebyshev nodes and the corresponding Lagrangian basis\n",
    "    compute the maximum amplitude of the basis function of degree *N*.\n",
    "    \"\"\"\n",
    "    x = numpy.linspace(-1, 1, 100)\n",
    "    \n",
    "    # YOUR CODE HERE    \n",
    "    num = numpy.arange(1,N+2,1)\n",
    "    x_data = numpy.cos(((2*num-1)*numpy.pi)/(2*N+2))\n",
    "    \n",
    "    #num = numpy.arange(1,N+1,1)\n",
    "    #x_data = numpy.cos(((2*num-1)*numpy.pi)/(2*N))\n",
    "    \n",
    "    x_data = numpy.array(x_data)\n",
    "    y_data = numpy.ones(len(x_data))\n",
    "    \n",
    "    data = numpy.array([x_data,y_data]).T\n",
    "    basis = lagrange_basis(x,data)\n",
    "    \n",
    "    return max([max(abs(b)) for b in basis])"
   ]
  },
  {
   "cell_type": "code",
   "execution_count": 191,
   "metadata": {
    "deletable": false,
    "editable": false,
    "nbgrader": {
     "cell_type": "code",
     "checksum": "15ffd63c8ff63e73eddff1559ce9c507",
     "grade": true,
     "grade_id": "cell-4966796702486256",
     "locked": true,
     "points": 5,
     "schema_version": 3,
     "solution": false
    }
   },
   "outputs": [
    {
     "name": "stdout",
     "output_type": "stream",
     "text": [
      "Success!\n"
     ]
    }
   ],
   "source": [
    "N = [2, 4, 6, 8, 10, 12, 20, 30, 40]\n",
    "max_value = numpy.empty(len(N))\n",
    "for (i, n) in enumerate(N):\n",
    "    max_value[i] = max_chebyshev_basis(n)\n",
    "\n",
    "numpy.testing.assert_allclose(max_value, [1.24401694, 1.2627503, 1.26789221, 1.27000581, \n",
    "                                          1.27107518, 1.27169006, 1.27264584, 1.27296711,\n",
    "                                          1.2730838])\n",
    "\n",
    "print(\"Success!\")"
   ]
  },
  {
   "cell_type": "markdown",
   "metadata": {
    "deletable": false,
    "editable": false,
    "nbgrader": {
     "cell_type": "markdown",
     "checksum": "7068d4dc9465c15e46dd59f5b0b30274",
     "grade": false,
     "grade_id": "cell-2867612339147590",
     "locked": true,
     "schema_version": 3,
     "solution": false
    }
   },
   "source": [
    "**(d)** [5] Plot a comparison of the results (on the same plot) from part **b** and **c** using the same values of N.  Make sure to use a `semilogy` plot so that the values are vieable (at least for one of the series)."
   ]
  },
  {
   "cell_type": "code",
   "execution_count": 194,
   "metadata": {
    "deletable": false,
    "nbgrader": {
     "cell_type": "code",
     "checksum": "093d9cf0591f8e5847b9bae28e94c68d",
     "grade": true,
     "grade_id": "cell-7707828088791371",
     "locked": false,
     "points": 5,
     "schema_version": 3,
     "solution": true
    }
   },
   "outputs": [
    {
     "data": {
      "text/plain": [
       "<matplotlib.legend.Legend at 0x7f4c079eacd0>"
      ]
     },
     "execution_count": 194,
     "metadata": {},
     "output_type": "execute_result"
    },
    {
     "data": {
      "image/png": "[encoded data removed]",
      "text/plain": [
       "<Figure size 432x288 with 1 Axes>"
      ]
     },
     "metadata": {
      "needs_background": "light"
     },
     "output_type": "display_data"
    }
   ],
   "source": [
    "# YOUR CODE HERE\n",
    "N = [2, 4, 6, 8, 10, 12, 20, 30, 40]\n",
    "\n",
    "c_max_value = numpy.empty(len(N))\n",
    "for (i, n) in enumerate(N):\n",
    "    c_max_value[i] = max_chebyshev_basis(n)\n",
    "\n",
    "l_max_value = numpy.empty(len(N))\n",
    "for (i, n) in enumerate(N):\n",
    "    l_max_value[i] = max_equal_basis(n)\n",
    "\n",
    "plt.semilogy(N, c_max_value, label=\"Chebyshev Spacing\")\n",
    "plt.semilogy(N, l_max_value, label=\"Equal Spacing\")\n",
    "\n",
    "plt.legend()"
   ]
  },
  {
   "cell_type": "markdown",
   "metadata": {
    "deletable": false,
    "editable": false,
    "nbgrader": {
     "cell_type": "markdown",
     "checksum": "6211acc2968389f2b9c915eb25a986ed",
     "grade": false,
     "grade_id": "cell-e4a09beea3442364",
     "locked": true,
     "schema_version": 3,
     "solution": false,
     "task": false
    }
   },
   "source": [
    "## Question 3\n",
    "\n",
    "Consider the Lebesgue function\n",
    "$$\n",
    "\\lambda_N(x)  = \\sum_{i=0}^N\\big{|}\\ell_i(x)\\big{|}\n",
    "$$\n",
    "where $\\ell_i(x)$ are Lagrange basis functions for a given set of $x_i$.  The maximum of the Lebesgue function is called $\\Lambda_n$ the Lebesgue constant and have a clear connection to Lagrangian interpolation as they provide a first estimate for the interpolation error.  Unfortunately, $\\Lambda_N$ is not uniformly bounded regardless of the nodes used as one can show that \n",
    "$$\n",
    "    \\Lambda_N > \\mathcal{O}(\\log N) ~~~\\text{as}~~~ N \\rightarrow \\infty\n",
    "$$\n",
    "\n",
    "Note, $\\Lambda_n$ is the infinite-norm of the linear operator mapping data to interpolant on the given grid and interval."
   ]
  },
  {
   "cell_type": "markdown",
   "metadata": {
    "deletable": false,
    "editable": false,
    "nbgrader": {
     "cell_type": "markdown",
     "checksum": "1d3fe3385eb6de35e12c1b3dbba5ae5b",
     "grade": false,
     "grade_id": "cell-776abdcd953b3800",
     "locked": true,
     "schema_version": 3,
     "solution": false,
     "task": false
    }
   },
   "source": [
    "**(a)** [5] What do you expect the Lebesgue function to look like?  Are there key points where we will know the function value exactly?"
   ]
  },
  {
   "cell_type": "markdown",
   "metadata": {
    "deletable": false,
    "nbgrader": {
     "cell_type": "markdown",
     "checksum": "be268da4210714781f969b8c5ad48eb0",
     "grade": true,
     "grade_id": "cell-8b13376ff99b9478",
     "locked": false,
     "points": 5,
     "schema_version": 3,
     "solution": true,
     "task": false
    }
   },
   "source": [
    "I expect the Lebesque function too look like a series of non-overlapping humps. Due to the a special property of the Lagrange basis functions, I know that the value of $\\lambda_N(x_i)  = \\sum_{i=0}^N\\big{|}\\ell_i(x_i)\\big{|}$ reduces simply to $\\lambda_N(x_i)  = \\delta_{ii} = 1$. This means the relative maxima of the Lebesque function will be given by the points $x_i$. \n",
    "\n",
    "\n",
    "$$\n",
    "    \\ell_i(x_j) = \\delta_{ij} = \\left\\{\\begin{matrix}\n",
    "            0 & i\\neq j \\\\ \n",
    "            1 & i=j\\\\\n",
    "            \\end{matrix}\\right.\n",
    "$$"
   ]
  },
  {
   "cell_type": "markdown",
   "metadata": {
    "deletable": false,
    "editable": false,
    "nbgrader": {
     "cell_type": "markdown",
     "checksum": "d99ac09622756b920dcb3c3f92f0ef49",
     "grade": false,
     "grade_id": "cell-038a24ac86e5f79b",
     "locked": true,
     "schema_version": 3,
     "solution": false,
     "task": false
    }
   },
   "source": [
    "**(b)** [10] Plot the Lebesgue function for $x\\in[-1, 1]$ for $N = 5, 10, 20$ with\n",
    "$$\n",
    "    x_i = -1 + \\frac{2 i}{N}, ~~~ i = 0, 1, \\ldots, N.\n",
    "$$\n",
    "For the case where $N = 20$ comment on what you see (you may need to use `semilogy` to see the results)."
   ]
  },
  {
   "cell_type": "code",
   "execution_count": 4,
   "metadata": {
    "deletable": false,
    "nbgrader": {
     "cell_type": "code",
     "checksum": "74db041051326d0c4711da22b0c6b87a",
     "grade": true,
     "grade_id": "cell-2983e005a89bf619",
     "locked": false,
     "points": 7,
     "schema_version": 3,
     "solution": true,
     "task": false
    }
   },
   "outputs": [],
   "source": [
    "# YOUR CODE HERE\n",
    "def lagrange_basis(x, data):\n",
    "    \"\"\"Compute Lagrange basis at x given data\"\"\"\n",
    "    basis = numpy.ones((data.shape[0], x.shape[0]))\n",
    "    for i in range(data.shape[0]):\n",
    "        for j in range(data.shape[0]):\n",
    "            if i != j:\n",
    "                basis[i, :] *= (x - data[j, 0]) / (data[i, 0] - data[j, 0])\n",
    "    return basis\n",
    "\n",
    "def lebesgue(x, data):\n",
    "    \"\"\"Compute Lebesgue basis at x given data\"\"\"\n",
    "    P = numpy.zeros(x.shape[0])\n",
    "    basis = lagrange_basis(x, data)\n",
    "    for n in range(data.shape[0]):\n",
    "        P += abs(basis[n, :] * data[n, 1])\n",
    "    return P\n",
    "\n",
    "def data_equidis(m):\n",
    "    x = numpy.empty(m + 1)\n",
    "    y = numpy.ones(x.shape)\n",
    "    for i in range(m + 1):\n",
    "        x[i] = -1 + (2 * i)/m\n",
    "    data = numpy.array([x, y]).T\n",
    "    return data\n",
    "\n",
    "def data_cheb(m):\n",
    "    x = numpy.empty(m + 1)\n",
    "    y = numpy.ones(x.shape)\n",
    "    for i in range(m + 1):\n",
    "        x[i] = numpy.cos((2.0 * i) / (2.0 * m) * numpy.pi)\n",
    "    data = numpy.array([x, y]).T\n",
    "    return data\n",
    "\n"
   ]
  },
  {
   "cell_type": "code",
   "execution_count": 17,
   "metadata": {},
   "outputs": [
    {
     "data": {
      "text/plain": [
       "<matplotlib.legend.Legend at 0x7fb94908faf0>"
      ]
     },
     "execution_count": 17,
     "metadata": {},
     "output_type": "execute_result"
    },
    {
     "data": {
      "image/png": "[encoded data removed]",
      "text/plain": [
       "<Figure size 432x288 with 1 Axes>"
      ]
     },
     "metadata": {
      "needs_background": "light"
     },
     "output_type": "display_data"
    }
   ],
   "source": [
    "n = 5,10,20\n",
    "for N in n:\n",
    "    plt.semilogy(x, lebesgue(x, data_equidis(N)),label=\"N = %d\" %N)\n",
    "plt.legend()"
   ]
  },
  {
   "cell_type": "markdown",
   "metadata": {
    "deletable": false,
    "nbgrader": {
     "cell_type": "markdown",
     "checksum": "3092508c390d0c8641996f1b5082d593",
     "grade": true,
     "grade_id": "cell-d70170bc3968b2fb",
     "locked": false,
     "points": 3,
     "schema_version": 3,
     "solution": true,
     "task": false
    }
   },
   "source": [
    "Error significantly increases towards the outer boundaries"
   ]
  },
  {
   "cell_type": "markdown",
   "metadata": {
    "deletable": false,
    "editable": false,
    "nbgrader": {
     "cell_type": "markdown",
     "checksum": "2d12a8fa4220c0f12389af948a9bc410",
     "grade": false,
     "grade_id": "cell-a9205f0cd3d1aca8",
     "locked": true,
     "schema_version": 3,
     "solution": false,
     "task": false
    }
   },
   "source": [
    "**(c)** [5] Plot the Lebesgue function for $x\\in[-1, 1]$ for $N = 5, 10, 20$ with\n",
    "$$\n",
    "    x_i = \\cos\\left( \\frac{(2i - 1) \\pi}{2 N} \\right ) ~~~ i = 1, \\ldots, N.\n",
    "$$\n",
    "Again comment on what you see in the case $N = 20$."
   ]
  },
  {
   "cell_type": "code",
   "execution_count": 7,
   "metadata": {
    "deletable": false,
    "nbgrader": {
     "cell_type": "code",
     "checksum": "6936caf99b1685b9f3480277bbcb0108",
     "grade": true,
     "grade_id": "cell-6b6cbb6081a6ec7a",
     "locked": false,
     "points": 5,
     "schema_version": 3,
     "solution": true,
     "task": false
    }
   },
   "outputs": [
    {
     "data": {
      "text/plain": [
       "<matplotlib.legend.Legend at 0x7fb94abcbbb0>"
      ]
     },
     "execution_count": 7,
     "metadata": {},
     "output_type": "execute_result"
    },
    {
     "data": {
      "image/png": "[encoded data removed]",
      "text/plain": [
       "<Figure size 432x288 with 1 Axes>"
      ]
     },
     "metadata": {
      "needs_background": "light"
     },
     "output_type": "display_data"
    }
   ],
   "source": [
    "n =[5,10,20]\n",
    "\n",
    "for N in n:   \n",
    "    plt.semilogy(x, lebesgue(x, data_cheb(N)),label=\"N = %d\" %N)\n",
    "plt.legend()"
   ]
  },
  {
   "cell_type": "markdown",
   "metadata": {
    "deletable": false,
    "editable": false,
    "nbgrader": {
     "cell_type": "markdown",
     "checksum": "29f83c46d1e8271159865c5623a4d1d1",
     "grade": false,
     "grade_id": "cell-80777791bf52e9b4",
     "locked": true,
     "schema_version": 3,
     "solution": false,
     "task": false
    }
   },
   "source": [
    "**(d)** [5] What do you observe about the Lebesgue function for each of the distribution of points?"
   ]
  },
  {
   "cell_type": "markdown",
   "metadata": {
    "deletable": false,
    "nbgrader": {
     "cell_type": "markdown",
     "checksum": "cbeee7b8148cc0b9c062ce391ca93cef",
     "grade": true,
     "grade_id": "cell-cb01d5c3e8fcb7b7",
     "locked": false,
     "points": 5,
     "schema_version": 3,
     "solution": true,
     "task": false
    }
   },
   "source": [
    "For the equispaced points, the polynomial interpolation is ill-conditioned. As n increases the value of the function balloons. For the Chebyshev points, the function drops off logarithmically, demonstrating that it is a better spacing for interpolation."
   ]
  },
  {
   "cell_type": "markdown",
   "metadata": {
    "deletable": false,
    "editable": false,
    "nbgrader": {
     "cell_type": "markdown",
     "checksum": "89e9907db09d3a1de17bc36f6792ee51",
     "grade": false,
     "grade_id": "cell-cfd76f58616457e1",
     "locked": true,
     "schema_version": 3,
     "solution": false,
     "task": false
    }
   },
   "source": [
    "**(e)** [5] Using suitable values for $N$ plot the Lebesgue constants of each of the above cases.  Make sure to use a suitably large number of points to evaluate the function.  Graphically demonstrate that the constant grow with the predicted growth rate $\\mathcal{O}(\\log N)$ keeping in mind that there may be a constant out in front of the $\\log N$ term.  Describe what you observe."
   ]
  },
  {
   "cell_type": "code",
   "execution_count": 16,
   "metadata": {
    "deletable": false,
    "nbgrader": {
     "cell_type": "code",
     "checksum": "dddfd9db3ab6cb7121d7458fd24d7bf5",
     "grade": true,
     "grade_id": "cell-10f1ad2a4851a350",
     "locked": false,
     "points": 3,
     "schema_version": 3,
     "solution": true,
     "task": false
    }
   },
   "outputs": [
    {
     "data": {
      "image/png": "[encoded data removed]",
      "text/plain": [
       "<Figure size 432x288 with 1 Axes>"
      ]
     },
     "metadata": {
      "needs_background": "light"
     },
     "output_type": "display_data"
    }
   ],
   "source": [
    "# YOUR CODE HERE\n",
    "M = 50\n",
    "n = numpy.arange(1, M + 1)\n",
    "A_equi = numpy.empty(M)\n",
    "A_cheb = numpy.empty(M)\n",
    "for i in range(0, M):\n",
    "    A_equi[i] = lebesgue(x, data_equidis(i + 1)).max()\n",
    "    A_cheb[i] = lebesgue(x, data_cheb(i + 1)).max()\n",
    "\n",
    "plt.xlabel(\"N\", fontsize=12)\n",
    "plt.ylabel(\"$\\Lambda_{N}$\", fontsize=12)\n",
    "plt.plot(n, A_equi, label = \"$\\Lambda_{N}$ (Equidistant points)\")\n",
    "\n",
    "plt.show()\n"
   ]
  },
  {
   "cell_type": "code",
   "execution_count": 15,
   "metadata": {},
   "outputs": [
    {
     "data": {
      "text/plain": [
       "[<matplotlib.lines.Line2D at 0x7fb9490fc970>]"
      ]
     },
     "execution_count": 15,
     "metadata": {},
     "output_type": "execute_result"
    },
    {
     "data": {
      "image/png": "[encoded data removed]",
      "text/plain": [
       "<Figure size 432x288 with 1 Axes>"
      ]
     },
     "metadata": {
      "needs_background": "light"
     },
     "output_type": "display_data"
    }
   ],
   "source": [
    "plt.plot(n, A_cheb, label = \"$\\Lambda_{N}$ (Chebyshev points)\")"
   ]
  },
  {
   "cell_type": "markdown",
   "metadata": {
    "deletable": false,
    "nbgrader": {
     "cell_type": "markdown",
     "checksum": "427a6dd45db93d316ba8f36ee88b5540",
     "grade": true,
     "grade_id": "cell-3dadda7f36443bfd",
     "locked": false,
     "points": 2,
     "schema_version": 3,
     "solution": true,
     "task": false
    }
   },
   "source": [
    "Error grows logarithmically with Chebyshev points but grows exponentially with equidistant points"
   ]
  },
  {
   "cell_type": "markdown",
   "metadata": {
    "collapsed": true,
    "deletable": false,
    "editable": false,
    "nbgrader": {
     "cell_type": "markdown",
     "checksum": "dd78e6511500813405fee46f2fda4981",
     "grade": false,
     "grade_id": "cell-ae4184c87fbd7b7f",
     "locked": true,
     "schema_version": 3,
     "solution": false,
     "task": false
    }
   },
   "source": [
    "## Question 4\n",
    "\n",
    "In lecture we constructed the system of equations we need to solve for each interval if we wanted to use a piece-wise cubic function and have an interpolant that is $C^1$.  This questions addresses the details of that derivation."
   ]
  },
  {
   "cell_type": "markdown",
   "metadata": {
    "collapsed": true,
    "deletable": false,
    "editable": false,
    "nbgrader": {
     "cell_type": "markdown",
     "checksum": "e49373f22d330f7b1c8d5597610625f7",
     "grade": false,
     "grade_id": "cell-0352462338c1e96d",
     "locked": true,
     "schema_version": 3,
     "solution": false,
     "task": false
    }
   },
   "source": [
    "**(a)** [5] Let $x \\in [x_k, x_{k+1}] = X$ and $s \\in [0, 1] = S$.  Write down the transformation we need to map the $X$ and $S$ to each other, i.e. $T:X \\rightarrow S$, along with its inverse $T^{-1}$."
   ]
  },
  {
   "cell_type": "markdown",
   "metadata": {
    "deletable": false,
    "nbgrader": {
     "cell_type": "markdown",
     "checksum": "acec4da0387c7a730cb00859536775de",
     "grade": true,
     "grade_id": "cell-2de237b1ac9a175c",
     "locked": false,
     "points": 5,
     "schema_version": 3,
     "solution": true,
     "task": false
    }
   },
   "source": [
    "$$ T(x) = mx+b,  T(x) = \\frac{1}{x_{k+1} + x_k} x - \\frac{x}{x_{k+1} + x_k}$$\n",
    "\n",
    "$$ T(x) = \\frac{x - x_k}{x_{k+1} + x_k} $$\n",
    "\n",
    "Similarly\n",
    "\n",
    "$$ T^{-1}(s) = (x_{k+1} - x_k)s + x_k = s \\Delta x + x_k = x_k + s(x_{k+1} - x _k)$$"
   ]
  },
  {
   "cell_type": "markdown",
   "metadata": {
    "collapsed": true,
    "deletable": false,
    "editable": false,
    "nbgrader": {
     "cell_type": "markdown",
     "checksum": "c294beb974f8fd1a979b61e5536491e6",
     "grade": false,
     "grade_id": "cell-79c34672a3164ab8",
     "locked": true,
     "schema_version": 3,
     "solution": false,
     "task": false
    }
   },
   "source": [
    "**(b)** [15] After making the transformation of the equations we found that the system of equations that result are\n",
    "$$\\begin{bmatrix}\n",
    "    1 & 0 & 0 & 0 \\\\\n",
    "    1 & 1 & 1 & 1 \\\\\n",
    "    0 & 1 & 0 & 0 \\\\\n",
    "    0 & 1 & 2 & 3\n",
    "\\end{bmatrix} \\begin{bmatrix}\n",
    "p_0 \\\\ p_1 \\\\ p_2 \\\\ p_3\n",
    "\\end{bmatrix} = \\begin{bmatrix}\n",
    "y_k \\\\ y_{k+1} \\\\ d_k \\\\ d_{k+1}\n",
    "\\end{bmatrix}$$\n",
    "Show that the solution is\n",
    "$$\n",
    "    \\mathcal{P}(s) = (1-s)^2 (1 + 2s) y_k + s^2 (3 - 2 s) y_{k+1} + s (1 - s)^2 d_k - s^2 (1 - s)d_{k+1}\n",
    "$$"
   ]
  },
  {
   "cell_type": "markdown",
   "metadata": {
    "deletable": false,
    "nbgrader": {
     "cell_type": "markdown",
     "checksum": "87689ad8d70be1f8ce933573a2438eed",
     "grade": true,
     "grade_id": "cell-aaa12b6bd8ff0c14",
     "locked": false,
     "points": 10,
     "schema_version": 3,
     "solution": true,
     "task": false
    }
   },
   "source": [
    "Solve using the Inverse method,\n",
    "\n",
    "The Inverse is \n",
    "$$\\begin{bmatrix}\n",
    "    1 & 0 & 0 & 0 \\\\\n",
    "    0 & 0 & 1 & 0 \\\\\n",
    "    -3 & 3 & -2 & -1 \\\\\n",
    "    2 & -2 & 1 & 1\n",
    "\\end{bmatrix}\n",
    "$$\n",
    "\n",
    "$$\\begin{bmatrix}\n",
    "    1 & 0 & 0 & 0 \\\\\n",
    "    0 & 0 & 1 & 0 \\\\\n",
    "    -3 & 3 & -2 & -1 \\\\\n",
    "    2 & -2 & 1 & 1\n",
    "\\end{bmatrix} \\begin{bmatrix}\n",
    "y_k \\\\ y_{k+1} \\\\ d_k \\\\ d_{k+1}\n",
    "\\end{bmatrix} = \\begin{bmatrix}\n",
    "p_0 \\\\ p_1 \\\\ p_2 \\\\ p_3\n",
    "\\end{bmatrix} $$\n",
    "\n",
    "$$ \\begin{bmatrix}\n",
    "p_0 \\\\ p_1 \\\\ p_2 \\\\ p_3\n",
    "\\end{bmatrix} =  \\begin{bmatrix}\n",
    "y_k \\\\ d_k \\\\ -3y_k +3y_{k+1} -2d_k - d_{k+1} \\\\ 2y_k - 2y_{k+1} + d_k + d_{k+1} \n",
    "\\end{bmatrix}$$\n",
    "\n"
   ]
  },
  {
   "cell_type": "markdown",
   "metadata": {},
   "source": [
    "$$ P(s) = y_k + (d_k)s + (-3y_k +3y_{k+1} -2d_k - d_{k+1})s^2 + (2y_k - 2y_{k+1} + d_k + d_{k+1})s^3 $$\n",
    "\n",
    "$$ P(s) = y_k (1 - 3s^2 + 2s^3) + y_{k+1} (3s^2 - 2s^3) + d_k(s - 2s^2) + d_{k+1} (s^3 - s^2)$$\n",
    "\n",
    "$$\n",
    "    \\mathcal{P}(s) = (1-s)^2 (1 + 2s) y_k + s^2 (3 - 2 s) y_{k+1} + s (1 - s)^2 d_k - s^2 (1 - s)d_{k+1}\n",
    "$$\n"
   ]
  },
  {
   "cell_type": "code",
   "execution_count": 1,
   "metadata": {
    "deletable": false,
    "nbgrader": {
     "cell_type": "code",
     "checksum": "156439ef2d67363e5145da5c615cdf3a",
     "grade": true,
     "grade_id": "cell-d0cff044e9da2438",
     "locked": false,
     "points": 5,
     "schema_version": 3,
     "solution": true,
     "task": false
    }
   },
   "outputs": [],
   "source": [
    "# YOUR CODE HERE\n",
    "#raise NotImplementedError()"
   ]
  },
  {
   "cell_type": "markdown",
   "metadata": {
    "collapsed": true,
    "deletable": false,
    "editable": false,
    "nbgrader": {
     "cell_type": "markdown",
     "checksum": "314a2428827d3e9100fa280411723ce2",
     "grade": false,
     "grade_id": "cell-2408279fe31cf0ed",
     "locked": true,
     "schema_version": 3,
     "solution": false,
     "task": false
    }
   },
   "source": [
    "**(c)** [10] Use $T^{-1}$ to transform back to $X$ and write down the polynomial in terms of the original variable $x$."
   ]
  },
  {
   "cell_type": "markdown",
   "metadata": {
    "deletable": false,
    "nbgrader": {
     "cell_type": "markdown",
     "checksum": "c1b3c7f9277ec43aab7a6572475d19d2",
     "grade": true,
     "grade_id": "cell-0f4d5f70eb6c9c5f",
     "locked": false,
     "points": 10,
     "schema_version": 3,
     "solution": true,
     "task": false
    }
   },
   "source": []
  },
  {
   "cell_type": "markdown",
   "metadata": {},
   "source": [
    "$$\n",
    "\\mathcal{P}(x) = (1-\\frac{x - x_k}{x_{k+1} + x_k}))^2 (1 + 2(\\frac{x - x_k}{x_{k+1} + x_k}) y_k + (\\frac{x - x_k}{x_{k+1} + x_k})^2 (3 - 2 (\\frac{x - x_k}{x_{k+1} + x_k})) y_{k+1} + (\\frac{x - x_k}{x_{k+1} + x_k}) (1 - (\\frac{x - x_k}{x_{k+1} + x_k}))^2 d_k - (\\frac{x - x_k}{x_{k+1} + x_k})^2 (1 - (\\frac{x - x_k}{x_{k+1} + x_k}))d_{k+1}\n",
    "$$"
   ]
  },
  {
   "cell_type": "code",
   "execution_count": null,
   "metadata": {},
   "outputs": [],
   "source": []
  }
 ],
 "metadata": {
  "kernelspec": {
   "display_name": "Python 3",
   "language": "python",
   "name": "python3"
  },
  "language_info": {
   "codemirror_mode": {
    "name": "ipython",
    "version": 3
   },
   "file_extension": ".py",
   "mimetype": "text/x-python",
   "name": "python",
   "nbconvert_exporter": "python",
   "pygments_lexer": "ipython3",
   "version": "3.8.8"
  },
  "latex_envs": {
   "bibliofile": "biblio.bib",
   "cite_by": "apalike",
   "current_citInitial": 1,
   "eqLabelWithNumbers": true,
   "eqNumInitial": 0
  }
 },
 "nbformat": 4,
 "nbformat_minor": 1
}
