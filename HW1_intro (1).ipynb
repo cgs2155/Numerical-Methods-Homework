{
 "cells": [
  {
   "cell_type": "code",
   "execution_count": 7,
   "metadata": {},
   "outputs": [],
   "source": [
    "%matplotlib inline\n",
    "%precision 16\n",
    "import numpy\n",
    "import matplotlib.pyplot as plt"
   ]
  },
  {
   "cell_type": "markdown",
   "metadata": {
    "deletable": false,
    "editable": false,
    "nbgrader": {
     "cell_type": "markdown",
     "checksum": "385a90b191b985b23a91ab59a95dd59d",
     "grade": false,
     "grade_id": "cell8034583235964563",
     "locked": true,
     "schema_version": 3,
     "solution": false
    }
   },
   "source": [
    "Before you turn this problem in, make sure everything runs as expected. First, restart the kernel (in the menubar, select Kernel $\\rightarrow$ Restart) and then run all cells (in the menubar, select Cell $\\rightarrow$ Run All).\n",
    "\n",
    "Make sure you fill in any place that says YOUR CODE HERE or \"YOUR ANSWER HERE\", as well as your name and collaborators below:"
   ]
  },
  {
   "cell_type": "markdown",
   "metadata": {
    "deletable": false,
    "editable": false,
    "nbgrader": {
     "cell_type": "markdown",
     "checksum": "5da3d6ae4a6d37e87ea88a8408508475",
     "grade": false,
     "grade_id": "cell8438889984008151",
     "locked": true,
     "schema_version": 3,
     "solution": false
    }
   },
   "source": [
    "# Homework 1:  Introduction"
   ]
  },
  {
   "cell_type": "markdown",
   "metadata": {
    "deletable": false,
    "editable": false,
    "nbgrader": {
     "cell_type": "markdown",
     "checksum": "5bed5cef4514b7a4a4b75a09c6a01ebe",
     "grade": false,
     "grade_id": "cell6823144658916374",
     "locked": true,
     "schema_version": 3,
     "solution": false
    }
   },
   "source": [
    "## Question 1\n",
    "\n",
    "Write out the solution (by-hand) to the following sets of equations.  **FULLY** justify your solution (do not just write the answer).\n",
    "\n",
    "If you want to review some of these concepts check out Strang's [Linear Algebra](https://clio.columbia.edu/catalog/10612929) text or for only the fundamentals check out Strang's [The Fundamental Theorem of Linear Algebra](http://www.jstor.org/stable/2324660?seq=1#page_scan_tab_contents)"
   ]
  },
  {
   "cell_type": "markdown",
   "metadata": {
    "deletable": false,
    "editable": false,
    "nbgrader": {
     "cell_type": "markdown",
     "checksum": "9bab782a6d2776f0f39a4e85d37164ce",
     "grade": false,
     "grade_id": "cell2016497183447183",
     "locked": true,
     "schema_version": 3,
     "solution": false
    }
   },
   "source": [
    "**(a)** (5) Solve $A x = b$ where\n",
    "$$\n",
    "    A = \\begin{bmatrix}\n",
    "        2 & 1 \\\\\n",
    "        1 & 3\n",
    "    \\end{bmatrix} ~~~~ \n",
    "    b = \\begin{bmatrix}\n",
    "        1 \\\\\n",
    "        -2\n",
    "    \\end{bmatrix}\n",
    "$$"
   ]
  },
  {
   "cell_type": "markdown",
   "metadata": {
    "deletable": false,
    "nbgrader": {
     "cell_type": "markdown",
     "checksum": "1f746b896dacaca522e729c046d584e0",
     "grade": true,
     "grade_id": "cell1448053803160613",
     "locked": false,
     "points": 10,
     "schema_version": 3,
     "solution": true
    }
   },
   "source": [
    "$$\n",
    "    \\begin{bmatrix}\n",
    "        2 & 1 \\\\\n",
    "        1 & 3\n",
    "    \\end{bmatrix} \n",
    "    \\begin{bmatrix}\n",
    "        x \\\\\n",
    "        y\n",
    "    \\end{bmatrix}\n",
    "     = \\begin{bmatrix}\n",
    "        1 \\\\\n",
    "        -2\n",
    "    \\end{bmatrix}\n",
    "$$\n",
    "\n",
    "$$\n",
    "    \\begin{bmatrix}\n",
    "        2 & 1 \\\\\n",
    "        2 & 6\n",
    "    \\end{bmatrix} \n",
    "    \\begin{bmatrix}\n",
    "        x \\\\\n",
    "        y\n",
    "    \\end{bmatrix}\n",
    "     = \\begin{bmatrix}\n",
    "        1 \\\\\n",
    "        -4\n",
    "    \\end{bmatrix}\n",
    "$$\n",
    "\n",
    "$$\n",
    "    \\begin{bmatrix}\n",
    "        2 & 1 \\\\\n",
    "        0 & 5\n",
    "    \\end{bmatrix} \n",
    "    \\begin{bmatrix}\n",
    "        x \\\\\n",
    "        y\n",
    "    \\end{bmatrix}\n",
    "     = \\begin{bmatrix}\n",
    "        1 \\\\\n",
    "        -5\n",
    "    \\end{bmatrix}\n",
    "$$\n",
    "\n",
    "$$\n",
    "    \\begin{bmatrix}\n",
    "        2 & 1 \\\\\n",
    "        0 & 1\n",
    "    \\end{bmatrix} \n",
    "    \\begin{bmatrix}\n",
    "        x \\\\\n",
    "        y\n",
    "    \\end{bmatrix}\n",
    "     = \\begin{bmatrix}\n",
    "        1 \\\\\n",
    "        -1\n",
    "    \\end{bmatrix}\n",
    "$$\n",
    "\n",
    "$$\n",
    "    \\begin{bmatrix}\n",
    "        2 & 0 \\\\\n",
    "        0 & 1\n",
    "    \\end{bmatrix} \n",
    "    \\begin{bmatrix}\n",
    "        x \\\\\n",
    "        y\n",
    "    \\end{bmatrix}\n",
    "     = \\begin{bmatrix}\n",
    "        2 \\\\\n",
    "        -1\n",
    "    \\end{bmatrix}\n",
    "$$\n",
    "$$\n",
    "    \\begin{bmatrix}\n",
    "        1 & 0 \\\\\n",
    "        0 & 1\n",
    "    \\end{bmatrix} \n",
    "    \\begin{bmatrix}\n",
    "        x \\\\\n",
    "        y\n",
    "    \\end{bmatrix}\n",
    "     = \\begin{bmatrix}\n",
    "        1 \\\\\n",
    "        -1\n",
    "    \\end{bmatrix}\n",
    "$$\n",
    "\n"
   ]
  },
  {
   "cell_type": "markdown",
   "metadata": {},
   "source": [
    "$$\n",
    "    x = \\begin{bmatrix}\n",
    "        1 \\\\\n",
    "        -1\n",
    "    \\end{bmatrix}\n",
    "$$"
   ]
  },
  {
   "cell_type": "markdown",
   "metadata": {
    "deletable": false,
    "editable": false,
    "nbgrader": {
     "cell_type": "markdown",
     "checksum": "04c1d84d159c07e51b85b05584426d9d",
     "grade": false,
     "grade_id": "cell5967828987159757",
     "locked": true,
     "schema_version": 3,
     "solution": false
    }
   },
   "source": [
    "**(b)** (5) Solve the system of equations:\n",
    "\\begin{align}\n",
    "    2x + 3y &= 1 \\\\\n",
    "    6x + 9y &= 3\n",
    "\\end{align}"
   ]
  },
  {
   "cell_type": "markdown",
   "metadata": {
    "deletable": false,
    "nbgrader": {
     "cell_type": "markdown",
     "checksum": "cd033b91ebe74b56915f2c205b546a2c",
     "grade": true,
     "grade_id": "cell9290127908697658",
     "locked": false,
     "points": 10,
     "schema_version": 3,
     "solution": true
    }
   },
   "source": [
    "I will solve this by substitution \n",
    "\n",
    "\\begin{align}\n",
    "    2x + 3y &= 1 \\\\\n",
    "    6x + 9y &= 3\n",
    "\\end{align}\n",
    "\n",
    "\\begin{align}\n",
    "    3(2x + 3y) &= 3(1) \\\\\n",
    "    6x + 9y &= 3\n",
    "\\end{align}\n",
    "\n",
    "\n",
    "\\begin{align}\n",
    "    6x + 9y &= 3 \\\\\n",
    "    6x + 9y &= 3\n",
    "\\end{align}\n",
    "\n",
    "\\begin{align}\n",
    "    6x + 9y &= 3 \\\\\n",
    "  -(6x + 9y &= 3)\n",
    "\\end{align}\n",
    "\n",
    "\\begin{align}\n",
    "    0 = 0\n",
    "\\end{align}\n",
    "\n",
    "There are infinite solutions as these are the same line"
   ]
  },
  {
   "cell_type": "markdown",
   "metadata": {
    "deletable": false,
    "editable": false,
    "nbgrader": {
     "cell_type": "markdown",
     "checksum": "d4a7a6b95b9be4f5d5a0d7b9a162dcbc",
     "grade": false,
     "grade_id": "cell5933027027760471",
     "locked": true,
     "schema_version": 3,
     "solution": false
    }
   },
   "source": [
    "**(c)** (5) Why will I not be able to solve $Ax=b$ for\n",
    "$$\n",
    "    A = \\begin{bmatrix}\n",
    "        2 & 1 \\\\\n",
    "        1 & 3 \\\\\n",
    "        0 & 4\n",
    "    \\end{bmatrix} ~~~~ \n",
    "    b = \\begin{bmatrix}\n",
    "        2 \\\\\n",
    "        0 \\\\\n",
    "        1\n",
    "    \\end{bmatrix}?\n",
    "$$\n",
    "Describe why this is a problem in terms of the column, row, left-null, and null spaces of $A$ and how that relates to the vector $b$."
   ]
  },
  {
   "cell_type": "markdown",
   "metadata": {
    "deletable": false,
    "nbgrader": {
     "cell_type": "markdown",
     "checksum": "88334d6c157760adbfb2de9560c34887",
     "grade": true,
     "grade_id": "cell2638454345631698",
     "locked": false,
     "points": 10,
     "schema_version": 3,
     "solution": true
    }
   },
   "source": [
    "1. In order for Ax = b to have a solution, b must be in the column space of A, meaning it's in the span of the column vectors, however b is not, so this system has no solution\n",
    "\n",
    "2. From the perspective of the null space, it can also be seen that there is no solution. The augmented matrix [A | b] must have a null space to demonstrate that b is linearly dependent on the vectors of A and is therefore a linear combination of the column vectors, meaning that they are in the column space and can be a solution to Ax = b. \n",
    "$$\n",
    "    [A|b] = \\begin{bmatrix}\n",
    "        2 & 1 & 2\\\\\n",
    "        1 & 3 & 0 \\\\\n",
    "        0 & 4 & 1 \n",
    "    \\end{bmatrix} \n",
    "$$\n",
    "In reducing [A|b] to RREF it can be seen that it reduces to the identity matrix.\n",
    "$$\n",
    "    [A|b] = \\begin{bmatrix}\n",
    "        1 & 0 & 0\\\\\n",
    "        0 & 1 & 0 \\\\\n",
    "        0 & 0 & 1 \n",
    "    \\end{bmatrix} \n",
    "$$\n",
    "Therefore it has a null space with only the trivial zero vector. This system has no solution.\n",
    "\n",
    "The only other explanations I have is that the with three rows, a null space with dimensionality of zero, and a rank of two, this system is inconsistent as we have a greater number of rows than the ran.\n"
   ]
  },
  {
   "cell_type": "markdown",
   "metadata": {
    "deletable": false,
    "editable": false,
    "nbgrader": {
     "cell_type": "markdown",
     "checksum": "6e78c79305b7362364088234b01cdb55",
     "grade": false,
     "grade_id": "cell4384914739699754",
     "locked": true,
     "schema_version": 3,
     "solution": false
    }
   },
   "source": [
    "## Question 2"
   ]
  },
  {
   "cell_type": "markdown",
   "metadata": {
    "deletable": false,
    "editable": false,
    "nbgrader": {
     "cell_type": "markdown",
     "checksum": "b1014fc20fac505bf86733dd30aa7857",
     "grade": false,
     "grade_id": "cell1244223495354736",
     "locked": true,
     "schema_version": 3,
     "solution": false
    }
   },
   "source": [
    "**(a)** (10) Write a function that computes\n",
    "$$\n",
    "    \\sum^\\infty_{n=1} \\frac{a^n}{b^{n-1}}\n",
    "$$\n",
    "until the difference between subsequent partial sums is less than the given tolerance $T$.  Return the computed sum.  Make sure to include a way for the function to exit if the partial sums do not satisfy the above criteria (the sum may not be convergent for instance)."
   ]
  },
  {
   "cell_type": "code",
   "execution_count": 8,
   "metadata": {
    "deletable": false,
    "nbgrader": {
     "cell_type": "code",
     "checksum": "20ae2dcfdc7388f9ee886485609f51fb",
     "grade": false,
     "grade_id": "cell3621925556728684",
     "locked": false,
     "schema_version": 3,
     "solution": true
    }
   },
   "outputs": [],
   "source": [
    "def compute_sum(a, b, tolerance=1e-5):\n",
    "    \"\"\"Compute the sum $\\sum^\\infty_{n=1} a^n / b^{n-1} until the partial sums are less than *tolerance*.\n",
    "    \n",
    "    Returns the computed sum and raises a *ValueError* if the sum appears to be diverging.\n",
    "    \"\"\"\n",
    "    # YOUR CODE HERE\n",
    "    #computed_sum = numpy.longdouble(0)\n",
    "    computed_sum = 0\n",
    "    curr_sum = computed_sum\n",
    "    for i in range(1,int(7e2) +1): #maximum of 70 steps to reach convergence before the function is ended\n",
    "        #new_sum = numpy.longdouble(numpy.power(a,i)/numpy.power(b,i-1))\n",
    "        new_sum = numpy.power(a,i)/numpy.power(b,i-1)\n",
    "\n",
    "        if(numpy.abs(new_sum - curr_sum) > tolerance):\n",
    "            curr_sum = new_sum\n",
    "            computed_sum+=curr_sum\n",
    "        else:\n",
    "            return computed_sum\n",
    "    #raise NotImplementedError()\n",
    "    return computed_sum"
   ]
  },
  {
   "cell_type": "code",
   "execution_count": 9,
   "metadata": {
    "deletable": false,
    "editable": false,
    "nbgrader": {
     "cell_type": "code",
     "checksum": "9cdfbbb5ffc21daf532fe139133be6af",
     "grade": true,
     "grade_id": "cell5655123106444739",
     "locked": true,
     "points": 10,
     "schema_version": 3,
     "solution": false
    }
   },
   "outputs": [
    {
     "ename": "AssertionError",
     "evalue": "",
     "output_type": "error",
     "traceback": [
      "\u001b[0;31m---------------------------------------------------------------------------\u001b[0m",
      "\u001b[0;31mAssertionError\u001b[0m                            Traceback (most recent call last)",
      "\u001b[0;32m<ipython-input-9-e874503d4e99>\u001b[0m in \u001b[0;36m<module>\u001b[0;34m\u001b[0m\n\u001b[1;32m      6\u001b[0m     \u001b[0;32mpass\u001b[0m\u001b[0;34m\u001b[0m\u001b[0;34m\u001b[0m\u001b[0m\n\u001b[1;32m      7\u001b[0m \u001b[0;32melse\u001b[0m\u001b[0;34m:\u001b[0m\u001b[0;34m\u001b[0m\u001b[0;34m\u001b[0m\u001b[0m\n\u001b[0;32m----> 8\u001b[0;31m     \u001b[0;32massert\u001b[0m \u001b[0;32mFalse\u001b[0m\u001b[0;34m\u001b[0m\u001b[0;34m\u001b[0m\u001b[0m\n\u001b[0m",
      "\u001b[0;31mAssertionError\u001b[0m: "
     ]
    }
   ],
   "source": [
    "numpy.testing.assert_allclose(compute_sum(-2.0, 3.0, 1e-16), -1.2)\n",
    "numpy.testing.assert_allclose(compute_sum(1.0, 2.0, 1e-16), 2.0)\n",
    "try:\n",
    "    compute_sum(2.0, 1.0, 1e-16)\n",
    "except ValueError:\n",
    "    pass\n",
    "else:\n",
    "    assert False"
   ]
  },
  {
   "cell_type": "markdown",
   "metadata": {
    "deletable": false,
    "editable": false,
    "nbgrader": {
     "cell_type": "markdown",
     "checksum": "9b49fec14ea4e31b34245749c919fe9d",
     "grade": false,
     "grade_id": "cell6074787325159711",
     "locked": true,
     "schema_version": 3,
     "solution": false
    }
   },
   "source": [
    "**(b)** (5) Explore different tolerances for your function above for $a=-2$ and $b=3$.  Plot the value of the tolerance\n",
    "$$\n",
    "    \\left| ~ \\sum^\\infty_{n=1} \\frac{a^n}{b^{n-1}} - (-1.2) ~\\right |\n",
    "$$\n",
    "versus the difference.  The plotting command `loglog` may be useful to effectively visualize the problem.  What do you observe?\n",
    "\n",
    "Hint:  Try using tolerances in the range $T \\in [10^{-30}, 10^{-2}]$.  Use the functions `logspace` to generate well spaced points and `loglog` to plot the data."
   ]
  },
  {
   "cell_type": "code",
   "execution_count": 10,
   "metadata": {
    "deletable": false,
    "nbgrader": {
     "cell_type": "code",
     "checksum": "57b77cd517b4b2a865cec8ff3fce4071",
     "grade": true,
     "grade_id": "cell5235988218415515",
     "locked": false,
     "points": 5,
     "schema_version": 3,
     "solution": true
    }
   },
   "outputs": [],
   "source": [
    "# YOUR CODE HERE\n",
    "#tol = [numpy.longdouble(10.0**(-i)) for i in range(2,31)] #tolerances\n",
    "tol = [10.0**(-i) for i in range(2,31)] #tolerances\n",
    "\n",
    "#tol = numpy.logspace(10e-30,10e-2)\n",
    "#dif = [numpy.abs(numpy.longdouble(compute_sum(-2.0, 3.0, i) + 1.2)) for i in tol]\n",
    "dif = [numpy.abs(compute_sum(-2.0, 3.0, i) + 1.2) for i in tol]\n",
    "\n",
    "#raise NotImplementedError()"
   ]
  },
  {
   "cell_type": "code",
   "execution_count": 11,
   "metadata": {},
   "outputs": [
    {
     "data": {
      "image/png": "[encoded data removed]",
      "text/plain": [
       "<Figure size 432x288 with 1 Axes>"
      ]
     },
     "metadata": {
      "needs_background": "light"
     },
     "output_type": "display_data"
    }
   ],
   "source": [
    "plt.loglog(tol,dif)\n",
    "plt.grid()"
   ]
  },
  {
   "cell_type": "markdown",
   "metadata": {
    "deletable": false,
    "nbgrader": {
     "cell_type": "markdown",
     "checksum": "dbd9f1e3a455851dfd5acb821f6b44c8",
     "grade": true,
     "grade_id": "cell9513987934167870",
     "locked": false,
     "points": 5,
     "schema_version": 3,
     "solution": true
    }
   },
   "source": [
    "Improvement in accuracy drops off severely after tolerances finer than $10^{15}$, but before that the effect is exponential. That being said, the lack of floating point precision causes no difference in accuracy to be registered after $10^{15}$, so nothing can be said for certain about improvements thereafter. I tried playing with the precision macro at the top. I thought that might give me another decimal place than the 16th which seems to be where I ran into issues. I also tried using the longdouble data type in numpy but that changed nothing. So all I really have is a relationship I can observe above a tolerance of $10^{15}$."
   ]
  },
  {
   "cell_type": "markdown",
   "metadata": {
    "deletable": false,
    "editable": false,
    "nbgrader": {
     "cell_type": "markdown",
     "checksum": "2da257a155fc956b611fabb1ba8fa62c",
     "grade": false,
     "grade_id": "cell4028669518644633",
     "locked": true,
     "schema_version": 3,
     "solution": false
    }
   },
   "source": [
    "## Question 3"
   ]
  },
  {
   "cell_type": "markdown",
   "metadata": {
    "deletable": false,
    "editable": false,
    "nbgrader": {
     "cell_type": "markdown",
     "checksum": "8a885747d9e8350e3d1fe4d780d2b165",
     "grade": false,
     "grade_id": "cell8219538542602342",
     "locked": true,
     "schema_version": 3,
     "solution": false
    }
   },
   "source": [
    "**(a)** (7) Compute the first 3 terms of the Taylor series of the function\n",
    "$$\n",
    "    f(x) = e^{-x^2} \\sin( x - \\pi)\n",
    "$$\n",
    "centered at $x_0 = \\pi$."
   ]
  },
  {
   "cell_type": "markdown",
   "metadata": {
    "deletable": false,
    "nbgrader": {
     "cell_type": "markdown",
     "checksum": "58d0551ec30b20f15c920a93befbf39b",
     "grade": true,
     "grade_id": "cell5045118735142062",
     "locked": false,
     "points": 10,
     "schema_version": 3,
     "solution": true
    }
   },
   "source": [
    "Taylor Formula\n",
    "$$\n",
    "    \\Sigma \\frac{f^{(n)} (x_0)}{n!} (x-x_0)^n\n",
    "$$\n",
    "I want to simplify the function to $$ f(x) = -e^{-x^2} \\sin(x) $$\n",
    "1st Term:\n",
    "$$\n",
    "    -e^{-\\pi^2} \\sin(\\pi - \\pi) = 0\n",
    "$$\n",
    "\n",
    "2nd Term:\n",
    "$$\n",
    "    \\frac{d}{dx}(-e^{-x^2} \\sin(x))|_{x=\\pi} (x-\\pi) \\\\\n",
    "    = e^{-\\pi^2}(2\\pi\\sin(\\pi) - \\cos(\\pi))(x-\\pi) \\\\\n",
    "    = e^{-\\pi^2}(x-\\pi) \n",
    "$$\n",
    "\n",
    "3nd Term:\n",
    "\n",
    "$$\n",
    "    \\frac{1}{2!} \\frac{d^2}{dx^2}(-e^{-x^2} \\sin(x))|_{x=\\pi} (x-\\pi)^2 \\\\\n",
    "    = \\frac{1}{2!} \\frac{d}{dx}(e^{-x^2}(2x\\sin(x) - \\cos(x)))|_{x=\\pi} (x-\\pi)^2\\\\    \n",
    "    = \\frac{1}{2!} [e^{-x^2}(3\\sin(x)+2x\\cos(x)) - 2xe^{x^2}(2x\\sin(x)-cos(x)) ]|_{x=\\pi} (x-\\pi)^2 \\\\\n",
    "    = \\frac{1}{2!} e^{-\\pi^2}(4 \\pi cos(\\pi)) (x-\\pi)^2\\\\\n",
    "    = -4 \\frac{1}{2!} \\pi e^{-\\pi^2} (x-\\pi)^2 \\\\\n",
    "    = -2 \\pi e^{-\\pi^2} (x-\\pi)^2\n",
    "$$"
   ]
  },
  {
   "cell_type": "markdown",
   "metadata": {
    "deletable": false,
    "editable": false,
    "nbgrader": {
     "cell_type": "markdown",
     "checksum": "c877dee2f3e94faaef443dd829917c88",
     "grade": false,
     "grade_id": "cell7388927421453205",
     "locked": true,
     "schema_version": 3,
     "solution": false
    }
   },
   "source": [
    "**(b)** (8) Solve the ODE\n",
    "$$\n",
    "    u'' + u' + \\frac{5}{4} u = 0\n",
    "$$\n",
    "with initial conditions $u(0) = 3$ and $u'(0) = 1$.  Plot the solution and comment on its behavior as $t \\rightarrow \\infty$."
   ]
  },
  {
   "cell_type": "markdown",
   "metadata": {
    "deletable": false,
    "nbgrader": {
     "cell_type": "markdown",
     "checksum": "2144bc75a57e08c4969ad228e60b7b3f",
     "grade": true,
     "grade_id": "cell8510568627368116",
     "locked": false,
     "points": 10,
     "schema_version": 3,
     "solution": true
    }
   },
   "source": [
    "$$\n",
    "    u'' + u' + \\frac{5}{4} u = 0\n",
    "$$\n",
    "\n",
    "The characteristic equation of ODE is:\n",
    "\n",
    "$$\n",
    "    r^2 + r + \\frac{5}{4} = 0\n",
    "$$\n",
    "\n",
    "This yields roots:\n",
    "\n",
    "$$\n",
    "    r = \\frac{-1}{2} \\pm i\n",
    "$$\n",
    "\n",
    "in the form of:\n",
    "$$\n",
    "    r = \\lambda \\pm \\mu i\n",
    "$$\n",
    "\n",
    "For homogenous second-order linear ODEs with complex roots take solutions of the form:\n",
    "\n",
    "$$\n",
    "    u(t) = e^{\\lambda t} (c_1 \\cos(\\mu t) + c_2 \\sin(\\mu t))\n",
    "$$\n",
    "\n",
    "Thus,\n",
    "$$\n",
    "    u(t) = e^{\\frac{-t}{2}} (c_1 \\cos(t) + c_2 \\sin(t))\n",
    "$$\n",
    "\n",
    "And including initial conditions: \n",
    "$$\n",
    "    u(t) = e^{\\frac{-t}{2}} (3 \\cos(t) + \\sin(t))\n",
    "$$"
   ]
  },
  {
   "cell_type": "code",
   "execution_count": 12,
   "metadata": {
    "deletable": false,
    "nbgrader": {
     "cell_type": "code",
     "checksum": "b1f067cc02543b4c9c13a4ddc8d2cb05",
     "grade": true,
     "grade_id": "cell9191289374012808",
     "locked": false,
     "points": 5,
     "schema_version": 3,
     "solution": true
    }
   },
   "outputs": [
    {
     "data": {
      "text/plain": [
       "Text(0, 0.5, 'u(t)')"
      ]
     },
     "execution_count": 12,
     "metadata": {},
     "output_type": "execute_result"
    },
    {
     "data": {
      "image/png": "[encoded data removed]",
      "text/plain": [
       "<Figure size 432x288 with 1 Axes>"
      ]
     },
     "metadata": {
      "needs_background": "light"
     },
     "output_type": "display_data"
    }
   ],
   "source": [
    "# YOUR CODE HERE\n",
    "#raise NotImplementedError()\n",
    "t = numpy.linspace(0, 12, 500)\n",
    "u = [numpy.exp(-i/2.0)*(3.0*numpy.cos(i) + numpy.sin(i)) for i in t]\n",
    "plt.title(\"u(t)\",fontsize=15)\n",
    "plt.plot(t,u,color=\"red\")\n",
    "plt.grid()\n",
    "plt.axhline(0, linestyle=\"--\",color=\"black\", lw=.8)\n",
    "plt.xlabel(\"t\",fontsize=15)\n",
    "plt.ylabel(\"u(t)\",fontsize=15)"
   ]
  },
  {
   "cell_type": "markdown",
   "metadata": {},
   "source": [
    "This is a damped oscillation that eventually decays to zero. The system has a frequency of 1 if we define it as\n",
    "$$\n",
    "\\omega = \\sqrt{\\frac{k}{m} - \\frac{\\gamma^2}{4m^2}} = \\sqrt{\\frac{5}{4} - \\frac{1}{4}} = 1 \n",
    "$$\n"
   ]
  },
  {
   "cell_type": "markdown",
   "metadata": {
    "deletable": false,
    "editable": false,
    "nbgrader": {
     "cell_type": "markdown",
     "checksum": "606c3d37347838e4236f811bf91a8f3b",
     "grade": false,
     "grade_id": "cell3807292108265957",
     "locked": true,
     "schema_version": 3,
     "solution": false
    }
   },
   "source": [
    "## Question 4\n",
    "\n",
    "(5) Plot something \"fun\" making sure to label the axes and colorbar if appropriate.  Use the [matplotlib gallery](http://matplotlib.org/gallery.html) for inspiration."
   ]
  },
  {
   "cell_type": "code",
   "execution_count": 19,
   "metadata": {
    "deletable": false,
    "nbgrader": {
     "cell_type": "code",
     "checksum": "ac2445ab7b621b18cc28c7cb20f332fd",
     "grade": true,
     "grade_id": "cell2439477339694822",
     "locked": false,
     "points": 10,
     "schema_version": 3,
     "solution": true
    }
   },
   "outputs": [],
   "source": [
    "from scipy.interpolate import griddata\n",
    "\n",
    "def plot_thickness(method,resolution):\n",
    "    X = numpy.arange(-1,2,1)\n",
    "    X = numpy.tile(X,3)\n",
    "\n",
    "    Y = numpy.asarray([-1,-1,-1,0,0,0,1,1,1])\n",
    "\n",
    "    Z = [numpy.random.rand() for i in range (0,9)]\n",
    "\n",
    "    xi = numpy.linspace(X.min(), X.max(), resolution) \n",
    "    yi = numpy.linspace(Y.min(), Y.max(), resolution)\n",
    "    zi = griddata((X, Y), Z, (xi[None,:], yi[:,None]), method=method)\n",
    "    \n",
    "    plt.contourf(xi,yi,zi,cmap=\"viridis\")\n",
    "    plt.colorbar()  \n",
    "    plt.title(\"Surface Thickness\")\n",
    "\n",
    "    plt.xlabel (\"X\")\n",
    "    plt.ylabel (\"Y\")"
   ]
  },
  {
   "cell_type": "code",
   "execution_count": 20,
   "metadata": {},
   "outputs": [],
   "source": [
    "# your options are for method are the same as scipy griddata interpolation methods\n",
    "# resolution isnt really resolution, it just decides the number of points created \n",
    "#between your min and max to fill in the graph. I didn't really know how to describe it\n",
    "# but having more points for interpolation will make the whole thing less blocky\n",
    "# if you're doing an interpolation method that isn't \"nearest\""
   ]
  },
  {
   "cell_type": "code",
   "execution_count": 21,
   "metadata": {},
   "outputs": [
    {
     "data": {
      "image/png": "[encoded data removed]",
      "text/plain": [
       "<Figure size 432x288 with 2 Axes>"
      ]
     },
     "metadata": {
      "needs_background": "light"
     },
     "output_type": "display_data"
    }
   ],
   "source": [
    "plot_thickness(\"cubic\", 1000)"
   ]
  },
  {
   "cell_type": "markdown",
   "metadata": {
    "deletable": false,
    "editable": false,
    "nbgrader": {
     "cell_type": "markdown",
     "checksum": "e064768b575d36c126c296fac73b66a0",
     "grade": false,
     "grade_id": "cell-ade3b6426b1ed3ab",
     "locked": true,
     "schema_version": 3,
     "solution": false
    }
   },
   "source": [
    "## Question 5 - The Trouble with Tribbles\n",
    "\n",
    "Plot the following data using the appropriate plot types making sure to adding lables, units, and titles.  Also refer to the [matplotlib gallery](http://matplotlib.org/gallery.html) to figure out how to plot some of what is asked.\n",
    "\n",
    "**(a)** [5] The number of tribbles (furry animals from Star Trek) is modeled by Spock to be exponential.  Spock predicts that in a 3 day period that the tribbles will go from an initial population number of $N_0 = 1$ to $N(3) = 1,771,561$ tribbles.  The assumptions that Spock made are the following:\n",
    " - The tribbles reproduce every 12 hours.\n",
    " - Tribbles reproduce asexually so that 1 tribble will produce 10 more tribbles leading to a total of 11 tribbles.\n",
    "Write a function that confirms Spock's estimate and plot the function."
   ]
  },
  {
   "cell_type": "code",
   "execution_count": 22,
   "metadata": {
    "deletable": false,
    "nbgrader": {
     "cell_type": "code",
     "checksum": "7a86f224f2b84d14858b48459f14730d",
     "grade": true,
     "grade_id": "cell-ced77d94995c3603",
     "locked": false,
     "points": 7,
     "schema_version": 3,
     "solution": true
    }
   },
   "outputs": [],
   "source": [
    "#far more efficient version FINAL ANSWER\n",
    "def tribble_pop(init,days):\n",
    "    return init*11**(2*days)"
   ]
  },
  {
   "cell_type": "code",
   "execution_count": 23,
   "metadata": {},
   "outputs": [],
   "source": [
    "days = numpy.arange(0,5.5,.5)\n",
    "pops = [tribble_pop(1,i) for i in days]"
   ]
  },
  {
   "cell_type": "code",
   "execution_count": 24,
   "metadata": {},
   "outputs": [
    {
     "data": {
      "text/plain": [
       "<matplotlib.legend.Legend at 0x7f72cb8bc5e0>"
      ]
     },
     "execution_count": 24,
     "metadata": {},
     "output_type": "execute_result"
    },
    {
     "data": {
      "image/png": "[encoded data removed]",
      "text/plain": [
       "<Figure size 432x288 with 1 Axes>"
      ]
     },
     "metadata": {
      "needs_background": "light"
     },
     "output_type": "display_data"
    }
   ],
   "source": [
    "plt.plot(days,pops,color=\"black\")\n",
    "plt.plot(3, tribble_pop(1,3), marker=\"o\", markersize=10, markeredgecolor=\"black\", markerfacecolor=\"red\", label = \"N(3) = %d\" %tribble_pop(1,3))\n",
    "plt.yscale(\"log\")\n",
    "plt.title(\"Population of Tribbles\")\n",
    "plt.xlabel(\"Days\", fontsize=15)\n",
    "plt.ylabel(\"Tribbles\", fontsize=15)\n",
    "plt.legend()"
   ]
  },
  {
   "cell_type": "markdown",
   "metadata": {
    "deletable": false,
    "editable": false,
    "nbgrader": {
     "cell_type": "markdown",
     "checksum": "3583a2a1b702c1af5d79486438e83124",
     "grade": false,
     "grade_id": "cell-7564389d26c906c0",
     "locked": true,
     "schema_version": 3,
     "solution": false
    }
   },
   "source": [
    "**(b)** [5] Assuming that tribbles cannot stack themselves on top of each other perfectly we also would like to model and plot the spread of tribbles throughout our space ship.  Assume our space ship is a square use the following function to plot the population on our space ship of tribbles:\n",
    "$$\n",
    "    N(x, y) = N_0 e^{-r^2/\\sigma^2}\n",
    "$$\n",
    "where $N_0 = 1000$, $\\sigma = 0.1$ and $r$ is the distance from the middle of our space ship."
   ]
  },
  {
   "cell_type": "code",
   "execution_count": 25,
   "metadata": {
    "deletable": false,
    "nbgrader": {
     "cell_type": "code",
     "checksum": "af9a4f6d65b6d0e9b4e246852ee41a34",
     "grade": true,
     "grade_id": "cell-57fc8ae3b01fafa8",
     "locked": false,
     "points": 8,
     "schema_version": 3,
     "solution": true
    }
   },
   "outputs": [],
   "source": [
    "# YOUR CODE HERE\n",
    "def tribble_pop(n_0,sigma,x,y):\n",
    "     return n_0 * numpy.exp(-(x**2 + y**2)/(sigma**2))\n",
    "    \n",
    "def plot_pop1D(n_0,sigma):\n",
    "    r = numpy.linspace(0.0,0.25,100)\n",
    "    plt.plot(r, n_0 * numpy.exp(-(r**2)/(sigma**2)))\n",
    "    plt.title(\"Tribble Population\",fontsize=16)\n",
    "    plt.xlabel(\"r (km)\",fontsize=15)\n",
    "    plt.ylabel(\"Tribbles\",fontsize=15)\n",
    "    \n",
    "def plot_pop2D(n_0,sigma):\n",
    "    x = numpy.linspace(-.25, .25, 100)\n",
    "    y = numpy.linspace(-.25, .25, 100)\n",
    "    X, Y = numpy.meshgrid(x, y)\n",
    "\n",
    "    fig = plt.figure()\n",
    "    fig.set_figwidth(fig.get_figwidth() * 2)\n",
    "\n",
    "    axes = fig.add_subplot(1, 2, 1, aspect='equal')\n",
    "    #tribble_density = axes.pcolor(X, Y, tribble_pop(n_0,sigma,X,Y), cmap=plt.get_cmap(\"viridis\"),shading='auto')\n",
    "    tribble_density=plt.contourf(X,Y,tribble_pop(n_0,sigma,X,Y),cmap=\"viridis\")\n",
    "    axes.set_xlabel(\"x (km)\")\n",
    "    axes.set_ylabel(\"y (km)\")\n",
    "    axes.set_title(\"Tribble Density ($N/km^2$)\")\n",
    "    cbar = plt.colorbar(tribble_density, ax=axes)\n",
    "    cbar.set_label(\"$1/km^2$\")\n",
    "\n",
    "    plt.show()"
   ]
  },
  {
   "cell_type": "code",
   "execution_count": 26,
   "metadata": {},
   "outputs": [
    {
     "data": {
      "image/png": "[encoded data removed]",
      "text/plain": [
       "<Figure size 864x288 with 2 Axes>"
      ]
     },
     "metadata": {
      "needs_background": "light"
     },
     "output_type": "display_data"
    }
   ],
   "source": [
    "n_0=1000\n",
    "sigma=.1\n",
    "plot_pop2D(n_0,sigma)"
   ]
  },
  {
   "cell_type": "code",
   "execution_count": 27,
   "metadata": {},
   "outputs": [
    {
     "data": {
      "image/png": "[encoded data removed]",
      "text/plain": [
       "<Figure size 432x288 with 1 Axes>"
      ]
     },
     "metadata": {
      "needs_background": "light"
     },
     "output_type": "display_data"
    }
   ],
   "source": [
    "n_0=1000\n",
    "sigma=.1\n",
    "plot_pop1D(n_0,sigma)"
   ]
  },
  {
   "cell_type": "code",
   "execution_count": null,
   "metadata": {},
   "outputs": [],
   "source": []
  }
 ],
 "metadata": {
  "kernelspec": {
   "display_name": "Python 3",
   "language": "python",
   "name": "python3"
  },
  "language_info": {
   "codemirror_mode": {
    "name": "ipython",
    "version": 3
   },
   "file_extension": ".py",
   "mimetype": "text/x-python",
   "name": "python",
   "nbconvert_exporter": "python",
   "pygments_lexer": "ipython3",
   "version": "3.8.8"
  }
 },
 "nbformat": 4,
 "nbformat_minor": 2
}
