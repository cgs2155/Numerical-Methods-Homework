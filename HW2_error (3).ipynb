{
 "cells": [
  {
   "cell_type": "code",
   "execution_count": 3,
   "id": "e88fca7d",
   "metadata": {
    "deletable": false,
    "editable": false,
    "nbgrader": {
     "cell_type": "code",
     "checksum": "ffc23a35c206d401ae8124ed9e6fce75",
     "grade": false,
     "grade_id": "cell-7531378247537850",
     "locked": true,
     "schema_version": 3,
     "solution": false
    }
   },
   "outputs": [],
   "source": [
    "%matplotlib inline\n",
    "import numpy\n",
    "import matplotlib.pyplot as plt"
   ]
  },
  {
   "cell_type": "markdown",
   "id": "4be43463",
   "metadata": {
    "deletable": false,
    "editable": false,
    "nbgrader": {
     "cell_type": "markdown",
     "checksum": "393f92de724a9fc8bc23bfa2bf04479a",
     "grade": false,
     "grade_id": "cell-1045934248403058",
     "locked": true,
     "schema_version": 3,
     "solution": false
    }
   },
   "source": [
    "Before you turn this problem in, make sure everything runs as expected. First, restart the kernel (in the menubar, select Kernel $\\rightarrow$ Restart) and then run all cells (in the menubar, select Cell $\\rightarrow$ Run All).\n",
    "\n",
    "Make sure you fill in any place that says YOUR CODE HERE or \"YOUR ANSWER HERE\", as well as your name and collaborators below:"
   ]
  },
  {
   "cell_type": "markdown",
   "id": "0fa72460",
   "metadata": {},
   "source": [
    "Name: Ciro Salcedo, cgs2155\n",
    "\n",
    "Collaborators: Victor Zhou, Ceasar Stringfield"
   ]
  },
  {
   "cell_type": "markdown",
   "id": "e800da42",
   "metadata": {
    "deletable": false,
    "editable": false,
    "nbgrader": {
     "cell_type": "markdown",
     "checksum": "1c047f8ea8a1ba5cc6d067a906fc8242",
     "grade": false,
     "grade_id": "cell-1055125360070174",
     "locked": true,
     "schema_version": 3,
     "solution": false
    }
   },
   "source": [
    "# HW 2:  Forms of Error\n",
    "\n"
   ]
  },
  {
   "cell_type": "markdown",
   "id": "7dd1a855",
   "metadata": {
    "deletable": false,
    "editable": false,
    "nbgrader": {
     "cell_type": "markdown",
     "checksum": "a3b3f2adc00cb58a9f74005bb84b21c6",
     "grade": false,
     "grade_id": "cell-2726284965293730",
     "locked": true,
     "schema_version": 3,
     "solution": false
    }
   },
   "source": [
    "## Question 1\n",
    "\n",
    "Consider the expression\n",
    "$$\n",
    "    f(x) = \\frac{1}{x - 1}\n",
    "$$"
   ]
  },
  {
   "cell_type": "markdown",
   "id": "45fbadce",
   "metadata": {
    "deletable": false,
    "editable": false,
    "nbgrader": {
     "cell_type": "markdown",
     "checksum": "fd8e18618a8fcc2d1b60a7eb5cd50d3f",
     "grade": false,
     "grade_id": "cell-4842217051547422",
     "locked": true,
     "schema_version": 3,
     "solution": false
    }
   },
   "source": [
    "**(a)** [10] Expand $f(x)$ in a Taylor series representation about $x_0 = 0$."
   ]
  },
  {
   "cell_type": "markdown",
   "id": "c17957c9",
   "metadata": {
    "deletable": false,
    "nbgrader": {
     "cell_type": "markdown",
     "checksum": "41c9cc51088dd1f0e96d702834da38c5",
     "grade": true,
     "grade_id": "cell-5812202303798243",
     "locked": false,
     "points": 10,
     "schema_version": 3,
     "solution": true
    }
   },
   "source": [
    "$f(x) = \\Sigma ^{\\infty}_{n=0} \\frac{f^{(n)}(x_0)}{n!} (x-x_0)^n = \\Sigma ^{\\infty}_{n=0} \\frac{f^{(n)}(0)}{n!} x^n = \\Sigma ^{\\infty}_{n=0}  -(x)^n$"
   ]
  },
  {
   "cell_type": "markdown",
   "id": "8a3a9688",
   "metadata": {
    "deletable": false,
    "editable": false,
    "nbgrader": {
     "cell_type": "markdown",
     "checksum": "0862420ba8dfc5753780172c51596857",
     "grade": false,
     "grade_id": "cell-7289929271577925",
     "locked": true,
     "schema_version": 3,
     "solution": false
    }
   },
   "source": [
    "**(b)** [5] What is the expected operation count if we truncate the series to $N$ terms?  Simplify the power to multiplications rather than something more exotic.  Stating the answer in terms of big-O notation is fine."
   ]
  },
  {
   "cell_type": "markdown",
   "id": "8efe986c",
   "metadata": {
    "deletable": false,
    "nbgrader": {
     "cell_type": "markdown",
     "checksum": "573bd26e00cb263e8e98cd518380f3bf",
     "grade": true,
     "grade_id": "cell-9783535558625426",
     "locked": false,
     "points": 5,
     "schema_version": 3,
     "solution": true
    }
   },
   "source": [
    "Brute forcing the Taylor Series will result in  $\\mathcal{O}(\\frac{n^2}{2})$ as evaluating an exponent to the mth power with require m multiplications. Using Horner's methods, the operation count can be reduced to $\\mathcal{O}(n)$"
   ]
  },
  {
   "cell_type": "markdown",
   "id": "965b04f4",
   "metadata": {
    "deletable": false,
    "editable": false,
    "nbgrader": {
     "cell_type": "markdown",
     "checksum": "cb5d5424b84a28650220f726241a2197",
     "grade": false,
     "grade_id": "cell-9523873765967580",
     "locked": true,
     "schema_version": 3,
     "solution": false
    }
   },
   "source": [
    "**(c)** [15] Make two plots of the relative error of the approximation vs. the true value of the function.  In the first pick a value to evaluate both functions at keeping $x_0 \\neq x$ but vary the number of terms you keep ($N$).  In the second fix $N$ and vary $x$.  Explain what you observe.  "
   ]
  },
  {
   "cell_type": "code",
   "execution_count": 4,
   "id": "2a26b811",
   "metadata": {
    "deletable": false,
    "nbgrader": {
     "cell_type": "code",
     "checksum": "080fbd33a24e515a0d78b34dcfb4949e",
     "grade": true,
     "grade_id": "cell-2037273928324716",
     "locked": false,
     "points": 10,
     "schema_version": 3,
     "solution": true
    }
   },
   "outputs": [
    {
     "data": {
      "text/plain": [
       "<matplotlib.legend.Legend at 0x7fef48cea340>"
      ]
     },
     "execution_count": 4,
     "metadata": {},
     "output_type": "execute_result"
    },
    {
     "data": {
      "image/png": "[encoded data removed]",
      "text/plain": [
       "<Figure size 432x288 with 1 Axes>"
      ]
     },
     "metadata": {
      "needs_background": "light"
     },
     "output_type": "display_data"
    }
   ],
   "source": [
    "# YOUR CODE HERE\n",
    "#fixed X\n",
    "X = .5\n",
    "N = 20\n",
    "f = 1/(X-1)\n",
    "F = numpy.zeros(N)\n",
    "for i in range(N):\n",
    "    for j in range (i):\n",
    "        F[i] += -1*(X)**j\n",
    "r = numpy.abs(f - F)/ numpy.abs(f)\n",
    "        \n",
    "#plt.plot(numpy.linspace(1,N,N), r)\n",
    "#plt.title(\"Relative Error as Function of N\")\n",
    "\n",
    "plt.plot(numpy.linspace(1,N,N),F)\n",
    "plt.axhline(f,linestyle=\"--\",color = \"black\",label=\"f(2)\")\n",
    "plt.title(\"f(x) and $T_n(x)$ over N\")\n",
    "plt.xlabel(\"N\")\n",
    "plt.ylabel(\"$T_n(x)$\")\n",
    "plt.legend()"
   ]
  },
  {
   "cell_type": "code",
   "execution_count": 5,
   "id": "6bb9b3ed",
   "metadata": {},
   "outputs": [
    {
     "data": {
      "text/plain": [
       "Text(0.5, 1.0, 'Relative Error vs N')"
      ]
     },
     "execution_count": 5,
     "metadata": {},
     "output_type": "execute_result"
    },
    {
     "data": {
      "image/png": "[encoded data removed]",
      "text/plain": [
       "<Figure size 432x288 with 1 Axes>"
      ]
     },
     "metadata": {
      "needs_background": "light"
     },
     "output_type": "display_data"
    }
   ],
   "source": [
    "plt.scatter(numpy.linspace(1,N,N),r)\n",
    "plt.xlabel(\"N\")\n",
    "plt.ylabel(\"r\")\n",
    "plt.title(\"Relative Error vs N\")"
   ]
  },
  {
   "cell_type": "code",
   "execution_count": 6,
   "id": "55253fae",
   "metadata": {},
   "outputs": [
    {
     "data": {
      "text/plain": [
       "<matplotlib.legend.Legend at 0x7fef40b35b80>"
      ]
     },
     "execution_count": 6,
     "metadata": {},
     "output_type": "execute_result"
    },
    {
     "data": {
      "image/png": "[encoded data removed]",
      "text/plain": [
       "<Figure size 432x288 with 1 Axes>"
      ]
     },
     "metadata": {
      "needs_background": "light"
     },
     "output_type": "display_data"
    }
   ],
   "source": [
    "#Fixed N\n",
    "X = numpy.linspace(-1.5,1.5,45)\n",
    "N=10\n",
    "f = [1/(x-1) for x in X]\n",
    "F = numpy.zeros(len(X))\n",
    "for i in range(len(X)):\n",
    "    for j in range(N):\n",
    "        F[i] += -1*(X[i])**j\n",
    "r = numpy.abs(f - F)/ numpy.abs(f)\n",
    "\n",
    "plt.plot(X,f,label=\"True Value\")\n",
    "plt.plot(X,F,label=\"Taylor Approximation\")\n",
    "plt.xlabel(\"x\")\n",
    "plt.ylabel(\"Evaluation of x\")\n",
    "plt.title(\"\")\n",
    "plt.legend()"
   ]
  },
  {
   "cell_type": "code",
   "execution_count": 7,
   "id": "7baefac2",
   "metadata": {
    "deletable": false,
    "nbgrader": {
     "cell_type": "markdown",
     "checksum": "6caddaf02072c95fbda508eb65d52f3c",
     "grade": true,
     "grade_id": "cell-6881618690209186",
     "locked": false,
     "points": 5,
     "schema_version": 3,
     "solution": true
    }
   },
   "outputs": [
    {
     "data": {
      "text/plain": [
       "Text(0.5, 1.0, 'Relative Error vs x')"
      ]
     },
     "execution_count": 7,
     "metadata": {},
     "output_type": "execute_result"
    },
    {
     "data": {
      "image/png": "[encoded data removed]",
      "text/plain": [
       "<Figure size 432x288 with 1 Axes>"
      ]
     },
     "metadata": {
      "needs_background": "light"
     },
     "output_type": "display_data"
    }
   ],
   "source": [
    "plt.scatter(X,r)\n",
    "plt.xlabel(\"f(x)\")\n",
    "plt.ylabel(\"r\")\n",
    "plt.title(\"Relative Error vs x\")"
   ]
  },
  {
   "cell_type": "code",
   "execution_count": 8,
   "id": "7f55e60c",
   "metadata": {},
   "outputs": [
    {
     "data": {
      "text/plain": [
       "Text(0.5, 1.0, 'Relative Error vs f(x)')"
      ]
     },
     "execution_count": 8,
     "metadata": {},
     "output_type": "execute_result"
    },
    {
     "data": {
      "image/png": "[encoded data removed]",
      "text/plain": [
       "<Figure size 432x288 with 1 Axes>"
      ]
     },
     "metadata": {
      "needs_background": "light"
     },
     "output_type": "display_data"
    }
   ],
   "source": [
    "plt.scatter(f,r)\n",
    "plt.xlabel(\"f(x)\")\n",
    "plt.ylabel(\"r\")\n",
    "plt.title(\"Relative Error vs f(x)\")"
   ]
  },
  {
   "cell_type": "markdown",
   "id": "f7b81152",
   "metadata": {},
   "source": [
    "There are two contributing factors to error. Firstly, as the approximation is evaluated further from the center, 0, the error greatly increases. This is most noticeable when evaluating the function when |x| is greater than 1. Secondly, increasing N improves the relative error. For evaluations of f(0.5), the reduction in relative error appears to plateau around N = 8."
   ]
  },
  {
   "cell_type": "markdown",
   "id": "730b4092",
   "metadata": {
    "deletable": false,
    "editable": false,
    "nbgrader": {
     "cell_type": "markdown",
     "checksum": "3725fe126436831e65e1a5fbf40c7509",
     "grade": false,
     "grade_id": "cell-6980143175196213",
     "locked": true,
     "schema_version": 3,
     "solution": false
    }
   },
   "source": [
    "## Question 2\n",
    "\n",
    "**(a)** [5] Consider the following two equivalent sums:\n",
    "\n",
    "$$\n",
    "    \\sum^\\infty_{n=1} \\left [ \\frac{1}{n} - \\frac{1}{n+1} \\right ] = \\sum^\\infty_{n=1} \\frac{1}{n (n + 1)}\n",
    "$$\n",
    "\n",
    "Write two Python functions that compute each of these sums but to a finite number of terms $N$."
   ]
  },
  {
   "cell_type": "code",
   "execution_count": 9,
   "id": "5750285c",
   "metadata": {
    "deletable": false,
    "nbgrader": {
     "cell_type": "code",
     "checksum": "ad12873909a015e7f252710079d98ae9",
     "grade": false,
     "grade_id": "cell-8697691190464640",
     "locked": false,
     "schema_version": 3,
     "solution": true
    }
   },
   "outputs": [],
   "source": [
    "def sum_1(N):\n",
    "    \"\"\"Compute the summation S_N defined as\n",
    "    \\sum^N_{n=1} \\left [ \\frac{1}{n} - \\frac{1}{n+1} \\right ]\n",
    "    :Input:\n",
    "     *N* (int) The upper bound on the summation.\n",
    "    Returns Sn (float)\n",
    "    \"\"\"\n",
    "    # YOUR CODE HERE\n",
    "    #raise NotImplementedError()\n",
    "    Sn = 0\n",
    "    for n in range(1, N + 1):\n",
    "        Sn += 1/n - 1/(n + 1)\n",
    "    return Sn\n",
    "def sum_2(N):\n",
    "    \"\"\"Compute the summation S_N defined as\n",
    "    \\sum^N_{n=1} \\frac{1}{n (n + 1)}\n",
    "    :Input:\n",
    "     *N* (int) The upper bound on the summation.\n",
    "    Returns Sn (float)\n",
    "    \"\"\"\n",
    "    # YOUR CODE HERE\n",
    "    #raise NotImplementedError()\n",
    "    Sn = 0\n",
    "    for n in range(1, N + 1):\n",
    "        Sn += 1/(n*(n + 1))\n",
    "    return Sn"
   ]
  },
  {
   "cell_type": "code",
   "execution_count": 10,
   "id": "47f08f9c",
   "metadata": {
    "deletable": false,
    "editable": false,
    "nbgrader": {
     "cell_type": "code",
     "checksum": "417c4193bce636c3601d43a348184a57",
     "grade": true,
     "grade_id": "cell-4193597021505884",
     "locked": true,
     "points": 5,
     "schema_version": 3,
     "solution": false
    }
   },
   "outputs": [
    {
     "name": "stdout",
     "output_type": "stream",
     "text": [
      "Success!\n"
     ]
    }
   ],
   "source": [
    "for N in range(5, 21, 5):\n",
    "    numpy.testing.assert_allclose(sum_1(N), sum_2(N))\n",
    "print(\"Success!\")"
   ]
  },
  {
   "cell_type": "markdown",
   "id": "86cb99ec",
   "metadata": {
    "deletable": false,
    "editable": false,
    "nbgrader": {
     "cell_type": "markdown",
     "checksum": "935f929039416b298b01866a5a9a4d44",
     "grade": false,
     "grade_id": "cell-9110689736182158",
     "locked": true,
     "schema_version": 3,
     "solution": false
    }
   },
   "source": [
    "**(b)** [5] Compute the absolute error between the two summation approaches."
   ]
  },
  {
   "cell_type": "code",
   "execution_count": 11,
   "id": "e20734ec",
   "metadata": {
    "deletable": false,
    "nbgrader": {
     "cell_type": "code",
     "checksum": "ff4d60c2d5415a56c79e9a18e7e7b1f1",
     "grade": false,
     "grade_id": "cell-2728436851289605",
     "locked": false,
     "schema_version": 3,
     "solution": true
    }
   },
   "outputs": [],
   "source": [
    "def abs_error(N):\n",
    "    \"\"\"Compute the absolute error of the two sums defined as\n",
    "    \n",
    "    \\sum^N_{n=1} \\left [ \\frac{1}{n} - \\frac{1}{n+1} \\right ]\n",
    "    \n",
    "    and \n",
    "    \n",
    "    \\sum^N_{n=1} \\frac{1}{n (n + 1)}\n",
    "    \n",
    "    respectively for the given N.\n",
    "    \n",
    "    :Input:\n",
    "     *N* (int) The upper bound on the summation.\n",
    "    \n",
    "    Returns *error* (float)\n",
    "    \"\"\"\n",
    "    \n",
    "    # YOUR CODE HERE\n",
    "    return abs(sum_1(N) - sum_2(N))"
   ]
  },
  {
   "cell_type": "code",
   "execution_count": 12,
   "id": "17e96024",
   "metadata": {
    "deletable": false,
    "editable": false,
    "nbgrader": {
     "cell_type": "code",
     "checksum": "099597f788426a72f262445ad832bdeb",
     "grade": true,
     "grade_id": "cell-8085566637096152",
     "locked": true,
     "points": 5,
     "schema_version": 3,
     "solution": false
    }
   },
   "outputs": [
    {
     "name": "stdout",
     "output_type": "stream",
     "text": [
      "Success!\n"
     ]
    }
   ],
   "source": [
    "N = numpy.logspace(1, 7, 7, dtype=int)\n",
    "answer = numpy.zeros(N.shape)\n",
    "for (n, upper_bound) in enumerate(N):\n",
    "    answer[n] = abs_error(upper_bound)\n",
    "numpy.testing.assert_allclose(answer, numpy.zeros(answer.shape), atol=1e-10)\n",
    "print(\"Success!\")"
   ]
  },
  {
   "cell_type": "markdown",
   "id": "4b2b31e0",
   "metadata": {
    "deletable": false,
    "editable": false,
    "nbgrader": {
     "cell_type": "markdown",
     "checksum": "e594713f5c58a4e401858330c3f301c4",
     "grade": false,
     "grade_id": "cell-8453647864370181",
     "locked": true,
     "schema_version": 3,
     "solution": false
    }
   },
   "source": [
    "**(c)** [10] Plot the relative and absolute error versus $N$ up to large $N$ (above at least $10^4$).  Also plot a line where $\\epsilon_{\\text{machine}}$ should be.  Comment on what you see."
   ]
  },
  {
   "cell_type": "code",
   "execution_count": 13,
   "id": "087a589f",
   "metadata": {
    "deletable": false,
    "nbgrader": {
     "cell_type": "code",
     "checksum": "828d4b32491c276fb4aacafb6c89f1ee",
     "grade": true,
     "grade_id": "cell-5088322155772002",
     "locked": false,
     "points": 10,
     "schema_version": 3,
     "solution": true
    }
   },
   "outputs": [
    {
     "data": {
      "image/png": "[encoded data removed]",
      "text/plain": [
       "<Figure size 864x288 with 1 Axes>"
      ]
     },
     "metadata": {
      "needs_background": "light"
     },
     "output_type": "display_data"
    }
   ],
   "source": [
    "fig = plt.figure()\n",
    "fig.set_figwidth(fig.get_figwidth() * 2)\n",
    "\n",
    "# HINT!  Use the plotting function semilogx to plot the errors\n",
    "#        Also, do not forget to label your plot\n",
    "\n",
    "# YOUR CODE HERE\n",
    "N = numpy.linspace(1,1e4,int(5e3))\n",
    "a_err = [abs_error(int(n)) for n in N]\n",
    "r_err = [abs_error(int(n))/sum_1(int(n)) for n in N]\n",
    "\n",
    "plt.semilogx(N,a_err,label=\"Absolute Error\")\n",
    "plt.semilogx(N,r_err,label=\"Relative Error\")\n",
    "plt.axhline(numpy.finfo(float).eps, label=\"$\\epsilon_m$\",color=\"red\",linestyle=\"--\",lw=.9)\n",
    "plt.xlabel(\"N\")\n",
    "plt.ylabel(\"Error\")\n",
    "plt.legend()\n",
    "plt.show()"
   ]
  },
  {
   "cell_type": "markdown",
   "id": "40855976",
   "metadata": {
    "deletable": false,
    "editable": false,
    "nbgrader": {
     "cell_type": "markdown",
     "checksum": "2d109baa3e03345c0a605226e8feb891",
     "grade": false,
     "grade_id": "cell-6654906620112742",
     "locked": true,
     "schema_version": 3,
     "solution": false
    }
   },
   "source": [
    "**(d)** [5] Theorize what may have lead to the differences in answers."
   ]
  },
  {
   "cell_type": "markdown",
   "id": "02193b98",
   "metadata": {
    "deletable": false,
    "nbgrader": {
     "cell_type": "markdown",
     "checksum": "9a8cd0061bb95b6cd5d7e1328fc68281",
     "grade": true,
     "grade_id": "cell-8407703834073311",
     "locked": false,
     "points": 5,
     "schema_version": 3,
     "solution": true
    }
   },
   "source": [
    "Error jumps up twice for two values of n > 1000. This sharp increase is likely due to floating point error caused by the division. This is clearly some type of rounding or truncation error as it stays completely flat until a value high enough to meet the threshold for rounding up allows for a jump."
   ]
  },
  {
   "cell_type": "markdown",
   "id": "901c4fd7",
   "metadata": {
    "deletable": false,
    "editable": false,
    "nbgrader": {
     "cell_type": "markdown",
     "checksum": "c1439ff58529b630b3a4383b0854b90d",
     "grade": false,
     "grade_id": "cell-5632471080286207",
     "locked": true,
     "schema_version": 3,
     "solution": false
    }
   },
   "source": [
    "## Question 3\n",
    "\n",
    "Following our discussion in lecture regarding approximating $e^x$ again consider the Taylor polynomial approximation:\n",
    "\n",
    "$$e^x \\approx T_n(x) = 1 + x + \\frac{x^2}{2!} + \\frac{x^3}{3!} + \\cdots + \\frac{x^n}{n!}$$"
   ]
  },
  {
   "cell_type": "markdown",
   "id": "0ca79198",
   "metadata": {
    "deletable": false,
    "editable": false,
    "nbgrader": {
     "cell_type": "markdown",
     "checksum": "a23337b3cdc51fce85e438ea1e80337b",
     "grade": false,
     "grade_id": "cell-8186992197557199",
     "locked": true,
     "schema_version": 3,
     "solution": false
    }
   },
   "source": [
    "**(a)** [10] Derive the upper bound on the *relative error* $r_n$ assuming that $0 < x$ and\n",
    "\n",
    "$$r_n = \\frac{|e^x - T_n(x)|}{|e^x|}$$\n",
    "\n",
    "is given by\n",
    "\n",
    "$$r_n \\leq \\left | \\frac{x^{n+1}}{(n + 1)!} \\right |$$"
   ]
  },
  {
   "cell_type": "markdown",
   "id": "859d2f6c",
   "metadata": {
    "deletable": false,
    "nbgrader": {
     "cell_type": "markdown",
     "checksum": "665bc5076e8e0e0222b9c1298162ac13",
     "grade": true,
     "grade_id": "cell-2747685663052674",
     "locked": false,
     "points": 10,
     "schema_version": 3,
     "solution": true
    }
   },
   "source": [
    "The residual is given by:\n",
    "\n",
    "$$R_n = \\frac{f^{n+1}(c)(x-x_0)^{n+1}}{(n+1)!} = f(x) - T_n(x)$$\n",
    "This we can rewrite the relative error $r_n$ as \n",
    "$$r_n = \\frac{|R_n|}{|e^x|} = \\frac{f^{n+1}(c)(x-x_0)^{n+1}}{(n+1)! e^x}$$\n",
    "\n",
    "$x_0$ is approaching zero, and we know c is some number less than x:\n",
    "$$r_n = \\frac{f^{n+1}(c)(x)^{x+1}}{(n+1)! e^x} = |\\frac{e^x(x)^{n+1}}{(n+1)! e^x}| \\leq  |\\frac{x^{n+1}}{(n+1)!}|$$\n"
   ]
  },
  {
   "cell_type": "markdown",
   "id": "a9deac40",
   "metadata": {
    "deletable": false,
    "editable": false,
    "nbgrader": {
     "cell_type": "markdown",
     "checksum": "c08c5aba0bf4027045b40cd8d1042fd4",
     "grade": false,
     "grade_id": "cell-4678254376542691",
     "locked": true,
     "schema_version": 3,
     "solution": false
    }
   },
   "source": [
    "**(b)** [10] Analytically show that for large $x$ and $n$, $r_n \\leq \\epsilon_{\\text{machine}}$ implies that we need at least $n > e \\cdot x$ terms in the series (where $e = \\text{exp}(1)$).\n",
    "\n",
    "*Hint* Use Stirling's approximation $log (n!) \\approx n~log~n - n$."
   ]
  },
  {
   "cell_type": "markdown",
   "id": "bc42cb01",
   "metadata": {
    "deletable": false,
    "nbgrader": {
     "cell_type": "markdown",
     "checksum": "a8c46a136c32edd49359ec88e34e19fb",
     "grade": true,
     "grade_id": "cell-4305745011657702",
     "locked": false,
     "points": 10,
     "schema_version": 3,
     "solution": true
    }
   },
   "source": [
    "Demonstrate\n",
    "$$r_n =|\\frac{x^{n+1}}{(n+1)!}| \\leq \\epsilon_{machine}$$\n",
    "\n",
    "This means that:\n",
    "$$x^{n+1} \\lt (n+1)!$$\n",
    "as machine epsilon must be fractional.\n",
    "\n",
    "$$log(x^{n+1}) \\lt log((n+1)!)$$\n",
    "\n",
    "$$(n+1) log(x) \\lt log((n+1)!)$$\n",
    "\n",
    "$$(n+1) log(x) \\lt (n+1)log(n+1) - (n+1)$$\n",
    "\n",
    "$$log(x) \\lt log(n+1) - 1$$\n",
    "\n",
    "$$log(x) + 1 \\lt log(n+1)$$\n",
    "\n",
    "For large n let's say that $log(n+1) \\approx log(n)$\n",
    "So now:\n",
    "\n",
    "$$log(x) + 1 \\lt log(n)$$\n",
    "\n",
    "$$log(x \\cdot e) \\lt log(n)$$\n",
    "\n",
    "$$x \\cdot e \\lt n$$\n",
    "\n",
    "$$n \\gt e \\cdot x$$\n"
   ]
  },
  {
   "cell_type": "markdown",
   "id": "bd9dc311",
   "metadata": {
    "deletable": false,
    "editable": false,
    "nbgrader": {
     "cell_type": "markdown",
     "checksum": "e5bb763654f1893d309466c7d63a89e6",
     "grade": false,
     "grade_id": "cell-8048500717179941",
     "locked": true,
     "schema_version": 3,
     "solution": false
    }
   },
   "source": [
    "**(c)** [10] Write a Python function that accurately computes $T_n$ to the specified relative error tolerance and returns both the estimate on the range and the number of terms in the series needed over the interval $[-2, 2]$.  Note that the testing tolerance will be $8 \\cdot \\epsilon_{\\text{machine}}$.\n",
    "\n",
    "Make sure to document your code including expected inputs, outputs, and assumptions being made."
   ]
  },
  {
   "cell_type": "code",
   "execution_count": 14,
   "id": "5704fe07",
   "metadata": {
    "deletable": false,
    "nbgrader": {
     "cell_type": "code",
     "checksum": "0237c5851235dfe7e32fd04c379b847f",
     "grade": false,
     "grade_id": "cell-5914967225034965",
     "locked": false,
     "schema_version": 3,
     "solution": true
    }
   },
   "outputs": [],
   "source": [
    "# HINT: Think about how we evaluated polynomials efficiently in class\n",
    "\n",
    "import math as m\n",
    "\n",
    "def Tn_exp(x, tolerance=1e-3):\n",
    "    MAX_N = 100\n",
    "    Tn = numpy.zeros(len(x))\n",
    "    # YOUR CODE HERE\n",
    "    #coefficients for Horners Method\n",
    "    coeffs = [1/m.factorial(n) for n in range(MAX_N)]\n",
    "    #redo Horner's method with an additional term considered\n",
    "    for n in range (1,MAX_N+1):\n",
    "        N=n\n",
    "        #Do Horner's method for each x for a given n\n",
    "        coeff_n=coeffs[:n] #coefficient for Horner\n",
    "        coeff_n.reverse()\n",
    "        for j in range(len(x)):\n",
    "            Tn[j] = coeff_n[0]\n",
    "            for i in coeff_n[1:]:\n",
    "                Tn[j] = Tn[j] * x[j] + i\n",
    "                \n",
    "        #evaluate if it's in tolerance, return the function if it is\n",
    "        if(numpy.all(numpy.abs(Tn - numpy.exp(x)) / numpy.abs(numpy.exp(x)) < tolerance)):\n",
    "            return Tn, N\n",
    "    \n",
    "    return Tn, N"
   ]
  },
  {
   "cell_type": "code",
   "execution_count": 15,
   "id": "2120fdee",
   "metadata": {
    "deletable": false,
    "editable": false,
    "nbgrader": {
     "cell_type": "code",
     "checksum": "6d993fb38ef99c1031cfe92f7a57aa42",
     "grade": true,
     "grade_id": "cell-9688375319882602",
     "locked": true,
     "points": 10,
     "schema_version": 3,
     "solution": false
    }
   },
   "outputs": [
    {
     "name": "stdout",
     "output_type": "stream",
     "text": [
      "Success!\n"
     ]
    }
   ],
   "source": [
    "x = numpy.linspace(-2, 2, 100)\n",
    "tolerance = 8.0 * numpy.finfo(float).eps\n",
    "answer, N = Tn_exp(x, tolerance=tolerance)\n",
    "assert(numpy.all(numpy.abs(answer - numpy.exp(x)) / numpy.abs(numpy.exp(x)) < tolerance))\n",
    "print(\"Success!\")"
   ]
  },
  {
   "cell_type": "markdown",
   "id": "0166cf88",
   "metadata": {
    "deletable": false,
    "editable": false,
    "nbgrader": {
     "cell_type": "markdown",
     "checksum": "a5cf3d3ff9267acab1292318e3b45513",
     "grade": false,
     "grade_id": "cell-6968179660613369",
     "locked": true,
     "schema_version": 3,
     "solution": false
    }
   },
   "source": [
    "## Question 4\n",
    "\n",
    "[5] Given the Taylor polynomial expansions\n",
    "\n",
    "$$\\frac{1}{1-\\Delta x} = 1 + \\Delta x + \\Delta x^2 + \\Delta x^3 + \\mathcal{O}(\\Delta x^4)$$\n",
    "\n",
    "and\n",
    "\n",
    "$$\\cosh \\Delta x = 1 + \\frac{\\Delta x^2}{2!} + \\frac{\\Delta x^4}{4!} + \\mathcal{O}(\\Delta x^6)$$\n",
    "\n",
    "determine the order of approximation for their sum and product (determine the exponent that belongs in the $\\mathcal{O}$).\n"
   ]
  },
  {
   "cell_type": "markdown",
   "id": "18c8cb88",
   "metadata": {
    "deletable": false,
    "nbgrader": {
     "cell_type": "markdown",
     "checksum": "41db80ba6f3a35edaad0758800049870",
     "grade": true,
     "grade_id": "cell-8500724062567566",
     "locked": false,
     "points": 5,
     "schema_version": 3,
     "solution": true
    }
   },
   "source": [
    "Assuming that $\\delta x$ is the notation for small x we can use the theorem for small x. However, the order of approximation for the sum is the same regardless of the size of x accorduing to the theorem.\n",
    "\n",
    " $$f(x) =\\frac{1}{1-\\Delta x} = 1 + \\Delta x + \\Delta x^2 + \\Delta x^3 + \\mathcal{O}(\\Delta x^4)$$\n",
    " $$f(x) = p(x) + \\mathcal{O}(x^n)$$\n",
    " $$g(x) = \\cosh \\Delta x = 1 + \\frac{\\Delta x^2}{2!} + \\frac{\\Delta x^4}{4!} + \\mathcal{O}(\\Delta x^6)$$\n",
    " $$f(x) = q(x) + \\mathcal{O}(x^m)$$\n",
    " Let\n",
    " $$r = \\mathrm{min}(n,m)$$\n",
    "\n",
    "$$f+g = p + q + \\mathcal{O}(\\Delta x^n) + \\mathcal{O}(\\Delta x^m) = p + q + \\mathcal{O}(\\Delta x^r)$$\n",
    "$$f+g = 1 + \\Delta x + \\Delta x^2 + \\Delta x^3 + 1 + \\frac{\\Delta x^2}{2!} + \\frac{\\Delta x^4}{4!} + \\mathcal{O}(\\Delta x^4)$$\n",
    "\n",
    "So the order of approximation for the sum is $\\mathcal{O}(\\Delta x^4)$ if x is small otherwise, r would be replaced with the maximum of the two numbers giving an exponent of 6 instead. \n",
    "\n",
    "For products\n",
    "Let\n",
    "$$ r = \\mathrm{min()}$$\n",
    "$$f \\cdot g = p \\cdot q + p\\mathcal{O}(\\Delta x^m) + q\\mathcal{O}(\\Delta x^n) + \\mathcal{O}(\\Delta x^{n+m})$$\n",
    "\n",
    "$$ = p \\cdot q + \\mathcal{O}(\\Delta x^{n+m})$$\n",
    "\n",
    "For small x it can be further reduced to \n",
    "\n",
    "$$ = p \\cdot q + \\mathcal{O}(\\Delta x^{r})$$\n",
    "\n",
    "$$r = \\mathrm{min}(4,6) = 4$$\n",
    "\n",
    "So the order of approximation is still $\\mathcal{O}(\\Delta x^4)$ if x is small, otherwise it would be $\\mathcal{O}(\\Delta x^{10})$"
   ]
  },
  {
   "cell_type": "markdown",
   "id": "b5871380",
   "metadata": {
    "deletable": false,
    "editable": false,
    "nbgrader": {
     "cell_type": "markdown",
     "checksum": "466960198ea345f717d705526c307588",
     "grade": false,
     "grade_id": "cell-4316397622797027",
     "locked": true,
     "schema_version": 3,
     "solution": false
    }
   },
   "source": [
    "## Question 5\n",
    "\n",
    "Consider the operation\n",
    "$$\\begin{aligned}\n",
    "    f(x,y) = \\frac{1}{x + y}\n",
    "\\end{aligned}$$\n",
    "for the following questions."
   ]
  },
  {
   "cell_type": "markdown",
   "id": "a92bba83",
   "metadata": {
    "deletable": false,
    "editable": false,
    "nbgrader": {
     "cell_type": "markdown",
     "checksum": "8d9287a1bee19da47e43c093ee0030a0",
     "grade": false,
     "grade_id": "cell-2688842335639501",
     "locked": true,
     "schema_version": 3,
     "solution": false
    }
   },
   "source": [
    "**(a)** [5] Estimate the relative error due to floating point approximations to the representation of the numbers assuming exact operations."
   ]
  },
  {
   "cell_type": "markdown",
   "id": "d9209c50",
   "metadata": {
    "deletable": false,
    "nbgrader": {
     "cell_type": "markdown",
     "checksum": "2cc5548597c3b0d4a380885c640fb45a",
     "grade": true,
     "grade_id": "cell-8695910698498616",
     "locked": false,
     "points": 5,
     "schema_version": 3,
     "solution": true
    }
   },
   "source": [
    "$$\n",
    "    \\mathrm{fl}(f(x,y)) =  \\frac{1}{x (1 + \\delta_1) + y (1 + \\delta_2)} = \\frac{1}{x + x\\delta_1 + y + y\\delta_2}\n",
    "$$\n",
    "\n",
    "\n",
    "The formula for relative error is:\n",
    "\n",
    "$$ r =  \\frac{|\\frac{1}{x+y} - (\\frac{1}{x + x\\delta_1 + y + y\\delta_2})|}{|\\frac{1}{x+y}|} = \\frac{|\\frac{1}{x+y} - (\\frac{1}{(x + y)(1  + \\frac{x\\delta_1+y\\delta_2}{x+y})})|}{|\\frac{1}{x+y}|}$$\n",
    "\n",
    "$$ r = \\frac{\\frac{x \\delta_1 + y \\delta_y}{(x+y)^2(1+ \\frac{x\\delta_1+y\\delta_2}{x+y})}}{|\\frac{1}{x+y}|} = \\frac{x\\delta_1+y\\delta_2}{(x+y)(1 + \\frac{x\\delta_1+y\\delta_2}{x+y})} = \\frac{x\\delta_1+y\\delta_2}{x + y + x\\delta_1+y\\delta_2}$$\n",
    "\n"
   ]
  },
  {
   "cell_type": "markdown",
   "id": "a311a571",
   "metadata": {
    "deletable": false,
    "editable": false,
    "nbgrader": {
     "cell_type": "markdown",
     "checksum": "f99000c6b264a439e3ae6aa4c34c5c28",
     "grade": false,
     "grade_id": "cell-2661766713665152",
     "locked": true,
     "schema_version": 3,
     "solution": false
    }
   },
   "source": [
    "**(b)** [5] Demonstrate this behavior by plotting the relative error."
   ]
  },
  {
   "cell_type": "code",
   "execution_count": 52,
   "id": "356393e5",
   "metadata": {
    "deletable": false,
    "nbgrader": {
     "cell_type": "code",
     "checksum": "7caeac9733fc1aae5511d87d098e05c7",
     "grade": true,
     "grade_id": "cell-5777629198172956",
     "locked": false,
     "points": 5,
     "schema_version": 3,
     "solution": true
    }
   },
   "outputs": [
    {
     "data": {
      "image/png": "[encoded data removed]",
      "text/plain": [
       "<Figure size 432x288 with 1 Axes>"
      ]
     },
     "metadata": {
      "needs_background": "light"
     },
     "output_type": "display_data"
    }
   ],
   "source": [
    "#im going to assume the delta is equal to machine epsilon in both cases\n",
    "#im going to fix y=-1 and vary x\n",
    "x = numpy.linspace(-10, 10, 1000)\n",
    "y = -1\n",
    "delx = 10*numpy.finfo(float).eps\n",
    "dely = numpy.finfo(float).eps\n",
    "#r = [(i*delta-delta)/(i - 1 + i*delta -delta) for i in x]\n",
    "\n",
    "r = abs((x*delx + y*dely)/(x+y+x*delx+y*dely))\n",
    "\n",
    "plt.plot(x, r)\n",
    "plt.xlabel(\"$x$\")\n",
    "plt.ylabel(\"Relative Error\")\n",
    "plt.title(\"Relative Error while y = -1\")\n",
    "plt.show()"
   ]
  },
  {
   "cell_type": "code",
   "execution_count": null,
   "id": "07890a9b",
   "metadata": {},
   "outputs": [],
   "source": []
  }
 ],
 "metadata": {
  "kernelspec": {
   "display_name": "Python 3",
   "language": "python",
   "name": "python3"
  },
  "language_info": {
   "codemirror_mode": {
    "name": "ipython",
    "version": 3
   },
   "file_extension": ".py",
   "mimetype": "text/x-python",
   "name": "python",
   "nbconvert_exporter": "python",
   "pygments_lexer": "ipython3",
   "version": "3.8.8"
  },
  "latex_envs": {
   "bibliofile": "biblio.bib",
   "cite_by": "apalike",
   "current_citInitial": 1,
   "eqLabelWithNumbers": true,
   "eqNumInitial": 0
  }
 },
 "nbformat": 4,
 "nbformat_minor": 5
}
