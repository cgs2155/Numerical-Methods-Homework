{
 "cells": [
  {
   "cell_type": "markdown",
   "id": "3433b920",
   "metadata": {},
   "source": [
    "Before you turn this problem in, make sure everything runs as expected. First, restart the kernel (in the menubar, select Kernel $\\rightarrow$ Restart) and then run all cells (in the menubar, select Cell $\\rightarrow$ Run All).\n",
    "\n",
    "Make sure you fill in any place that says YOUR CODE HERE or \"YOUR ANSWER HERE\", as well as your name and collaborators below:"
   ]
  },
  {
   "cell_type": "code",
   "execution_count": 1,
   "id": "043ace7b",
   "metadata": {},
   "outputs": [],
   "source": [
    "%matplotlib inline\n",
    "%precision 16\n",
    "from __future__ import print_function\n",
    "import numpy\n",
    "import matplotlib.pyplot as plt"
   ]
  },
  {
   "cell_type": "markdown",
   "id": "333f3574",
   "metadata": {
    "deletable": false,
    "editable": false,
    "nbgrader": {
     "cell_type": "markdown",
     "checksum": "d35c6625014fbb846018270b27228a09",
     "grade": false,
     "grade_id": "cell-4300650499785885",
     "locked": true,
     "schema_version": 3,
     "solution": false
    }
   },
   "source": [
    "Before you turn this problem in, make sure everything runs as expected. First, restart the kernel (in the menubar, select Kernel $\\rightarrow$ Restart) and then run all cells (in the menubar, select Cell $\\rightarrow$ Run All).\n",
    "\n",
    "Make sure you fill in any place that says YOUR CODE HERE or \"YOUR ANSWER HERE\", as well as your name and collaborators below:"
   ]
  },
  {
   "cell_type": "markdown",
   "id": "e322c297",
   "metadata": {},
   "source": [
    "## Name: Ciro Salcedo"
   ]
  },
  {
   "cell_type": "markdown",
   "id": "239a671c",
   "metadata": {
    "deletable": false,
    "editable": false,
    "nbgrader": {
     "cell_type": "markdown",
     "checksum": "7244622507896c6af08b600df24c227d",
     "grade": false,
     "grade_id": "cell-9890560519145918",
     "locked": true,
     "schema_version": 3,
     "solution": false
    }
   },
   "source": [
    "# HW 8:  Linear Algebra Part 2"
   ]
  },
  {
   "cell_type": "markdown",
   "id": "5b439308",
   "metadata": {
    "deletable": false,
    "editable": false,
    "nbgrader": {
     "cell_type": "markdown",
     "checksum": "a3ba23f23192271f152881f6165d41b7",
     "grade": false,
     "grade_id": "cell-1367913990434646",
     "locked": true,
     "schema_version": 3,
     "solution": false
    }
   },
   "source": [
    "## Question 1\n",
    "\n",
    "We know that interpolation using equispaced points is not ideal but we can also show that it is ill-conditioned.  To illustrate this let $x_1, \\ldots, x_n$ and $y_1, \\ldots, y_m$ by $n$ and $m$ equispaced points from $-1$ to $1$ repectively."
   ]
  },
  {
   "cell_type": "markdown",
   "id": "b55192b4",
   "metadata": {
    "deletable": false,
    "editable": false,
    "nbgrader": {
     "cell_type": "markdown",
     "checksum": "cb3f03273f432ce984ed9f2de4d9f3f0",
     "grade": false,
     "grade_id": "cell-5262243890051762",
     "locked": true,
     "schema_version": 3,
     "solution": false
    }
   },
   "source": [
    "**(a)** [10] Derive a formula for the $m \\times n$ matrix $A$ that maps an $n$-vector of data at $\\{x_j\\}$ to an $m$-vector of sampled values $\\{\\mathcal{P}(y_j)\\}$, where $\\mathcal{P}$ is the degree $n-1$ polynomial interpolant of the data."
   ]
  },
  {
   "cell_type": "markdown",
   "id": "0ab27ba8",
   "metadata": {
    "deletable": false,
    "nbgrader": {
     "cell_type": "markdown",
     "checksum": "c7e49fbb53a94f40f6e6f666bdeb15b9",
     "grade": true,
     "grade_id": "cell-5990321097225371",
     "locked": false,
     "points": 10,
     "schema_version": 3,
     "solution": true
    }
   },
   "source": [
    "$$\n",
    "\\mathcal{P} = \\begin{bmatrix}\n",
    "        \\mathcal{P}(x_1) \\\\\n",
    "        \\mathcal{P}(x_2) \\\\    \n",
    "        ... \\\\\n",
    "        \\mathcal{P}(x_n) \\\\        \n",
    "    \\end{bmatrix}.\n",
    "$$\n",
    "\n",
    "The matrix A maps $\\mathcal{P}(x)$ to $\\mathcal{P}(y)$\n",
    "\n",
    "$$\n",
    " A \\mathcal{P}(x) =\\mathcal{P}(y)\n",
    "$$ \n",
    "\n",
    "$\\mathcal{P}(y)$ can be written as the dot product of its Vandermonde matrix and the coefficients of the interpolating polynomial, which I will generically call p\n",
    "\n",
    "$$\n",
    " V_y p =\\mathcal{P}(y)\n",
    "$$ \n",
    "\n",
    "This can be similarly done for $\\mathcal{P}(x)$\n",
    "\n",
    "$$\n",
    "  V_x p =\\mathcal{P}(x)\n",
    "$$ \n",
    "\n",
    "Returning to my original equation\n",
    "\n",
    "$$\n",
    " A \\mathcal{P}(x) =\\mathcal{P}(y) = V_y p = A V_x p\n",
    "$$ \n",
    "\n",
    "Therefore\n",
    "\n",
    "$$\n",
    "A = V_yV_x^{-1}\n",
    "$$\n"
   ]
  },
  {
   "cell_type": "markdown",
   "id": "bafd0794",
   "metadata": {
    "deletable": false,
    "editable": false,
    "nbgrader": {
     "cell_type": "markdown",
     "checksum": "f875b6a90379de08b64ae48b094b030d",
     "grade": false,
     "grade_id": "cell-7661416945339489",
     "locked": true,
     "schema_version": 3,
     "solution": false
    }
   },
   "source": [
    "**(b)** [5]) Write a program to calculate $A$ and plot $||A||_\\infty$ on a semilog scale for $n=1, 2, \\ldots, 30$, $m=2n-1$.  In the continuous limit $m \\rightarrow \\infty$, the numbers $||A||_\\infty$ are known as the Lebesgue constants for equispaced interpolation, which are asymptotic to $2^n / (e(n-1) \\log n)$ as $n \\rightarrow \\infty$."
   ]
  },
  {
   "cell_type": "code",
   "execution_count": 2,
   "id": "9ab7cbd7",
   "metadata": {
    "deletable": false,
    "nbgrader": {
     "cell_type": "code",
     "checksum": "00c37c798697ec9ea6860cd633423c89",
     "grade": true,
     "grade_id": "cell-8743053752448174",
     "locked": false,
     "points": 5,
     "schema_version": 3,
     "solution": true
    }
   },
   "outputs": [
    {
     "data": {
      "image/png": "[encoded data removed]",
      "text/plain": [
       "<Figure size 432x288 with 1 Axes>"
      ]
     },
     "metadata": {
      "needs_background": "light"
     },
     "output_type": "display_data"
    }
   ],
   "source": [
    "n = 30\n",
    "N_mat=[]\n",
    "for i in range(1, n+1):\n",
    "    x = numpy.linspace(-1, 1, i)\n",
    "    V_x = numpy.vander(x)\n",
    "    y = numpy.linspace(-1, 1, 2 * i - 1)\n",
    "    V_y = numpy.vander(y)[:, i-1:]\n",
    "    \n",
    "    A = numpy.dot(V_y, numpy.linalg.inv(V_x))\n",
    "    N_mat.append(numpy.linalg.norm(A, ord=numpy.infty))\n",
    "    \n",
    "n_1 = numpy.arange(2, n+1)\n",
    "x = numpy.arange(1,n+1)\n",
    "\n",
    "plt.semilogy(x, N_mat,\"bx\",label=\"N\")\n",
    "plt.semilogy(n_1[0:], 2.0**n_1[0:] / (numpy.exp(1) * (n_1[0:] - 1.0) * numpy.log(n_1[0:])), label = 'Lebesgue constant')\n",
    "        \n",
    "plt.xlabel(\"N\")\n",
    "plt.ylabel(\"$||A||_\\infty$\")\n",
    "plt.legend()\n",
    "\n",
    "\n",
    "\n",
    "plt.show()"
   ]
  },
  {
   "cell_type": "code",
   "execution_count": 3,
   "id": "cbf02bd9",
   "metadata": {},
   "outputs": [
    {
     "name": "stderr",
     "output_type": "stream",
     "text": [
      "<ipython-input-3-9cee26b85c10>:15: RuntimeWarning: divide by zero encountered in true_divide\n",
      "  plt.semilogy(N[0:], 2.0**N[0:] / (numpy.exp(1) * (N[0:] - 1.0) * numpy.log(N[0:])), label = 'Lebesgue constant')\n"
     ]
    },
    {
     "data": {
      "image/png": "[encoded data removed]",
      "text/plain": [
       "<Figure size 432x288 with 1 Axes>"
      ]
     },
     "metadata": {
      "needs_background": "light"
     },
     "output_type": "display_data"
    }
   ],
   "source": [
    "n = 30\n",
    "N = numpy.arange(1,n+1)\n",
    "N_mat=[]\n",
    "for i in N:\n",
    "    x = numpy.linspace(-1, 1, i)\n",
    "    V_x = numpy.vander(x)\n",
    "    y = numpy.linspace(-1, 1, 2 * i - 1)\n",
    "    V_y = numpy.vander(y)[:, i-1:]\n",
    "    \n",
    "    A = numpy.dot(V_y, numpy.linalg.inv(V_x))\n",
    "    N_mat.append(numpy.linalg.norm(A, ord=numpy.infty))\n",
    "    \n",
    "\n",
    "plt.semilogy(N, N_mat,\"bx\",label=\"N\")     \n",
    "plt.semilogy(N[0:], 2.0**N[0:] / (numpy.exp(1) * (N[0:] - 1.0) * numpy.log(N[0:])), label = 'Lebesgue constant')\n",
    "\n",
    "plt.xlabel(\"N\")\n",
    "plt.ylabel(\"$||A||_\\infty$\")\n",
    "plt.legend()\n",
    "\n",
    "\n",
    "plt.show()"
   ]
  },
  {
   "cell_type": "markdown",
   "id": "6b916c2d",
   "metadata": {
    "deletable": false,
    "editable": false,
    "nbgrader": {
     "cell_type": "markdown",
     "checksum": "5080c22188b9741b79cbffa82875a70f",
     "grade": false,
     "grade_id": "cell-4762438551096464",
     "locked": true,
     "schema_version": 3,
     "solution": false
    }
   },
   "source": [
    "**(c)** [10] Derive a general way to compute the $\\infty$-norm condition number $\\kappa$ of the problem of interpolating the function $f(x) = 1$.  Plot the result for $n=1,2,\\ldots,30$ and $m=2n-1$.  Hint:  Use the expression we found involving the Jacobian."
   ]
  },
  {
   "cell_type": "markdown",
   "id": "504bad16",
   "metadata": {
    "deletable": false,
    "nbgrader": {
     "cell_type": "markdown",
     "checksum": "c5075d8382ae190ab10fed623b890ca2",
     "grade": true,
     "grade_id": "cell-2240156659521813",
     "locked": false,
     "points": 7,
     "schema_version": 3,
     "solution": true
    }
   },
   "source": [
    "$f(x) = \\mathcal{P}(x) = 1$, then for ${x_i}$\n",
    "\n",
    "$$\n",
    "Ax = \\begin{bmatrix}\n",
    "        1 \\\\\n",
    "        1 \\\\    \n",
    "        ... \\\\\n",
    "        1 \\\\        \n",
    "    \\end{bmatrix}.\n",
    "$$\n",
    "\n",
    "Thus, $||AA||_\\infty = ||x||_\\infty = 1$\n",
    "\n",
    "From the expression using the Jacobian:\n",
    "\n",
    "$$\n",
    "     \\kappa = ||J(x)||_\\infty \\times (\\frac{||Ax||_\\infty }{||x||_\\infty })^-1 =  ||J(x)||_\\infty\n",
    "$$\n",
    "\n",
    "As $||J(x)||_\\infty = ||A||_\\infty$:\n",
    "\n",
    "$$\n",
    "     \\kappa = ||A||_\\infty\n",
    "$$"
   ]
  },
  {
   "cell_type": "code",
   "execution_count": 4,
   "id": "91b3395f",
   "metadata": {
    "deletable": false,
    "nbgrader": {
     "cell_type": "code",
     "checksum": "1ff4358b354d82ed2efc1ddc9a68bc61",
     "grade": true,
     "grade_id": "cell-1916492016011003",
     "locked": false,
     "points": 3,
     "schema_version": 3,
     "solution": true
    }
   },
   "outputs": [
    {
     "data": {
      "text/plain": [
       "Text(0, 0.5, '$\\\\kappa$')"
      ]
     },
     "execution_count": 4,
     "metadata": {},
     "output_type": "execute_result"
    },
    {
     "data": {
      "image/png": "[encoded data removed]",
      "text/plain": [
       "<Figure size 432x288 with 1 Axes>"
      ]
     },
     "metadata": {
      "needs_background": "light"
     },
     "output_type": "display_data"
    }
   ],
   "source": [
    "n = 30\n",
    "N = numpy.arange(1,n+1)\n",
    "k_mat=[]\n",
    "for i in N:\n",
    "    x = numpy.linspace(-1, 1, i)\n",
    "    V_x = numpy.vander(x)\n",
    "    y = numpy.linspace(-1, 1, 2 * i - 1)\n",
    "    V_y = numpy.vander(y)[:, i-1:]\n",
    "    \n",
    "    k = numpy.linalg.norm(numpy.dot(V_y, numpy.linalg.inv(V_x)), ord=numpy.infty )\n",
    "    k_mat.append(k)\n",
    "plt.semilogy(N,k_mat)\n",
    "    \n",
    "\n",
    "plt.xlabel(\"N\")\n",
    "plt.ylabel(\"$\\kappa$\")\n"
   ]
  },
  {
   "cell_type": "markdown",
   "id": "a9b20b62",
   "metadata": {
    "deletable": false,
    "editable": false,
    "nbgrader": {
     "cell_type": "markdown",
     "checksum": "1d91c54c53459dc691e1b93f99556f6b",
     "grade": false,
     "grade_id": "cell-4391815592086616",
     "locked": true,
     "schema_version": 3,
     "solution": false
    }
   },
   "source": [
    "## Question 2 - LU Factorization\n",
    "\n",
    "Gaussian elimination is usually one of the first operations students learn in linear algebra but we seemed to have skipped it in lecture!  Let us fix that here in the homework.  Make sure to read the lecture on Gaussian elimination when doing this question."
   ]
  },
  {
   "cell_type": "markdown",
   "id": "fda6879b",
   "metadata": {
    "deletable": false,
    "editable": false,
    "nbgrader": {
     "cell_type": "markdown",
     "checksum": "2ff23417ed175fe360fd2001560e24a7",
     "grade": false,
     "grade_id": "cell-4624805096432302",
     "locked": true,
     "schema_version": 3,
     "solution": false
    }
   },
   "source": [
    "**(a)** [10] By hand compute the $LU$ factorization of the matrix\n",
    "$$\n",
    "    A = \\begin{bmatrix}\n",
    "        4 & 8 & 1 \\\\\n",
    "        8 & 20 & 4 \\\\\n",
    "        16 & 36 & 7\n",
    "    \\end{bmatrix}.\n",
    "$$\n",
    "Make sure to compute all the way to the matrix $L$, not the components of the inverse.  You do not have to worry about pivoting."
   ]
  },
  {
   "cell_type": "markdown",
   "id": "1a99db1b",
   "metadata": {
    "deletable": false,
    "nbgrader": {
     "cell_type": "markdown",
     "checksum": "ad40ac7876d1da2e7e05c9640e5024e4",
     "grade": true,
     "grade_id": "cell-3409237533613078",
     "locked": false,
     "points": 5,
     "schema_version": 3,
     "solution": true
    }
   },
   "source": [
    "$$\n",
    "    L = \\begin{bmatrix}\n",
    "        1 & 0 & 0 \\\\\n",
    "        2 & 1 & 0 \\\\\n",
    "        4 & * & 1\n",
    "    \\end{bmatrix}.\n",
    "$$\n",
    "\n",
    "$$\n",
    "    U = \\begin{bmatrix}\n",
    "        4 & 8 & 1 \\\\\n",
    "        0 & * & * \\\\\n",
    "        0 & 0 & *\n",
    "    \\end{bmatrix}.\n",
    "$$\n",
    "\n",
    "We then do $R_2 - 2R_1$\n",
    "and $R_3 - 4R_1$\n",
    "$$\n",
    "    U = \\begin{bmatrix}\n",
    "        4 & 8 & 1 \\\\\n",
    "        0 & 4 & 2 \\\\\n",
    "        0 & 0 & *\n",
    "    \\end{bmatrix}.\n",
    "$$\n",
    "\n",
    "$$\n",
    "    U = \\begin{bmatrix}\n",
    "        4 & 8 & 1 \\\\\n",
    "        0 & 4 & 2 \\\\\n",
    "        0 & 0 & 1\n",
    "    \\end{bmatrix}.\n",
    "$$\n",
    "\n",
    "We also do $R_3 - R_2$\n",
    "$$\n",
    "    L = \\begin{bmatrix}\n",
    "        1 & 0 & 0 \\\\\n",
    "        2 & 1 & 0 \\\\\n",
    "        4 & 1 & 1\n",
    "    \\end{bmatrix}.\n",
    "$$\n"
   ]
  },
  {
   "cell_type": "markdown",
   "id": "484d7ea3",
   "metadata": {
    "deletable": false,
    "editable": false,
    "nbgrader": {
     "cell_type": "markdown",
     "checksum": "68a708a0766774ae99539342a861b5e4",
     "grade": false,
     "grade_id": "cell-8575190023526182",
     "locked": true,
     "schema_version": 3,
     "solution": false
    }
   },
   "source": [
    "**(b)** [10] Write a function that computes the $LU$ factorization of a given matrix $A \\in \\mathbb R^{n \\times n}$ without using `numpy` or `scipy` packages.  Make sure to also return the pivoting matrix, i.e. compute the matrices $P$, $L$, and $U$ where\n",
    "$$\n",
    "    P A = L U.\n",
    "$$\n",
    "Note that the provided function `swap_rows` may be useful although you do not have to use it.  You may also want to use the example in the notes to test your basic algorithm with (i.e. `A = numpy.array([[2, 1, 1, 0], [4, 3, 3, 1], [8, 7, 9, 5], [6, 7, 9, 8]], dtype=float)` noting that the algorithm will complain without the casting to `float`)."
   ]
  },
  {
   "cell_type": "code",
   "execution_count": 5,
   "id": "f0e28404",
   "metadata": {
    "deletable": false,
    "nbgrader": {
     "cell_type": "code",
     "checksum": "b625e9fc9a9088ab645b250b412e40ef",
     "grade": false,
     "grade_id": "cell-3416177524508008",
     "locked": false,
     "schema_version": 3,
     "solution": true
    }
   },
   "outputs": [],
   "source": [
    "def swap_rows(i, j, A, column_indices=None):\n",
    "    r\"\"\"\n",
    "    Swap the ith and jth rows of the matrix A in place\n",
    "    \n",
    "    Optional argument column_indices is a tuple that controls \n",
    "    the columns being swapped.  Defaults to the entire row.\n",
    "    \"\"\"\n",
    "    if column_indices is None:\n",
    "        column_indices = (0, A.shape[0])\n",
    "    \n",
    "    pivot_row = A[i, column_indices[0]:column_indices[1]].copy()\n",
    "    A[i, column_indices[0]:column_indices[1]] = A[j, column_indices[0]:column_indices[1]]\n",
    "    A[j, column_indices[0]:column_indices[1]] = pivot_row\n",
    "\n",
    "\n",
    "def LU_factorization(A):\n",
    "    # YOUR CODE HERE\n",
    "    U = A.copy()\n",
    "    L = numpy.identity(A.shape[0])\n",
    "    P = numpy.identity(A.shape[0])\n",
    "    for n in range(A.shape[0]):\n",
    "        pivot_i = numpy.argmax(numpy.abs(U[n:, n])) + n\n",
    "       \n",
    "        swap_rows(pivot_i, n, U, column_indices=(n, A.shape[0]))\n",
    "        swap_rows(pivot_i, n, L, column_indices=(0, n))\n",
    "        swap_rows(pivot_i, n, P)\n",
    "\n",
    "        for j in range(n + 1, A.shape[0]):\n",
    "            L[j, n] = U[j, n] / U[n, n]\n",
    "            U[j, n:A.shape[0]] = U[j, n:A.shape[0]] - L[j, n] * U[n, n:A.shape[0]]\n",
    "\n",
    "    return P, L, U"
   ]
  },
  {
   "cell_type": "code",
   "execution_count": 6,
   "id": "3e79b51d",
   "metadata": {
    "deletable": false,
    "editable": false,
    "nbgrader": {
     "cell_type": "code",
     "checksum": "14b57bfa1deee8a6c0e6c5514a5fdadb",
     "grade": true,
     "grade_id": "cell-9410005352958010",
     "locked": true,
     "points": 10,
     "schema_version": 3,
     "solution": false
    }
   },
   "outputs": [
    {
     "name": "stdout",
     "output_type": "stream",
     "text": [
      "Success!\n"
     ]
    }
   ],
   "source": [
    "import scipy.linalg\n",
    "# A = numpy.array([[2, 1, 1, 0], [4, 3, 3, 1], [8, 7, 9, 5], [6, 7, 9, 8]], dtype=float)\n",
    "A = numpy.random.uniform(low=1.0, high=10.0, size=(25, 25))\n",
    "P, L, U = LU_factorization(A)\n",
    "P_s, L_s, U_s = scipy.linalg.lu(A)\n",
    "numpy.testing.assert_allclose(P, numpy.linalg.inv(P_s))\n",
    "numpy.testing.assert_allclose(L, L_s)\n",
    "numpy.testing.assert_allclose(U, U_s, atol=1e-8)\n",
    "print(\"Success!\")"
   ]
  },
  {
   "cell_type": "markdown",
   "id": "f033476f",
   "metadata": {
    "deletable": false,
    "editable": false,
    "nbgrader": {
     "cell_type": "markdown",
     "checksum": "8482bb4fe26eb5f0c27446ffbcc9f0b0",
     "grade": false,
     "grade_id": "cell-6331285623355538",
     "locked": true,
     "schema_version": 3,
     "solution": false
    }
   },
   "source": [
    "**(c)** [10] For this question write a function that solves the system $A x = b$ given an $A$ and $b$ using your $LU$ factorization function and the pivot matrix.  Again do not use any of the functions from `numpy` or `scipy` other than to check your solution."
   ]
  },
  {
   "cell_type": "code",
   "execution_count": 7,
   "id": "5b4d89f0",
   "metadata": {
    "deletable": false,
    "nbgrader": {
     "cell_type": "code",
     "checksum": "44e941df853d799ed4341c7f51138f55",
     "grade": false,
     "grade_id": "cell-9695927972933496",
     "locked": false,
     "schema_version": 3,
     "solution": true
    }
   },
   "outputs": [],
   "source": [
    "def solve(A, b):\n",
    "    P, L, U = LU_factorization(A)\n",
    "    \n",
    "    #first pivot L\n",
    "    y = []\n",
    "    y_matrix = P*b\n",
    "    for n in range(len(b)):\n",
    "        y.append(max(y_matrix[n]))\n",
    "    \n",
    "    #perform forward substitution with L\n",
    "    y = f_sub(L, y)\n",
    "    #perform backward substitution with U\n",
    "    x = b_sub(U, y)    \n",
    "    \n",
    "    return x\n",
    "\n",
    "def f_sub(L, b):\n",
    "    y = b\n",
    "    for i in range(L.shape[0]):\n",
    "        for j in range(i):\n",
    "            y[i] = b[i] - L[i,j]*b[j]    \n",
    "    return y\n",
    "\n",
    "def b_sub(U, b):\n",
    "    x = b\n",
    "    for i in range(U.shape[0]-1,-1,-1):\n",
    "        for j in range(i+1, U.shape[0]):\n",
    "            x[i] -= U[i,j]*b[j]\n",
    "        x[i] = x[i]/U[i,i]\n",
    "    return x"
   ]
  },
  {
   "cell_type": "code",
   "execution_count": 8,
   "id": "1bbb78b9",
   "metadata": {
    "deletable": false,
    "editable": false,
    "nbgrader": {
     "cell_type": "code",
     "checksum": "1b3e93539cffda4b4e9d47fee4353eb3",
     "grade": true,
     "grade_id": "cell-9290228235952792",
     "locked": true,
     "points": 10,
     "schema_version": 3,
     "solution": false
    }
   },
   "outputs": [
    {
     "name": "stdout",
     "output_type": "stream",
     "text": [
      "Success!\n"
     ]
    }
   ],
   "source": [
    "m = 10\n",
    "A = numpy.random.uniform(size=(m, m))\n",
    "b = numpy.random.uniform(size=(m))\n",
    "x = solve(A, b)\n",
    "x_n = numpy.linalg.solve(A, b)\n",
    "numpy.testing.assert_allclose(x, x_n)\n",
    "print(\"Success!\")"
   ]
  },
  {
   "cell_type": "markdown",
   "id": "ed39df6b",
   "metadata": {
    "deletable": false,
    "editable": false,
    "nbgrader": {
     "cell_type": "markdown",
     "checksum": "e67a9a9500c0e3a9750039fb30c76172",
     "grade": false,
     "grade_id": "cell-481593993242207",
     "locked": true,
     "schema_version": 3,
     "solution": false
    }
   },
   "source": [
    "## Question 3\n",
    "\n",
    "Consider the system of equations $Ax = b$ defined by\n",
    "$$A = \\begin{bmatrix}\n",
    "        0.780 & 0.563 \\\\\n",
    "        0.913 & 0.659 \n",
    "    \\end{bmatrix}\n",
    "    \\quad \\text{and} \\quad \n",
    "    b = \\begin{bmatrix}\n",
    "        0.217 \\\\\n",
    "        0.254 \n",
    "    \\end{bmatrix}.\n",
    "$$\n",
    "The true solution of this system is $$x^T = [1, -1]$$.  Consider for the following questions the approximate solutions\n",
    "$$\n",
    "    x^T_1 = [0.999, -1.001] \\quad \\text{and} \\quad x^T_2 = [0.341, -0.087]\n",
    "$$\n",
    "and define the residual $r(y)$ as\n",
    "$$\n",
    "    r(y) = b - A y.\n",
    "$$"
   ]
  },
  {
   "cell_type": "markdown",
   "id": "9320bda9",
   "metadata": {
    "deletable": false,
    "editable": false,
    "nbgrader": {
     "cell_type": "markdown",
     "checksum": "059be8bfac0547bee6d1e4e03d122f55",
     "grade": false,
     "grade_id": "cell-890606747676466",
     "locked": true,
     "schema_version": 3,
     "solution": false
    }
   },
   "source": [
    "**(a)** [10] Compute the residuals (you may use `numpy`) $||r(x_1)||$ and $||r(x_2)||$ for the two approximate solutions using a couple of different norms.  Does the more accurate solution have a smaller residual?  Does it matter which norm you use?"
   ]
  },
  {
   "cell_type": "code",
   "execution_count": 9,
   "id": "217260c5",
   "metadata": {
    "deletable": false,
    "nbgrader": {
     "cell_type": "code",
     "checksum": "ba25cea086694fe96ca70bc434b808a3",
     "grade": true,
     "grade_id": "cell-4148931275843056",
     "locked": false,
     "points": 10,
     "schema_version": 3,
     "solution": true
    }
   },
   "outputs": [
    {
     "name": "stdout",
     "output_type": "stream",
     "text": [
      "r(x1) norms: 1-norm = 0.0029149999999999177, 2-norm = 0.002067566927574483, inf-norm = 0.0015720000000000178\n",
      "r(x2) norms: 1-norm = 9.99999999945489e-07, 2-norm = 9.99999999945489e-07, inf-norm = 9.99999999945489e-07\n"
     ]
    }
   ],
   "source": [
    "A = numpy.matrix([[0.780, 0.563], [0.913, 0.659]])\n",
    "b = numpy.matrix([0.217, 0.254]).T\n",
    "\n",
    "x1 = numpy.matrix([0.999, -1.001]).T\n",
    "x2 = numpy.matrix([0.341, -0.087]).T\n",
    "\n",
    "r1 = b - numpy.dot(A, x1)\n",
    "r2 = b - numpy.dot(A, x2)\n",
    "\n",
    "print(\"r(x1) norms: 1-norm = {}, 2-norm = {}, inf-norm = {}\"\n",
    "      .format(numpy.linalg.norm(r1, 1), numpy.linalg.norm(r1, 2), numpy.linalg.norm(r1, numpy.inf)))\n",
    "print(\"r(x2) norms: 1-norm = {}, 2-norm = {}, inf-norm = {}\"\n",
    "      .format(numpy.linalg.norm(r2, 1), numpy.linalg.norm(r2, 2), numpy.linalg.norm(r2, numpy.inf)))"
   ]
  },
  {
   "cell_type": "markdown",
   "id": "1bbf35fe",
   "metadata": {
    "deletable": false,
    "nbgrader": {
     "cell_type": "markdown",
     "checksum": "8bde75b6257de59d3f4d328ca2e205a3",
     "grade": true,
     "grade_id": "cell-369737136797174",
     "locked": false,
     "points": 0,
     "schema_version": 3,
     "solution": true
    }
   },
   "source": [
    "$r(x_2)$ has smaller residuals regardless of norm compared to $r(x_1)$"
   ]
  },
  {
   "cell_type": "markdown",
   "id": "133ea502",
   "metadata": {
    "deletable": false,
    "editable": false,
    "nbgrader": {
     "cell_type": "markdown",
     "checksum": "b5fb2f6dde6326184666f70ce8d7dc92",
     "grade": false,
     "grade_id": "cell-4807436545966871",
     "locked": true,
     "schema_version": 3,
     "solution": false
    }
   },
   "source": [
    "**(b)** [10] Compute $||A||$, $||A^{-1}||$ and the condition number $\\kappa(A)$ of the matrix using the $L_2$ and $L_\\infty$ norms.  Again you can use `numpy`."
   ]
  },
  {
   "cell_type": "code",
   "execution_count": 10,
   "id": "8f1bd511",
   "metadata": {
    "deletable": false,
    "nbgrader": {
     "cell_type": "code",
     "checksum": "02619631db1363e3745333ad365e2045",
     "grade": true,
     "grade_id": "cell-2984656588126720",
     "locked": false,
     "points": 10,
     "schema_version": 3,
     "solution": true
    }
   },
   "outputs": [
    {
     "name": "stdout",
     "output_type": "stream",
     "text": [
      "A norms: L2 norm = 1.4809520586432041, Linf norm = 1.572\n",
      "A inv norms: L2 norm = 1480952.0584615201, Linf norm = 1692999.9997923018\n",
      "condition number: L2 norm = 2193218.999730479, Linf norm = 2661395.9996734983\n"
     ]
    }
   ],
   "source": [
    "A = numpy.matrix([[0.780, 0.563], [0.913, 0.659]])\n",
    "A_i = numpy.linalg.inv(A)\n",
    "\n",
    "A_l2 = numpy.linalg.norm(A, 2)\n",
    "A_linf = numpy.linalg.norm(A, numpy.inf)\n",
    "A_i_l2 = numpy.linalg.norm(A_i, 2)\n",
    "A_i_linf = numpy.linalg.norm(A_i, numpy.inf)\n",
    "\n",
    "print(\"A norms: L2 norm = {}, Linf norm = {}\".format(A_l2, A_linf))\n",
    "print(\"A inv norms: L2 norm = {}, Linf norm = {}\".format(A_i_l2, A_i_linf))\n",
    "print(\"condition number: L2 norm = {}, Linf norm = {}\".format(A_l2 * A_i_l2, A_linf * A_i_linf))"
   ]
  },
  {
   "cell_type": "markdown",
   "id": "2c137052",
   "metadata": {
    "deletable": false,
    "editable": false,
    "nbgrader": {
     "cell_type": "markdown",
     "checksum": "bbaf3f142dd9ac7180bd709b89e2ebc7",
     "grade": false,
     "grade_id": "cell-3323809285287131",
     "locked": true,
     "schema_version": 3,
     "solution": false
    }
   },
   "source": [
    "**(c)** [15] Explain the behavior from part (a) using the results of part (b) discussing how condition numbers play a role in the problem above.  Hint:  Think about the problem where only the vector $x$ is perturbed by some small amount $\\delta x$"
   ]
  },
  {
   "cell_type": "markdown",
   "id": "5bda4783",
   "metadata": {
    "deletable": false,
    "nbgrader": {
     "cell_type": "markdown",
     "checksum": "fc79c68133e82e81e21979830d1efb42",
     "grade": true,
     "grade_id": "cell-7651467702406266",
     "locked": false,
     "points": 15,
     "schema_version": 3,
     "solution": true
    }
   },
   "source": [
    "The conidition number of A is substantailly greater than the magnitude of perturbations from part a, meaning that Ax and the residuals change significantly for a small change in input $x_1$. The $x_2$ results in smaller residuals as it may be better to be above the true solution than below it when findiing a solution. "
   ]
  },
  {
   "cell_type": "code",
   "execution_count": null,
   "id": "01f6d205",
   "metadata": {},
   "outputs": [],
   "source": []
  }
 ],
 "metadata": {
  "kernelspec": {
   "display_name": "Python 3",
   "language": "python",
   "name": "python3"
  },
  "language_info": {
   "codemirror_mode": {
    "name": "ipython",
    "version": 3
   },
   "file_extension": ".py",
   "mimetype": "text/x-python",
   "name": "python",
   "nbconvert_exporter": "python",
   "pygments_lexer": "ipython3",
   "version": "3.8.8"
  },
  "latex_envs": {
   "bibliofile": "biblio.bib",
   "cite_by": "apalike",
   "current_citInitial": 1,
   "eqLabelWithNumbers": true,
   "eqNumInitial": 0
  }
 },
 "nbformat": 4,
 "nbformat_minor": 5
}
